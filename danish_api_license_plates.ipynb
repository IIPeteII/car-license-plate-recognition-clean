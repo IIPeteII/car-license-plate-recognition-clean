{
 "cells": [
  {
   "cell_type": "markdown",
   "metadata": {},
   "source": [
    "# Import libraries"
   ]
  },
  {
   "cell_type": "code",
   "execution_count": 1,
   "metadata": {},
   "outputs": [],
   "source": [
    "#COMMON \n",
    "\n",
    "#API\n",
    "import http.client\n",
    "import json"
   ]
  },
  {
   "cell_type": "markdown",
   "metadata": {},
   "source": [
    "# Create input plate"
   ]
  },
  {
   "cell_type": "code",
   "execution_count": 2,
   "metadata": {},
   "outputs": [
    {
     "name": "stdout",
     "output_type": "stream",
     "text": [
      "/vehicles?registration_number=AH64927\n"
     ]
    }
   ],
   "source": [
    "input_plate = \"AH64927\" #Create variable from model\n",
    "link = \"/vehicles?registration_number={}\".format(input_plate)\n",
    "print (link)"
   ]
  },
  {
   "cell_type": "markdown",
   "metadata": {},
   "source": [
    "# API-script"
   ]
  },
  {
   "cell_type": "code",
   "execution_count": 3,
   "metadata": {},
   "outputs": [
    {
     "name": "stdout",
     "output_type": "stream",
     "text": [
      "[\n",
      "    {\n",
      "        \"registration_number\": \"AH64927\",\n",
      "        \"status\": \"Registreret\",\n",
      "        \"status_date\": \"2013-09-09T14:10:17.000+02:00\",\n",
      "        \"type\": \"Personbil\",\n",
      "        \"use\": \"Privat personk\\u00f8rsel\",\n",
      "        \"first_registration\": \"2013-09-09+02:00\",\n",
      "        \"vin\": \"W0L0SDL68D4132189\",\n",
      "        \"own_weight\": null,\n",
      "        \"cerb_weight\": 1163,\n",
      "        \"total_weight\": 1585,\n",
      "        \"axels\": 2,\n",
      "        \"pulling_axels\": 1,\n",
      "        \"seats\": 5,\n",
      "        \"coupling\": false,\n",
      "        \"trailer_maxweight_nobrakes\": 500,\n",
      "        \"trailer_maxweight_withbrakes\": 500,\n",
      "        \"doors\": 4,\n",
      "        \"make\": \"OPEL\",\n",
      "        \"model\": \"CORSA\",\n",
      "        \"variant\": \"1,0 5-d\\u00f8rs\",\n",
      "        \"model_type\": \"S-D\",\n",
      "        \"model_year\": 2013,\n",
      "        \"color\": \"Sort\",\n",
      "        \"chassis_type\": \"MPV\",\n",
      "        \"engine_cylinders\": 3,\n",
      "        \"engine_volume\": 998,\n",
      "        \"engine_power\": 48,\n",
      "        \"fuel_type\": \"Benzin\",\n",
      "        \"registration_zipcode\": \"\",\n",
      "        \"vehicle_id\": 9000000000498926,\n",
      "        \"mot_info\": {\n",
      "            \"type\": \"PeriodiskSyn\",\n",
      "            \"date\": \"2021-09-22\",\n",
      "            \"result\": \"Godkendt\",\n",
      "            \"status\": \"Aktiv\",\n",
      "            \"status_date\": \"2021-09-22\",\n",
      "            \"mileage\": 210\n",
      "        },\n",
      "        \"is_leasing\": false,\n",
      "        \"leasing_from\": null,\n",
      "        \"leasing_to\": null\n",
      "    }\n",
      "]\n"
     ]
    }
   ],
   "source": [
    "conn = http.client.HTTPSConnection(\"v1.motorapi.dk\")\n",
    "payload = ''\n",
    "headers = {\n",
    "  'X-AUTH-TOKEN': 'gq59xnw6jombh3vpiuvv0lzfh8h7df36'\n",
    "}\n",
    "conn.request(\"GET\", link , payload, headers) #We add the link to automate the process of connecting the car plate number with the API\n",
    "res = conn.getresponse()\n",
    "data = res.read()\n",
    "print(data.decode(\"utf-8\"))"
   ]
  },
  {
   "cell_type": "code",
   "execution_count": 4,
   "metadata": {},
   "outputs": [
    {
     "name": "stdout",
     "output_type": "stream",
     "text": [
      "[\n",
      "    {\n",
      "        \"registration_number\": \"AH64927\",\n",
      "        \"status\": \"Registreret\",\n",
      "        \"status_date\": \"2013-09-09T14:10:17.000+02:00\",\n",
      "        \"type\": \"Personbil\",\n",
      "        \"use\": \"Privat personk\\u00f8rsel\",\n",
      "        \"first_registration\": \"2013-09-09+02:00\",\n",
      "        \"vin\": \"W0L0SDL68D4132189\",\n",
      "        \"own_weight\": null,\n",
      "        \"cerb_weight\": 1163,\n",
      "        \"total_weight\": 1585,\n",
      "        \"axels\": 2,\n",
      "        \"pulling_axels\": 1,\n",
      "        \"seats\": 5,\n",
      "        \"coupling\": false,\n",
      "        \"trailer_maxweight_nobrakes\": 500,\n",
      "        \"trailer_maxweight_withbrakes\": 500,\n",
      "        \"doors\": 4,\n",
      "        \"make\": \"OPEL\",\n",
      "        \"model\": \"CORSA\",\n",
      "        \"variant\": \"1,0 5-d\\u00f8rs\",\n",
      "        \"model_type\": \"S-D\",\n",
      "        \"model_year\": 2013,\n",
      "        \"color\": \"Sort\",\n",
      "        \"chassis_type\": \"MPV\",\n",
      "        \"engine_cylinders\": 3,\n",
      "        \"engine_volume\": 998,\n",
      "        \"engine_power\": 48,\n",
      "        \"fuel_type\": \"Benzin\",\n",
      "        \"registration_zipcode\": \"\",\n",
      "        \"vehicle_id\": 9000000000498926,\n",
      "        \"mot_info\": {\n",
      "            \"type\": \"PeriodiskSyn\",\n",
      "            \"date\": \"2021-09-22\",\n",
      "            \"result\": \"Godkendt\",\n",
      "            \"status\": \"Aktiv\",\n",
      "            \"status_date\": \"2021-09-22\",\n",
      "            \"mileage\": 210\n",
      "        },\n",
      "        \"is_leasing\": false,\n",
      "        \"leasing_from\": null,\n",
      "        \"leasing_to\": null\n",
      "    }\n",
      "]\n",
      "- - - - - - - - - - - - - - - - - - - - \n"
     ]
    }
   ],
   "source": [
    "my_json = data.decode('utf8').replace(\"'\", '\"')\n",
    "print(my_json)\n",
    "print('- ' * 20)\n",
    "\n",
    "# Load the JSON to a Python list & dump it back out as formatted JSON\n",
    "data = json.loads(my_json)\n",
    "s = json.dumps(data, indent=4, sort_keys=True)"
   ]
  },
  {
   "cell_type": "code",
   "execution_count": 5,
   "metadata": {},
   "outputs": [],
   "source": [
    "d1=dict(enumerate(data))"
   ]
  },
  {
   "cell_type": "code",
   "execution_count": 6,
   "metadata": {},
   "outputs": [],
   "source": [
    "car_type = (f\"{(data[0]['make'])} {(data[0]['model'])} {(data[0]['first_registration'])}\")"
   ]
  },
  {
   "cell_type": "code",
   "execution_count": 7,
   "metadata": {},
   "outputs": [],
   "source": [
    "car_year = data[0]['first_registration']"
   ]
  },
  {
   "cell_type": "code",
   "execution_count": 8,
   "metadata": {},
   "outputs": [],
   "source": [
    "car_year2 = car_year[:4]\n",
    "car_year = car_year2"
   ]
  },
  {
   "cell_type": "code",
   "execution_count": 9,
   "metadata": {},
   "outputs": [],
   "source": [
    "car_type = (f\"{(data[0]['make'])} {(data[0]['model'])} {car_year}\")"
   ]
  },
  {
   "cell_type": "code",
   "execution_count": 11,
   "metadata": {},
   "outputs": [
    {
     "name": "stdout",
     "output_type": "stream",
     "text": [
      "opel corsa 2013\n"
     ]
    }
   ],
   "source": [
    "car_type = car_type.lower()\n",
    "print(car_type)"
   ]
  }
 ],
 "metadata": {
  "kernelspec": {
   "display_name": "Python 3.10.8 ('.venv': venv)",
   "language": "python",
   "name": "python3"
  },
  "language_info": {
   "codemirror_mode": {
    "name": "ipython",
    "version": 3
   },
   "file_extension": ".py",
   "mimetype": "text/x-python",
   "name": "python",
   "nbconvert_exporter": "python",
   "pygments_lexer": "ipython3",
   "version": "3.10.8"
  },
  "orig_nbformat": 4,
  "vscode": {
   "interpreter": {
    "hash": "5ab9fb6a2bd0e070872031f19f584830d107e4c85255cd3ec8302672fc4f3dfa"
   }
  }
 },
 "nbformat": 4,
 "nbformat_minor": 2
}
