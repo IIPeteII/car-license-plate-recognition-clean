{
 "cells": [
  {
   "cell_type": "markdown",
   "metadata": {},
   "source": [
    "# Import libraries"
   ]
  },
  {
   "cell_type": "code",
   "execution_count": 1,
   "metadata": {},
   "outputs": [],
   "source": [
    "#COMMON \n",
    "\n",
    "#API\n",
    "import http.client"
   ]
  },
  {
   "cell_type": "markdown",
   "metadata": {},
   "source": [
    "# Create input plate"
   ]
  },
  {
   "cell_type": "code",
   "execution_count": 8,
   "metadata": {},
   "outputs": [
    {
     "name": "stdout",
     "output_type": "stream",
     "text": [
      "/vehicles?registration_number=AH64927\n"
     ]
    }
   ],
   "source": [
    "input_plate = \"AH64927\" #Create variable from model\n",
    "link = \"/vehicles?registration_number={}\".format(input_plate)\n",
    "print (link)"
   ]
  },
  {
   "cell_type": "markdown",
   "metadata": {},
   "source": [
    "# API-script"
   ]
  },
  {
   "cell_type": "code",
   "execution_count": 24,
   "metadata": {},
   "outputs": [
    {
     "name": "stdout",
     "output_type": "stream",
     "text": [
      "[\n",
      "    {\n",
      "        \"registration_number\": \"ah64927\",\n",
      "        \"status\": \"registreret\",\n",
      "        \"status_date\": \"2013-09-09t14:10:17.000+02:00\",\n",
      "        \"type\": \"personbil\",\n",
      "        \"use\": \"privat personk\\u00f8rsel\",\n",
      "        \"first_registration\": \"2013-09-09+02:00\",\n",
      "        \"vin\": \"w0l0sdl68d4132189\",\n",
      "        \"own_weight\": null,\n",
      "        \"cerb_weight\": 1163,\n",
      "        \"total_weight\": 1585,\n",
      "        \"axels\": 2,\n",
      "        \"pulling_axels\": 1,\n",
      "        \"seats\": 5,\n",
      "        \"coupling\": false,\n",
      "        \"trailer_maxweight_nobrakes\": 500,\n",
      "        \"trailer_maxweight_withbrakes\": 500,\n",
      "        \"doors\": 4,\n",
      "        \"make\": \"opel\",\n",
      "        \"model\": \"corsa\",\n",
      "        \"variant\": \"1,0 5-d\\u00f8rs\",\n",
      "        \"model_type\": \"s-d\",\n",
      "        \"model_year\": 2013,\n",
      "        \"color\": \"sort\",\n",
      "        \"chassis_type\": \"mpv\",\n",
      "        \"engine_cylinders\": 3,\n",
      "        \"engine_volume\": 998,\n",
      "        \"engine_power\": 48,\n",
      "        \"fuel_type\": \"benzin\",\n",
      "        \"registration_zipcode\": \"\",\n",
      "        \"vehicle_id\": 9000000000498926,\n",
      "        \"mot_info\": {\n",
      "            \"type\": \"periodisksyn\",\n",
      "            \"date\": \"2021-09-22\",\n",
      "            \"result\": \"godkendt\",\n",
      "            \"status\": \"aktiv\",\n",
      "            \"status_date\": \"2021-09-22\",\n",
      "            \"mileage\": 210\n",
      "        },\n",
      "        \"is_leasing\": false,\n",
      "        \"leasing_from\": null,\n",
      "        \"leasing_to\": null\n",
      "    }\n",
      "]\n"
     ]
    }
   ],
   "source": [
    "conn = http.client.HTTPSConnection(\"v1.motorapi.dk\")\n",
    "payload = ''\n",
    "headers = {\n",
    "  'X-AUTH-TOKEN': 'gq59xnw6jombh3vpiuvv0lzfh8h7df36'\n",
    "}\n",
    "conn.request(\"GET\", link , payload, headers)\n",
    "res = conn.getresponse()\n",
    "data = res.read()\n",
    "data = data.decode('utf-8')\n",
    "data = data.lower()\n",
    "print(data)"
   ]
  },
  {
   "cell_type": "code",
   "execution_count": null,
   "metadata": {},
   "outputs": [],
   "source": []
  }
 ],
 "metadata": {
  "kernelspec": {
   "display_name": "Python 3.10.8 ('.venv': venv)",
   "language": "python",
   "name": "python3"
  },
  "language_info": {
   "codemirror_mode": {
    "name": "ipython",
    "version": 3
   },
   "file_extension": ".py",
   "mimetype": "text/x-python",
   "name": "python",
   "nbconvert_exporter": "python",
   "pygments_lexer": "ipython3",
   "version": "3.10.8"
  },
  "orig_nbformat": 4,
  "vscode": {
   "interpreter": {
    "hash": "e2c4e072029895179d2bd1af9d08adbbeed1e3bc00e547110d945ee14416cf0e"
   }
  }
 },
 "nbformat": 4,
 "nbformat_minor": 2
}
