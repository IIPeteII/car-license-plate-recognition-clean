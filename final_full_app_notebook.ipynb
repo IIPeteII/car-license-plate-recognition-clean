{
 "cells": [
  {
   "cell_type": "markdown",
   "metadata": {},
   "source": [
    "# Import libraries"
   ]
  },
  {
   "cell_type": "code",
   "execution_count": 95,
   "metadata": {},
   "outputs": [],
   "source": [
    "#COMMON\n",
    "import matplotlib.pyplot as plt\n",
    "import numpy as np\n",
    "import pandas as pd\n",
    "import cv2\n",
    "import datetime\n",
    "import http.client\n",
    "import json\n",
    "import altair as alt\n",
    "import altair_viewer\n",
    "import os\n",
    "from PIL import Image\n",
    "from pathlib import Path\n",
    "from matplotlib.patches import Rectangle\n",
    "from scipy.io import loadmat\n",
    "\n",
    "#ML\n",
    "import tensorflow as tf\n",
    "from keras.preprocessing.image import ImageDataGenerator\n",
    "from keras.models import Sequential\n",
    "from keras.layers import Dense, Flatten, MaxPooling2D, Dropout, Conv2D\n",
    "from keras import optimizers"
   ]
  },
  {
   "cell_type": "markdown",
   "metadata": {},
   "source": [
    "# Create extraction function"
   ]
  },
  {
   "cell_type": "code",
   "execution_count": 14,
   "metadata": {},
   "outputs": [],
   "source": [
    "def extract_plate(img): # the function detects and perfors blurring on the number plate.\n",
    "\tplate_img = img.copy()\n",
    "\t\n",
    "\t#Loads the data required for detecting the license plates from cascade classifier.\n",
    "\tplate_cascade = cv2.CascadeClassifier('indian_license_plate.xml')\n",
    "\n",
    "\t# detects numberplates and returns the coordinates and dimensions of detected license plate's contours.\n",
    "\tplate_rect = plate_cascade.detectMultiScale(plate_img, scaleFactor = 1.3, minNeighbors = 7)\n",
    "\n",
    "\tfor (x,y,w,h) in plate_rect:\n",
    "\t\t#a,b = (int(0.02*img.shape[0]), int(0.025*img.shape[1])) #parameter tuning #Check this later!\n",
    "\t\t#plate = plate_img[y+a:y+h-a, x+b:x+w-b, :]\n",
    "\t\tplate = plate_img[y:y+h, x:x+w, :] #don't need the parameter tuning stuff\n",
    "\t\t# finally representing the detected contours by drawing rectangles around the edges.\n",
    "\t\tcv2.rectangle(plate_img, (x,y), (x+w, y+h), (51,51,255), 3)\n",
    "        \n",
    "\treturn plate_img, plate # returning the processed image."
   ]
  },
  {
   "cell_type": "markdown",
   "metadata": {},
   "source": [
    "# Apply extraction function"
   ]
  },
  {
   "cell_type": "code",
   "execution_count": 15,
   "metadata": {},
   "outputs": [],
   "source": [
    "dk_test_img = cv2.imread(r\"C:\\Users\\Peter\\Documents\\GitHub\\car-license-plate-recognition-clean\\car-pictures\\AJ13870_back.jpg\")\n",
    "plate_img_out, plate_out = extract_plate(dk_test_img)\n",
    "\n",
    "#cv2.imshow(\"somethingsomethingdkimg\", plate_img_out)\n",
    "#cv2.waitKey(0) \n",
    "#cv2.imshow(\"somethingsomethingdkimg\", plate_out)\n",
    "#cv2.waitKey(0)\n",
    "#cv2.destroyAllWindows()"
   ]
  },
  {
   "cell_type": "markdown",
   "metadata": {},
   "source": [
    "# Match contours to license plate"
   ]
  },
  {
   "cell_type": "code",
   "execution_count": 16,
   "metadata": {},
   "outputs": [],
   "source": [
    "# Match contours to license plate or character template\n",
    "def find_contours(dimensions, img) :\n",
    "\n",
    "    # Find all contours in the image\n",
    "    cntrs, _ = cv2.findContours(img.copy(), cv2.RETR_TREE, cv2.CHAIN_APPROX_SIMPLE)\n",
    "\n",
    "    # Retrieve potential dimensions\n",
    "    lower_width = dimensions[0]\n",
    "    upper_width = dimensions[1]\n",
    "    lower_height = dimensions[2]\n",
    "    upper_height = dimensions[3]\n",
    "    \n",
    "    # Check largest 5 or  15 contours for license plate or character respectively\n",
    "    cntrs = sorted(cntrs, key=cv2.contourArea, reverse=True)[:15]\n",
    "    \n",
    "    ii = cv2.imread('contour.jpg')\n",
    "    \n",
    "    x_cntr_list = []\n",
    "    target_contours = []\n",
    "    img_res = []\n",
    "    for cntr in cntrs :\n",
    "        #detects contour in binary image and returns the coordinates of rectangle enclosing it\n",
    "        intX, intY, intWidth, intHeight = cv2.boundingRect(cntr)\n",
    "        \n",
    "        #checking the dimensions of the contour to filter out the characters by contour's size\n",
    "        if intWidth > lower_width and intWidth < upper_width and intHeight > lower_height and intHeight < upper_height :\n",
    "            x_cntr_list.append(intX) #stores the x coordinate of the character's contour, to used later for indexing the contours\n",
    "\n",
    "            char_copy = np.zeros((44,24))\n",
    "            #extracting each character using the enclosing rectangle's coordinates.\n",
    "            char = img[intY:intY+intHeight, intX:intX+intWidth]\n",
    "            char = cv2.resize(char, (20, 40))\n",
    "            \n",
    "            cv2.rectangle(ii, (intX,intY), (intWidth+intX, intY+intHeight), (50,21,200), 2)\n",
    "            plt.imshow(ii, cmap='gray')\n",
    "\n",
    "#             Make result formatted for classification: invert colors\n",
    "            char = cv2.subtract(255, char)\n",
    "\n",
    "            # Resize the image to 24x44 with black border\n",
    "            char_copy[2:42, 2:22] = char\n",
    "            char_copy[0:2, :] = 0\n",
    "            char_copy[:, 0:2] = 0\n",
    "            char_copy[42:44, :] = 0\n",
    "            char_copy[:, 22:24] = 0\n",
    "\n",
    "            img_res.append(char_copy) #List that stores the character's binary image (unsorted)\n",
    "            \n",
    "    #Return characters on ascending order with respect to the x-coordinate (most-left character first)\n",
    "            \n",
    "    plt.show()\n",
    "    #arbitrary function that stores sorted list of character indeces\n",
    "    indices = sorted(range(len(x_cntr_list)), key=lambda k: x_cntr_list[k])\n",
    "    img_res_copy = []\n",
    "    for idx in indices:\n",
    "        img_res_copy.append(img_res[idx])# stores character images according to their index\n",
    "    img_res = np.array(img_res_copy)\n",
    "\n",
    "    return img_res"
   ]
  },
  {
   "cell_type": "markdown",
   "metadata": {},
   "source": [
    "# Find characters function"
   ]
  },
  {
   "cell_type": "code",
   "execution_count": 17,
   "metadata": {},
   "outputs": [],
   "source": [
    "# Find characters in the resulting images\n",
    "def segment_characters(image) :\n",
    "\n",
    "    # Preprocess cropped license plate image\n",
    "    img_lp = cv2.resize(image, (333, 75))\n",
    "    img_gray_lp = cv2.cvtColor(img_lp, cv2.COLOR_BGR2GRAY)\n",
    "    _, img_binary_lp = cv2.threshold(img_gray_lp, 200, 255, cv2.THRESH_BINARY+cv2.THRESH_OTSU)\n",
    "    img_binary_lp = cv2.erode(img_binary_lp, (3,3))\n",
    "    img_binary_lp = cv2.dilate(img_binary_lp, (3,3))\n",
    "\n",
    "    LP_WIDTH = img_binary_lp.shape[0]\n",
    "    LP_HEIGHT = img_binary_lp.shape[1]\n",
    "\n",
    "    # Make borders white\n",
    "    img_binary_lp[0:3,:] = 255\n",
    "    img_binary_lp[:,0:3] = 255\n",
    "    img_binary_lp[72:75,:] = 255\n",
    "    img_binary_lp[:,330:333] = 255\n",
    "\n",
    "    # Estimations of character contours sizes of cropped license plates\n",
    "    dimensions = [LP_WIDTH/6,\n",
    "                       LP_WIDTH/2,\n",
    "                       LP_HEIGHT/10,\n",
    "                       2*LP_HEIGHT/3]\n",
    "    plt.imshow(img_binary_lp, cmap='gray')\n",
    "    plt.show()\n",
    "    cv2.imwrite('contour.jpg',img_binary_lp)\n",
    "\n",
    "    # Get contours within cropped license plate\n",
    "    char_list = find_contours(dimensions, img_binary_lp)\n",
    "\n",
    "    return char_list"
   ]
  },
  {
   "cell_type": "markdown",
   "metadata": {},
   "source": [
    "# Apply characters function and see output"
   ]
  },
  {
   "cell_type": "code",
   "execution_count": 18,
   "metadata": {},
   "outputs": [
    {
     "data": {
      "image/png": "[encoded data removed]",
      "text/plain": [
       "<Figure size 640x480 with 1 Axes>"
      ]
     },
     "metadata": {},
     "output_type": "display_data"
    },
    {
     "data": {
      "image/png": "[encoded data removed]",
      "text/plain": [
       "<Figure size 640x480 with 1 Axes>"
      ]
     },
     "metadata": {},
     "output_type": "display_data"
    }
   ],
   "source": [
    "char = segment_characters(plate_out)"
   ]
  },
  {
   "cell_type": "markdown",
   "metadata": {},
   "source": [
    "# CNN"
   ]
  },
  {
   "cell_type": "markdown",
   "metadata": {},
   "source": [
    "## Create fit parameters"
   ]
  },
  {
   "cell_type": "code",
   "execution_count": 19,
   "metadata": {},
   "outputs": [
    {
     "name": "stdout",
     "output_type": "stream",
     "text": [
      "Found 864 images belonging to 36 classes.\n",
      "Found 216 images belonging to 36 classes.\n"
     ]
    }
   ],
   "source": [
    "train_datagen = ImageDataGenerator(rescale=1./255, width_shift_range=0.1, height_shift_range=0.1)\n",
    "train_generator = train_datagen.flow_from_directory(\n",
    "        'data/data/train',  # this is the target directory\n",
    "        target_size=(28,28),  # all images will be resized to 28x28\n",
    "        batch_size=1,\n",
    "        class_mode='categorical')\n",
    "\n",
    "validation_generator = train_datagen.flow_from_directory(\n",
    "        'data/data/val',  # this is the target directory\n",
    "        target_size=(28,28),  # all images will be resized to 28x28        batch_size=1,\n",
    "        class_mode='categorical')"
   ]
  },
  {
   "cell_type": "markdown",
   "metadata": {},
   "source": [
    "## Model"
   ]
  },
  {
   "cell_type": "code",
   "execution_count": 20,
   "metadata": {},
   "outputs": [
    {
     "name": "stderr",
     "output_type": "stream",
     "text": [
      "c:\\Users\\Peter\\Documents\\GitHub\\car-license-plate-recognition-clean\\.venv\\lib\\site-packages\\keras\\optimizers\\optimizer_v2\\adam.py:117: UserWarning: The `lr` argument is deprecated, use `learning_rate` instead.\n",
      "  super().__init__(name, **kwargs)\n"
     ]
    }
   ],
   "source": [
    "model = Sequential()\n",
    "model.add(Conv2D(32, (24,24), input_shape=(28, 28, 3), activation='relu', padding='same'))\n",
    "# model.add(Conv2D(32, (20,20), input_shape=(28, 28, 3), activation='relu', padding='same'))\n",
    "# model.add(Conv2D(32, (20,20), input_shape=(28, 28, 3), activation='relu', padding='same'))\n",
    "model.add(MaxPooling2D(pool_size=(2, 2)))\n",
    "model.add(Dropout(0.4))\n",
    "model.add(Flatten())\n",
    "model.add(Dense(128, activation='relu'))\n",
    "model.add(Dense(36, activation='softmax'))\n",
    "\n",
    "model.compile(loss='categorical_crossentropy', optimizer=optimizers.Adam(lr=0.00001), metrics=['accuracy'])"
   ]
  },
  {
   "cell_type": "code",
   "execution_count": 97,
   "metadata": {},
   "outputs": [
    {
     "name": "stdout",
     "output_type": "stream",
     "text": [
      "Model: \"sequential\"\n",
      "_________________________________________________________________\n",
      " Layer (type)                Output Shape              Param #   \n",
      "=================================================================\n",
      " conv2d (Conv2D)             (None, 28, 28, 32)        55328     \n",
      "                                                                 \n",
      " max_pooling2d (MaxPooling2D  (None, 14, 14, 32)       0         \n",
      " )                                                               \n",
      "                                                                 \n",
      " dropout (Dropout)           (None, 14, 14, 32)        0         \n",
      "                                                                 \n",
      " flatten (Flatten)           (None, 6272)              0         \n",
      "                                                                 \n",
      " dense (Dense)               (None, 128)               802944    \n",
      "                                                                 \n",
      " dense_1 (Dense)             (None, 36)                4644      \n",
      "                                                                 \n",
      "=================================================================\n",
      "Total params: 862,916\n",
      "Trainable params: 862,916\n",
      "Non-trainable params: 0\n",
      "_________________________________________________________________\n"
     ]
    }
   ],
   "source": [
    "model.summary()"
   ]
  },
  {
   "cell_type": "markdown",
   "metadata": {},
   "source": [
    "## A custom training callback"
   ]
  },
  {
   "cell_type": "code",
   "execution_count": 21,
   "metadata": {},
   "outputs": [],
   "source": [
    "class stop_training_callback(tf.keras.callbacks.Callback):\n",
    "  def on_epoch_end(self, epoch, logs={}):\n",
    "    if(logs.get('val_acc') > 0.992):\n",
    "      self.model.stop_training = True"
   ]
  },
  {
   "cell_type": "markdown",
   "metadata": {},
   "source": [
    "## Create logs"
   ]
  },
  {
   "cell_type": "code",
   "execution_count": 22,
   "metadata": {},
   "outputs": [],
   "source": [
    "log_dir=\"logs/fit/\" + datetime.datetime.now().strftime(\"%Y%m%d-%H%M%S\")\n",
    "tensorboard_callback = tf.keras.callbacks.TensorBoard(log_dir=log_dir, histogram_freq=1)"
   ]
  },
  {
   "cell_type": "markdown",
   "metadata": {},
   "source": [
    "## Model training"
   ]
  },
  {
   "cell_type": "code",
   "execution_count": 23,
   "metadata": {},
   "outputs": [
    {
     "name": "stdout",
     "output_type": "stream",
     "text": [
      "Epoch 1/80\n",
      "861/864 [============================>.] - ETA: 0s - loss: 3.5182 - accuracy: 0.0767WARNING:tensorflow:Your input ran out of data; interrupting training. Make sure that your dataset or generator can generate at least `steps_per_epoch * epochs` batches (in this case, 216 batches). You may need to use the repeat() function when building your dataset.\n",
      "864/864 [==============================] - 8s 9ms/step - loss: 3.5178 - accuracy: 0.0775 - val_loss: 3.3745 - val_accuracy: 0.1991\n",
      "Epoch 2/80\n",
      "864/864 [==============================] - 6s 7ms/step - loss: 3.2075 - accuracy: 0.1910\n",
      "Epoch 3/80\n",
      "864/864 [==============================] - 6s 8ms/step - loss: 2.6909 - accuracy: 0.3310\n",
      "Epoch 4/80\n",
      "864/864 [==============================] - 7s 8ms/step - loss: 2.1987 - accuracy: 0.4502\n",
      "Epoch 5/80\n",
      "864/864 [==============================] - 6s 7ms/step - loss: 1.7581 - accuracy: 0.5451\n",
      "Epoch 6/80\n",
      "864/864 [==============================] - 7s 8ms/step - loss: 1.4999 - accuracy: 0.5833\n",
      "Epoch 7/80\n",
      "864/864 [==============================] - 7s 8ms/step - loss: 1.3693 - accuracy: 0.6227\n",
      "Epoch 8/80\n",
      "864/864 [==============================] - 7s 8ms/step - loss: 1.1436 - accuracy: 0.6829\n",
      "Epoch 9/80\n",
      "864/864 [==============================] - 6s 7ms/step - loss: 1.0624 - accuracy: 0.6933\n",
      "Epoch 10/80\n",
      "864/864 [==============================] - 7s 8ms/step - loss: 0.9410 - accuracy: 0.7338\n",
      "Epoch 11/80\n",
      "864/864 [==============================] - 7s 8ms/step - loss: 0.8510 - accuracy: 0.7373\n",
      "Epoch 12/80\n",
      "864/864 [==============================] - 6s 7ms/step - loss: 0.7308 - accuracy: 0.7894\n",
      "Epoch 13/80\n",
      "864/864 [==============================] - 6s 7ms/step - loss: 0.7067 - accuracy: 0.7882\n",
      "Epoch 14/80\n",
      "864/864 [==============================] - 6s 7ms/step - loss: 0.6233 - accuracy: 0.8171\n",
      "Epoch 15/80\n",
      "864/864 [==============================] - 6s 7ms/step - loss: 0.6031 - accuracy: 0.8160\n",
      "Epoch 16/80\n",
      "864/864 [==============================] - 6s 7ms/step - loss: 0.5771 - accuracy: 0.8380\n",
      "Epoch 17/80\n",
      "864/864 [==============================] - 6s 7ms/step - loss: 0.5456 - accuracy: 0.8345\n",
      "Epoch 18/80\n",
      "864/864 [==============================] - 6s 7ms/step - loss: 0.4759 - accuracy: 0.8634\n",
      "Epoch 19/80\n",
      "864/864 [==============================] - 6s 7ms/step - loss: 0.4297 - accuracy: 0.8773\n",
      "Epoch 20/80\n",
      "864/864 [==============================] - 6s 7ms/step - loss: 0.4081 - accuracy: 0.8854\n",
      "Epoch 21/80\n",
      "864/864 [==============================] - 6s 7ms/step - loss: 0.3884 - accuracy: 0.8981\n",
      "Epoch 22/80\n",
      "864/864 [==============================] - 6s 7ms/step - loss: 0.3952 - accuracy: 0.8785\n",
      "Epoch 23/80\n",
      "864/864 [==============================] - 6s 7ms/step - loss: 0.3721 - accuracy: 0.8900\n",
      "Epoch 24/80\n",
      "864/864 [==============================] - 6s 7ms/step - loss: 0.3555 - accuracy: 0.8993\n",
      "Epoch 25/80\n",
      "864/864 [==============================] - 7s 8ms/step - loss: 0.3392 - accuracy: 0.9062\n",
      "Epoch 26/80\n",
      "864/864 [==============================] - 6s 7ms/step - loss: 0.3275 - accuracy: 0.8935\n",
      "Epoch 27/80\n",
      "864/864 [==============================] - 6s 7ms/step - loss: 0.3245 - accuracy: 0.8958\n",
      "Epoch 28/80\n",
      "864/864 [==============================] - 7s 8ms/step - loss: 0.2761 - accuracy: 0.9178\n",
      "Epoch 29/80\n",
      "864/864 [==============================] - 6s 7ms/step - loss: 0.2869 - accuracy: 0.9144\n",
      "Epoch 30/80\n",
      "864/864 [==============================] - 6s 7ms/step - loss: 0.2749 - accuracy: 0.9178\n",
      "Epoch 31/80\n",
      "864/864 [==============================] - 6s 7ms/step - loss: 0.2540 - accuracy: 0.9248\n",
      "Epoch 32/80\n",
      "864/864 [==============================] - 7s 8ms/step - loss: 0.2516 - accuracy: 0.9236\n",
      "Epoch 33/80\n",
      "864/864 [==============================] - 6s 7ms/step - loss: 0.2068 - accuracy: 0.9456\n",
      "Epoch 34/80\n",
      "864/864 [==============================] - 6s 7ms/step - loss: 0.1978 - accuracy: 0.9375\n",
      "Epoch 35/80\n",
      "864/864 [==============================] - 6s 7ms/step - loss: 0.1840 - accuracy: 0.9514\n",
      "Epoch 36/80\n",
      "864/864 [==============================] - 6s 7ms/step - loss: 0.1928 - accuracy: 0.9491\n",
      "Epoch 37/80\n",
      "864/864 [==============================] - 7s 8ms/step - loss: 0.2089 - accuracy: 0.9444\n",
      "Epoch 38/80\n",
      "864/864 [==============================] - 6s 7ms/step - loss: 0.2106 - accuracy: 0.9306\n",
      "Epoch 39/80\n",
      "864/864 [==============================] - 6s 7ms/step - loss: 0.1820 - accuracy: 0.9491\n",
      "Epoch 40/80\n",
      "864/864 [==============================] - 6s 7ms/step - loss: 0.2057 - accuracy: 0.9375\n",
      "Epoch 41/80\n",
      "864/864 [==============================] - 6s 7ms/step - loss: 0.1762 - accuracy: 0.9549\n",
      "Epoch 42/80\n",
      "864/864 [==============================] - 6s 7ms/step - loss: 0.1662 - accuracy: 0.9456\n",
      "Epoch 43/80\n",
      "864/864 [==============================] - 6s 7ms/step - loss: 0.1376 - accuracy: 0.9502\n",
      "Epoch 44/80\n",
      "864/864 [==============================] - 6s 7ms/step - loss: 0.1755 - accuracy: 0.9491\n",
      "Epoch 45/80\n",
      "864/864 [==============================] - 6s 7ms/step - loss: 0.1441 - accuracy: 0.9653\n",
      "Epoch 46/80\n",
      "864/864 [==============================] - 6s 7ms/step - loss: 0.1322 - accuracy: 0.9676\n",
      "Epoch 47/80\n",
      "864/864 [==============================] - 6s 7ms/step - loss: 0.1419 - accuracy: 0.9560\n",
      "Epoch 48/80\n",
      "864/864 [==============================] - 6s 7ms/step - loss: 0.1078 - accuracy: 0.9722\n",
      "Epoch 49/80\n",
      "864/864 [==============================] - 6s 7ms/step - loss: 0.1285 - accuracy: 0.9618\n",
      "Epoch 50/80\n",
      "864/864 [==============================] - 6s 7ms/step - loss: 0.1026 - accuracy: 0.9745\n",
      "Epoch 51/80\n",
      "864/864 [==============================] - 6s 7ms/step - loss: 0.1219 - accuracy: 0.9618\n",
      "Epoch 52/80\n",
      "864/864 [==============================] - 6s 7ms/step - loss: 0.1271 - accuracy: 0.9537\n",
      "Epoch 53/80\n",
      "864/864 [==============================] - 6s 7ms/step - loss: 0.1381 - accuracy: 0.9549\n",
      "Epoch 54/80\n",
      "864/864 [==============================] - 6s 7ms/step - loss: 0.0890 - accuracy: 0.9757\n",
      "Epoch 55/80\n",
      "864/864 [==============================] - 6s 7ms/step - loss: 0.1050 - accuracy: 0.9653\n",
      "Epoch 56/80\n",
      "864/864 [==============================] - 6s 7ms/step - loss: 0.1031 - accuracy: 0.9676\n",
      "Epoch 57/80\n",
      "864/864 [==============================] - 6s 7ms/step - loss: 0.1337 - accuracy: 0.9606\n",
      "Epoch 58/80\n",
      "864/864 [==============================] - 6s 7ms/step - loss: 0.1024 - accuracy: 0.9711\n",
      "Epoch 59/80\n",
      "864/864 [==============================] - 6s 7ms/step - loss: 0.1067 - accuracy: 0.9711\n",
      "Epoch 60/80\n",
      "864/864 [==============================] - 6s 7ms/step - loss: 0.1178 - accuracy: 0.9572\n",
      "Epoch 61/80\n",
      "864/864 [==============================] - 6s 7ms/step - loss: 0.0966 - accuracy: 0.9745\n",
      "Epoch 62/80\n",
      "864/864 [==============================] - 6s 7ms/step - loss: 0.1035 - accuracy: 0.9664\n",
      "Epoch 63/80\n",
      "864/864 [==============================] - 6s 7ms/step - loss: 0.1042 - accuracy: 0.9664\n",
      "Epoch 64/80\n",
      "864/864 [==============================] - 6s 7ms/step - loss: 0.0948 - accuracy: 0.9734\n",
      "Epoch 65/80\n",
      "864/864 [==============================] - 6s 7ms/step - loss: 0.0880 - accuracy: 0.9757\n",
      "Epoch 66/80\n",
      "864/864 [==============================] - 6s 7ms/step - loss: 0.0785 - accuracy: 0.9780\n",
      "Epoch 67/80\n",
      "864/864 [==============================] - 6s 7ms/step - loss: 0.1068 - accuracy: 0.9676\n",
      "Epoch 68/80\n",
      "864/864 [==============================] - 6s 7ms/step - loss: 0.0840 - accuracy: 0.9780\n",
      "Epoch 69/80\n",
      "864/864 [==============================] - 6s 7ms/step - loss: 0.0845 - accuracy: 0.9734\n",
      "Epoch 70/80\n",
      "864/864 [==============================] - 6s 7ms/step - loss: 0.0991 - accuracy: 0.9722\n",
      "Epoch 71/80\n",
      "864/864 [==============================] - 6s 7ms/step - loss: 0.0969 - accuracy: 0.9745\n",
      "Epoch 72/80\n",
      "864/864 [==============================] - 6s 7ms/step - loss: 0.0788 - accuracy: 0.9757\n",
      "Epoch 73/80\n",
      "864/864 [==============================] - 6s 7ms/step - loss: 0.0689 - accuracy: 0.9792\n",
      "Epoch 74/80\n",
      "864/864 [==============================] - 7s 8ms/step - loss: 0.0926 - accuracy: 0.9722\n",
      "Epoch 75/80\n",
      "864/864 [==============================] - 6s 7ms/step - loss: 0.0865 - accuracy: 0.9688\n",
      "Epoch 76/80\n",
      "864/864 [==============================] - 6s 7ms/step - loss: 0.0521 - accuracy: 0.9850\n",
      "Epoch 77/80\n",
      "864/864 [==============================] - 6s 7ms/step - loss: 0.0634 - accuracy: 0.9826\n",
      "Epoch 78/80\n",
      "864/864 [==============================] - 6s 7ms/step - loss: 0.0824 - accuracy: 0.9769\n",
      "Epoch 79/80\n",
      "864/864 [==============================] - 6s 7ms/step - loss: 0.0732 - accuracy: 0.9769\n",
      "Epoch 80/80\n",
      "864/864 [==============================] - 6s 7ms/step - loss: 0.0791 - accuracy: 0.9722\n"
     ]
    }
   ],
   "source": [
    "#CAREFUL THIS IS A LARGE PROCESS\n",
    "batch_size = 1\n",
    "callbacks = [tensorboard_callback, stop_training_callback()]\n",
    "model_history = model.fit(\n",
    "      train_generator,\n",
    "      steps_per_epoch = train_generator.samples // batch_size,\n",
    "      validation_data = validation_generator, \n",
    "      validation_steps = validation_generator.samples // batch_size,\n",
    "      epochs = 80)\n",
    "\n",
    "#, callbacks=callbacks)"
   ]
  },
  {
   "cell_type": "markdown",
   "metadata": {},
   "source": [
    "## Tensorboard"
   ]
  },
  {
   "cell_type": "code",
   "execution_count": null,
   "metadata": {},
   "outputs": [],
   "source": [
    "#!kill 6360\n",
    "%load_ext tensorboard\n",
    "%tensorboard --logdir logs/fit"
   ]
  },
  {
   "cell_type": "markdown",
   "metadata": {},
   "source": [
    "## Evaluation: Accuracy"
   ]
  },
  {
   "cell_type": "code",
   "execution_count": 103,
   "metadata": {},
   "outputs": [
    {
     "data": {
      "image/png": "[encoded data removed]",
      "text/plain": [
       "<Figure size 640x480 with 1 Axes>"
      ]
     },
     "metadata": {},
     "output_type": "display_data"
    }
   ],
   "source": [
    "# Visualize the accuracy\n",
    "plt.plot(model_history.history['accuracy'])\n",
    "plt.xlabel('epochs')\n",
    "plt.ylabel('accuracy')\n",
    "plt.legend(['Training data'])\n",
    "plt.title('Historical model accuracy')\n",
    "plt.show()"
   ]
  },
  {
   "cell_type": "markdown",
   "metadata": {},
   "source": [
    "## Evaluation: Loss"
   ]
  },
  {
   "cell_type": "code",
   "execution_count": 102,
   "metadata": {},
   "outputs": [
    {
     "data": {
      "image/png": "[encoded data removed]",
      "text/plain": [
       "<Figure size 640x480 with 1 Axes>"
      ]
     },
     "metadata": {},
     "output_type": "display_data"
    }
   ],
   "source": [
    "# Visualize the loss\n",
    "plt.plot(model_history.history['loss'])\n",
    "plt.xlabel('epochs')\n",
    "plt.ylabel('loss')\n",
    "plt.legend(['Training data'])\n",
    "plt.title('Historical model loss')\n",
    "plt.show()"
   ]
  },
  {
   "cell_type": "markdown",
   "metadata": {},
   "source": [
    "# Results"
   ]
  },
  {
   "cell_type": "markdown",
   "metadata": {},
   "source": [
    "## Print plate number"
   ]
  },
  {
   "cell_type": "code",
   "execution_count": 25,
   "metadata": {},
   "outputs": [
    {
     "name": "stdout",
     "output_type": "stream",
     "text": [
      "1/1 [==============================] - 0s 67ms/step\n",
      "1/1 [==============================] - 0s 16ms/step\n",
      "1/1 [==============================] - 0s 15ms/step\n",
      "1/1 [==============================] - 0s 15ms/step\n",
      "1/1 [==============================] - 0s 17ms/step\n",
      "1/1 [==============================] - 0s 15ms/step\n",
      "1/1 [==============================] - 0s 16ms/step\n",
      "AJ13870\n"
     ]
    }
   ],
   "source": [
    "def fix_dimension(img): \n",
    "  new_img = np.zeros((28,28,3))\n",
    "  for i in range(3):\n",
    "    new_img[:,:,i] = img\n",
    "  return new_img\n",
    "  \n",
    "def show_results():\n",
    "    dic = {}\n",
    "    characters = '0123456789ABCDEFGHIJKLMNOPQRSTUVWXYZ'\n",
    "    for i,c in enumerate(characters):\n",
    "        dic[i] = c\n",
    "\n",
    "    output = []\n",
    "    for i,ch in enumerate(char): #iterating over the characters\n",
    "        img_ = cv2.resize(ch, (28,28))\n",
    "        img = fix_dimension(img_)\n",
    "        img = img.reshape(1,28,28,3) #preparing image for the model\n",
    "        y_ = np.argmax(model.predict(img)[0]) #predicting the class np.argmax(model.predict(x_test), axis=-1)     classes_ = np.argmax(y_, axis = 1)\n",
    "        character = dic[y_] #\n",
    "        output.append(character) #storing the result in a list\n",
    "        \n",
    "    plate_number = ''.join(output)\n",
    "    \n",
    "    return plate_number\n",
    "\n",
    "final_plate = show_results()\n",
    "print(final_plate)"
   ]
  },
  {
   "cell_type": "markdown",
   "metadata": {},
   "source": [
    "## Show prediction"
   ]
  },
  {
   "cell_type": "code",
   "execution_count": 26,
   "metadata": {},
   "outputs": [
    {
     "name": "stdout",
     "output_type": "stream",
     "text": [
      "1/1 [==============================] - 0s 16ms/step\n",
      "1/1 [==============================] - 0s 16ms/step\n",
      "1/1 [==============================] - 0s 16ms/step\n",
      "1/1 [==============================] - 0s 17ms/step\n",
      "1/1 [==============================] - 0s 15ms/step\n",
      "1/1 [==============================] - 0s 16ms/step\n",
      "1/1 [==============================] - 0s 16ms/step\n",
      "1/1 [==============================] - 0s 15ms/step\n",
      "1/1 [==============================] - 0s 16ms/step\n",
      "1/1 [==============================] - 0s 16ms/step\n",
      "1/1 [==============================] - 0s 15ms/step\n",
      "1/1 [==============================] - 0s 16ms/step\n",
      "1/1 [==============================] - 0s 16ms/step\n",
      "1/1 [==============================] - 0s 16ms/step\n",
      "1/1 [==============================] - 0s 16ms/step\n",
      "1/1 [==============================] - 0s 15ms/step\n",
      "1/1 [==============================] - 0s 16ms/step\n",
      "1/1 [==============================] - 0s 15ms/step\n",
      "1/1 [==============================] - 0s 16ms/step\n",
      "1/1 [==============================] - 0s 16ms/step\n",
      "1/1 [==============================] - 0s 15ms/step\n",
      "1/1 [==============================] - 0s 17ms/step\n",
      "1/1 [==============================] - 0s 16ms/step\n",
      "1/1 [==============================] - 0s 18ms/step\n",
      "1/1 [==============================] - 0s 16ms/step\n",
      "1/1 [==============================] - 0s 15ms/step\n",
      "1/1 [==============================] - 0s 17ms/step\n",
      "1/1 [==============================] - 0s 16ms/step\n",
      "1/1 [==============================] - 0s 16ms/step\n",
      "1/1 [==============================] - 0s 15ms/step\n",
      "1/1 [==============================] - 0s 17ms/step\n",
      "1/1 [==============================] - 0s 16ms/step\n",
      "1/1 [==============================] - 0s 17ms/step\n",
      "1/1 [==============================] - 0s 17ms/step\n",
      "1/1 [==============================] - 0s 18ms/step\n",
      "1/1 [==============================] - 0s 17ms/step\n",
      "1/1 [==============================] - 0s 19ms/step\n",
      "1/1 [==============================] - 0s 17ms/step\n",
      "1/1 [==============================] - 0s 16ms/step\n",
      "1/1 [==============================] - 0s 16ms/step\n",
      "1/1 [==============================] - 0s 16ms/step\n",
      "1/1 [==============================] - 0s 15ms/step\n",
      "1/1 [==============================] - 0s 16ms/step\n",
      "1/1 [==============================] - 0s 16ms/step\n",
      "1/1 [==============================] - 0s 16ms/step\n",
      "1/1 [==============================] - 0s 16ms/step\n",
      "1/1 [==============================] - 0s 16ms/step\n",
      "1/1 [==============================] - 0s 17ms/step\n",
      "1/1 [==============================] - 0s 15ms/step\n"
     ]
    },
    {
     "data": {
      "image/png": "[encoded data removed]",
      "text/plain": [
       "<Figure size 1000x600 with 7 Axes>"
      ]
     },
     "metadata": {},
     "output_type": "display_data"
    }
   ],
   "source": [
    "plt.figure(figsize=(10,6))\n",
    "for i,ch in enumerate(char):\n",
    "    img = cv2.resize(ch, (28,28))\n",
    "    plt.subplot(3,4,i+1)\n",
    "    plt.imshow(img,cmap='gray')\n",
    "    plt.title(f'predicted: {show_results()[i]}')\n",
    "    plt.axis('off')\n",
    "plt.show()"
   ]
  },
  {
   "cell_type": "markdown",
   "metadata": {},
   "source": [
    "# API"
   ]
  },
  {
   "cell_type": "markdown",
   "metadata": {},
   "source": [
    "## Create input plate from results"
   ]
  },
  {
   "cell_type": "code",
   "execution_count": 27,
   "metadata": {},
   "outputs": [
    {
     "name": "stdout",
     "output_type": "stream",
     "text": [
      "/vehicles?registration_number=AJ13870\n"
     ]
    }
   ],
   "source": [
    "final_plate #Create variable from model\n",
    "link = \"/vehicles?registration_number={}\".format(final_plate)\n",
    "print (link)"
   ]
  },
  {
   "cell_type": "markdown",
   "metadata": {},
   "source": [
    "## API-script"
   ]
  },
  {
   "cell_type": "code",
   "execution_count": 28,
   "metadata": {},
   "outputs": [
    {
     "name": "stdout",
     "output_type": "stream",
     "text": [
      "[\n",
      "    {\n",
      "        \"registration_number\": \"AJ13870\",\n",
      "        \"status\": \"Registreret\",\n",
      "        \"status_date\": \"2013-10-07T10:33:46.000+02:00\",\n",
      "        \"type\": \"Personbil\",\n",
      "        \"use\": \"Privat personk\\u00f8rsel\",\n",
      "        \"first_registration\": \"2013-10-07+02:00\",\n",
      "        \"vin\": \"WDD2042021G129692\",\n",
      "        \"own_weight\": null,\n",
      "        \"cerb_weight\": 1655,\n",
      "        \"total_weight\": 2195,\n",
      "        \"axels\": 2,\n",
      "        \"pulling_axels\": 1,\n",
      "        \"seats\": 5,\n",
      "        \"coupling\": false,\n",
      "        \"trailer_maxweight_nobrakes\": 750,\n",
      "        \"trailer_maxweight_withbrakes\": 1800,\n",
      "        \"doors\": 4,\n",
      "        \"make\": \"MERCEDES-BENZ\",\n",
      "        \"model\": \"C-Klasse\",\n",
      "        \"variant\": \"220 CDI BlueEFFICIENCY T\",\n",
      "        \"model_type\": \"204 K\",\n",
      "        \"model_year\": 2013,\n",
      "        \"color\": \"Gr\\u00e5\",\n",
      "        \"chassis_type\": \"Stationcar\",\n",
      "        \"engine_cylinders\": 4,\n",
      "        \"engine_volume\": 2143,\n",
      "        \"engine_power\": 125,\n",
      "        \"fuel_type\": \"Diesel\",\n",
      "        \"registration_zipcode\": \"\",\n",
      "        \"vehicle_id\": 9000000000384590,\n",
      "        \"mot_info\": {\n",
      "            \"type\": \"PeriodiskSyn\",\n",
      "            \"date\": \"2021-10-06\",\n",
      "            \"result\": \"Godkendt\",\n",
      "            \"status\": \"Aktiv\",\n",
      "            \"status_date\": \"2021-10-06\",\n",
      "            \"mileage\": 106\n",
      "        },\n",
      "        \"is_leasing\": false,\n",
      "        \"leasing_from\": null,\n",
      "        \"leasing_to\": null\n",
      "    }\n",
      "]\n"
     ]
    }
   ],
   "source": [
    "conn = http.client.HTTPSConnection(\"v1.motorapi.dk\")\n",
    "payload = ''\n",
    "headers = {\n",
    "  'X-AUTH-TOKEN': 'gq59xnw6jombh3vpiuvv0lzfh8h7df36'\n",
    "}\n",
    "conn.request(\"GET\", link , payload, headers) #We add the link to automate the process of connecting the car plate number with the API\n",
    "res = conn.getresponse()\n",
    "data = res.read()\n",
    "print(data.decode(\"utf-8\"))"
   ]
  },
  {
   "cell_type": "markdown",
   "metadata": {},
   "source": [
    "## Transforming API-output to JSON"
   ]
  },
  {
   "cell_type": "code",
   "execution_count": 29,
   "metadata": {},
   "outputs": [
    {
     "name": "stdout",
     "output_type": "stream",
     "text": [
      "[\n",
      "    {\n",
      "        \"registration_number\": \"AJ13870\",\n",
      "        \"status\": \"Registreret\",\n",
      "        \"status_date\": \"2013-10-07T10:33:46.000+02:00\",\n",
      "        \"type\": \"Personbil\",\n",
      "        \"use\": \"Privat personk\\u00f8rsel\",\n",
      "        \"first_registration\": \"2013-10-07+02:00\",\n",
      "        \"vin\": \"WDD2042021G129692\",\n",
      "        \"own_weight\": null,\n",
      "        \"cerb_weight\": 1655,\n",
      "        \"total_weight\": 2195,\n",
      "        \"axels\": 2,\n",
      "        \"pulling_axels\": 1,\n",
      "        \"seats\": 5,\n",
      "        \"coupling\": false,\n",
      "        \"trailer_maxweight_nobrakes\": 750,\n",
      "        \"trailer_maxweight_withbrakes\": 1800,\n",
      "        \"doors\": 4,\n",
      "        \"make\": \"MERCEDES-BENZ\",\n",
      "        \"model\": \"C-Klasse\",\n",
      "        \"variant\": \"220 CDI BlueEFFICIENCY T\",\n",
      "        \"model_type\": \"204 K\",\n",
      "        \"model_year\": 2013,\n",
      "        \"color\": \"Gr\\u00e5\",\n",
      "        \"chassis_type\": \"Stationcar\",\n",
      "        \"engine_cylinders\": 4,\n",
      "        \"engine_volume\": 2143,\n",
      "        \"engine_power\": 125,\n",
      "        \"fuel_type\": \"Diesel\",\n",
      "        \"registration_zipcode\": \"\",\n",
      "        \"vehicle_id\": 9000000000384590,\n",
      "        \"mot_info\": {\n",
      "            \"type\": \"PeriodiskSyn\",\n",
      "            \"date\": \"2021-10-06\",\n",
      "            \"result\": \"Godkendt\",\n",
      "            \"status\": \"Aktiv\",\n",
      "            \"status_date\": \"2021-10-06\",\n",
      "            \"mileage\": 106\n",
      "        },\n",
      "        \"is_leasing\": false,\n",
      "        \"leasing_from\": null,\n",
      "        \"leasing_to\": null\n",
      "    }\n",
      "]\n",
      "- - - - - - - - - - - - - - - - - - - - \n"
     ]
    }
   ],
   "source": [
    "my_json = data.decode('utf8').replace(\"'\", '\"')\n",
    "print(my_json)\n",
    "print('- ' * 20)\n",
    "\n",
    "# Load the JSON to a Python list & dump it back out as formatted JSON\n",
    "data = json.loads(my_json)\n",
    "s = json.dumps(data, indent=4, sort_keys=True)"
   ]
  },
  {
   "cell_type": "markdown",
   "metadata": {},
   "source": [
    "## Creating it as dictionary"
   ]
  },
  {
   "cell_type": "code",
   "execution_count": 30,
   "metadata": {},
   "outputs": [],
   "source": [
    "d1=dict(enumerate(data))"
   ]
  },
  {
   "cell_type": "markdown",
   "metadata": {},
   "source": [
    "## Returning car type"
   ]
  },
  {
   "cell_type": "code",
   "execution_count": 31,
   "metadata": {},
   "outputs": [],
   "source": [
    "car_type = (f\"{(data[0]['make'])} {(data[0]['model'])} {(data[0]['first_registration'])}\")"
   ]
  },
  {
   "cell_type": "markdown",
   "metadata": {},
   "source": [
    "## Car year"
   ]
  },
  {
   "cell_type": "code",
   "execution_count": 32,
   "metadata": {},
   "outputs": [],
   "source": [
    "car_year = data[0]['first_registration']\n",
    "car_year2 = car_year[:4]\n",
    "car_year = car_year2"
   ]
  },
  {
   "cell_type": "markdown",
   "metadata": {},
   "source": [
    "## Final car type for database"
   ]
  },
  {
   "cell_type": "code",
   "execution_count": 33,
   "metadata": {},
   "outputs": [
    {
     "name": "stdout",
     "output_type": "stream",
     "text": [
      "mercedes-benz c-klasse 2013\n"
     ]
    }
   ],
   "source": [
    "car_type = (f\"{(data[0]['make'])} {(data[0]['model'])} {car_year}\")\n",
    "car_type = car_type.lower()\n",
    "print(car_type)"
   ]
  },
  {
   "cell_type": "markdown",
   "metadata": {},
   "source": [
    "# Dataset/database"
   ]
  },
  {
   "cell_type": "markdown",
   "metadata": {},
   "source": [
    "## Load the dataset"
   ]
  },
  {
   "cell_type": "code",
   "execution_count": 2,
   "metadata": {},
   "outputs": [
    {
     "data": {
      "text/plain": [
       "'car_github/car_devkit/devkit'"
      ]
     },
     "execution_count": 2,
     "metadata": {},
     "output_type": "execute_result"
    }
   ],
   "source": [
    "devkit_path = 'car_github/car_devkit/devkit'\n",
    "cars_path = 'car_github/cars_main'\n",
    "main_path = 'car_github'\n",
    "\n",
    "devkit_path"
   ]
  },
  {
   "cell_type": "code",
   "execution_count": 4,
   "metadata": {},
   "outputs": [],
   "source": [
    "cars_meta = loadmat('devkit/cars_meta.mat')\n",
    "cars_annos = loadmat('devkit/cars_train_annos.mat')"
   ]
  },
  {
   "cell_type": "markdown",
   "metadata": {},
   "source": [
    "## Creating labels"
   ]
  },
  {
   "cell_type": "code",
   "execution_count": 5,
   "metadata": {},
   "outputs": [
    {
     "data": {
      "text/html": [
       "<div>\n",
       "<style scoped>\n",
       "    .dataframe tbody tr th:only-of-type {\n",
       "        vertical-align: middle;\n",
       "    }\n",
       "\n",
       "    .dataframe tbody tr th {\n",
       "        vertical-align: top;\n",
       "    }\n",
       "\n",
       "    .dataframe thead th {\n",
       "        text-align: right;\n",
       "    }\n",
       "</style>\n",
       "<table border=\"1\" class=\"dataframe\">\n",
       "  <thead>\n",
       "    <tr style=\"text-align: right;\">\n",
       "      <th></th>\n",
       "      <th>labels</th>\n",
       "    </tr>\n",
       "  </thead>\n",
       "  <tbody>\n",
       "    <tr>\n",
       "      <th>0</th>\n",
       "      <td>AM General Hummer SUV 2000</td>\n",
       "    </tr>\n",
       "    <tr>\n",
       "      <th>1</th>\n",
       "      <td>Acura RL Sedan 2012</td>\n",
       "    </tr>\n",
       "    <tr>\n",
       "      <th>2</th>\n",
       "      <td>Acura TL Sedan 2012</td>\n",
       "    </tr>\n",
       "    <tr>\n",
       "      <th>3</th>\n",
       "      <td>Acura TL Type-S 2008</td>\n",
       "    </tr>\n",
       "    <tr>\n",
       "      <th>4</th>\n",
       "      <td>Acura TSX Sedan 2012</td>\n",
       "    </tr>\n",
       "  </tbody>\n",
       "</table>\n",
       "</div>"
      ],
      "text/plain": [
       "                       labels\n",
       "0  AM General Hummer SUV 2000\n",
       "1         Acura RL Sedan 2012\n",
       "2         Acura TL Sedan 2012\n",
       "3        Acura TL Type-S 2008\n",
       "4        Acura TSX Sedan 2012"
      ]
     },
     "execution_count": 5,
     "metadata": {},
     "output_type": "execute_result"
    }
   ],
   "source": [
    "labels = [column for column in cars_meta['class_names'][0]]\n",
    "labels = pd.DataFrame(labels, columns=['labels'])\n",
    "labels.head()"
   ]
  },
  {
   "cell_type": "markdown",
   "metadata": {},
   "source": [
    "Checking how many classes are in the dataset"
   ]
  },
  {
   "cell_type": "code",
   "execution_count": 6,
   "metadata": {},
   "outputs": [
    {
     "data": {
      "text/plain": [
       "196"
      ]
     },
     "execution_count": 6,
     "metadata": {},
     "output_type": "execute_result"
    }
   ],
   "source": [
    "len(labels)"
   ]
  },
  {
   "cell_type": "markdown",
   "metadata": {},
   "source": [
    "How is df structured?"
   ]
  },
  {
   "cell_type": "code",
   "execution_count": 7,
   "metadata": {},
   "outputs": [
    {
     "data": {
      "text/plain": [
       "array([[(array([[39]], dtype=uint8), array([[116]], dtype=uint8), array([[569]], dtype=uint16), array([[375]], dtype=uint16), array([[14]], dtype=uint8), array(['00001.jpg'], dtype='<U9')),\n",
       "        (array([[36]], dtype=uint8), array([[116]], dtype=uint8), array([[868]], dtype=uint16), array([[587]], dtype=uint16), array([[3]], dtype=uint8), array(['00002.jpg'], dtype='<U9')),\n",
       "        (array([[85]], dtype=uint8), array([[109]], dtype=uint8), array([[601]], dtype=uint16), array([[381]], dtype=uint16), array([[91]], dtype=uint8), array(['00003.jpg'], dtype='<U9')),\n",
       "        ...,\n",
       "        (array([[26]], dtype=uint8), array([[246]], dtype=uint8), array([[660]], dtype=uint16), array([[449]], dtype=uint16), array([[163]], dtype=uint8), array(['08142.jpg'], dtype='<U9')),\n",
       "        (array([[78]], dtype=uint8), array([[526]], dtype=uint16), array([[1489]], dtype=uint16), array([[908]], dtype=uint16), array([[112]], dtype=uint8), array(['08143.jpg'], dtype='<U9')),\n",
       "        (array([[20]], dtype=uint8), array([[240]], dtype=uint8), array([[862]], dtype=uint16), array([[677]], dtype=uint16), array([[17]], dtype=uint8), array(['08144.jpg'], dtype='<U9'))]],\n",
       "      dtype=[('bbox_x1', 'O'), ('bbox_y1', 'O'), ('bbox_x2', 'O'), ('bbox_y2', 'O'), ('class', 'O'), ('fname', 'O')])"
      ]
     },
     "execution_count": 7,
     "metadata": {},
     "output_type": "execute_result"
    }
   ],
   "source": [
    "cars_annos['annotations']"
   ]
  },
  {
   "cell_type": "markdown",
   "metadata": {},
   "source": [
    "## Creating a df"
   ]
  },
  {
   "cell_type": "code",
   "execution_count": 8,
   "metadata": {},
   "outputs": [
    {
     "data": {
      "text/html": [
       "<div>\n",
       "<style scoped>\n",
       "    .dataframe tbody tr th:only-of-type {\n",
       "        vertical-align: middle;\n",
       "    }\n",
       "\n",
       "    .dataframe tbody tr th {\n",
       "        vertical-align: top;\n",
       "    }\n",
       "\n",
       "    .dataframe thead th {\n",
       "        text-align: right;\n",
       "    }\n",
       "</style>\n",
       "<table border=\"1\" class=\"dataframe\">\n",
       "  <thead>\n",
       "    <tr style=\"text-align: right;\">\n",
       "      <th></th>\n",
       "      <th>fnames</th>\n",
       "      <th>car_class</th>\n",
       "    </tr>\n",
       "  </thead>\n",
       "  <tbody>\n",
       "    <tr>\n",
       "      <th>0</th>\n",
       "      <td>00001.jpg</td>\n",
       "      <td>14</td>\n",
       "    </tr>\n",
       "    <tr>\n",
       "      <th>1</th>\n",
       "      <td>00002.jpg</td>\n",
       "      <td>3</td>\n",
       "    </tr>\n",
       "    <tr>\n",
       "      <th>2</th>\n",
       "      <td>00003.jpg</td>\n",
       "      <td>91</td>\n",
       "    </tr>\n",
       "    <tr>\n",
       "      <th>3</th>\n",
       "      <td>00004.jpg</td>\n",
       "      <td>134</td>\n",
       "    </tr>\n",
       "    <tr>\n",
       "      <th>4</th>\n",
       "      <td>00005.jpg</td>\n",
       "      <td>106</td>\n",
       "    </tr>\n",
       "    <tr>\n",
       "      <th>...</th>\n",
       "      <td>...</td>\n",
       "      <td>...</td>\n",
       "    </tr>\n",
       "    <tr>\n",
       "      <th>8139</th>\n",
       "      <td>08140.jpg</td>\n",
       "      <td>78</td>\n",
       "    </tr>\n",
       "    <tr>\n",
       "      <th>8140</th>\n",
       "      <td>08141.jpg</td>\n",
       "      <td>196</td>\n",
       "    </tr>\n",
       "    <tr>\n",
       "      <th>8141</th>\n",
       "      <td>08142.jpg</td>\n",
       "      <td>163</td>\n",
       "    </tr>\n",
       "    <tr>\n",
       "      <th>8142</th>\n",
       "      <td>08143.jpg</td>\n",
       "      <td>112</td>\n",
       "    </tr>\n",
       "    <tr>\n",
       "      <th>8143</th>\n",
       "      <td>08144.jpg</td>\n",
       "      <td>17</td>\n",
       "    </tr>\n",
       "  </tbody>\n",
       "</table>\n",
       "<p>8144 rows × 2 columns</p>\n",
       "</div>"
      ],
      "text/plain": [
       "         fnames  car_class\n",
       "0     00001.jpg         14\n",
       "1     00002.jpg          3\n",
       "2     00003.jpg         91\n",
       "3     00004.jpg        134\n",
       "4     00005.jpg        106\n",
       "...         ...        ...\n",
       "8139  08140.jpg         78\n",
       "8140  08141.jpg        196\n",
       "8141  08142.jpg        163\n",
       "8142  08143.jpg        112\n",
       "8143  08144.jpg         17\n",
       "\n",
       "[8144 rows x 2 columns]"
      ]
     },
     "execution_count": 8,
     "metadata": {},
     "output_type": "execute_result"
    }
   ],
   "source": [
    "annotations = cars_annos['annotations']\n",
    "annotations = np.transpose(annotations)\n",
    "\n",
    "fnames = []\n",
    "bboxes = []\n",
    "\n",
    "for annotation in annotations:\n",
    "    fname = annotation[0][5][0]\n",
    "    car_class = annotation[0][4][0]\n",
    "    bboxes.append((fname, int(list(car_class)[0])))\n",
    "    \n",
    "    \n",
    "df = pd.DataFrame(bboxes, columns = ['fnames','car_class'])\n",
    "\n",
    "df"
   ]
  },
  {
   "cell_type": "markdown",
   "metadata": {},
   "source": [
    "Merging labels"
   ]
  },
  {
   "cell_type": "code",
   "execution_count": 9,
   "metadata": {},
   "outputs": [
    {
     "data": {
      "text/html": [
       "<div>\n",
       "<style scoped>\n",
       "    .dataframe tbody tr th:only-of-type {\n",
       "        vertical-align: middle;\n",
       "    }\n",
       "\n",
       "    .dataframe tbody tr th {\n",
       "        vertical-align: top;\n",
       "    }\n",
       "\n",
       "    .dataframe thead th {\n",
       "        text-align: right;\n",
       "    }\n",
       "</style>\n",
       "<table border=\"1\" class=\"dataframe\">\n",
       "  <thead>\n",
       "    <tr style=\"text-align: right;\">\n",
       "      <th></th>\n",
       "      <th>fnames</th>\n",
       "      <th>car_class</th>\n",
       "      <th>labels</th>\n",
       "    </tr>\n",
       "  </thead>\n",
       "  <tbody>\n",
       "    <tr>\n",
       "      <th>0</th>\n",
       "      <td>00001.jpg</td>\n",
       "      <td>14</td>\n",
       "      <td>Audi R8 Coupe 2012</td>\n",
       "    </tr>\n",
       "    <tr>\n",
       "      <th>1</th>\n",
       "      <td>00002.jpg</td>\n",
       "      <td>3</td>\n",
       "      <td>Acura TL Type-S 2008</td>\n",
       "    </tr>\n",
       "    <tr>\n",
       "      <th>2</th>\n",
       "      <td>00003.jpg</td>\n",
       "      <td>91</td>\n",
       "      <td>Dodge Magnum Wagon 2008</td>\n",
       "    </tr>\n",
       "    <tr>\n",
       "      <th>3</th>\n",
       "      <td>00004.jpg</td>\n",
       "      <td>134</td>\n",
       "      <td>Hyundai Elantra Sedan 2007</td>\n",
       "    </tr>\n",
       "    <tr>\n",
       "      <th>4</th>\n",
       "      <td>00005.jpg</td>\n",
       "      <td>106</td>\n",
       "      <td>Ford Mustang Convertible 2007</td>\n",
       "    </tr>\n",
       "    <tr>\n",
       "      <th>...</th>\n",
       "      <td>...</td>\n",
       "      <td>...</td>\n",
       "      <td>...</td>\n",
       "    </tr>\n",
       "    <tr>\n",
       "      <th>8138</th>\n",
       "      <td>08139.jpg</td>\n",
       "      <td>188</td>\n",
       "      <td>Toyota 4Runner SUV 2012</td>\n",
       "    </tr>\n",
       "    <tr>\n",
       "      <th>8139</th>\n",
       "      <td>08140.jpg</td>\n",
       "      <td>78</td>\n",
       "      <td>Chrysler 300 SRT-8 2010</td>\n",
       "    </tr>\n",
       "    <tr>\n",
       "      <th>8141</th>\n",
       "      <td>08142.jpg</td>\n",
       "      <td>163</td>\n",
       "      <td>Mercedes-Benz E-Class Sedan 2012</td>\n",
       "    </tr>\n",
       "    <tr>\n",
       "      <th>8142</th>\n",
       "      <td>08143.jpg</td>\n",
       "      <td>112</td>\n",
       "      <td>Ford F-150 Regular Cab 2012</td>\n",
       "    </tr>\n",
       "    <tr>\n",
       "      <th>8143</th>\n",
       "      <td>08144.jpg</td>\n",
       "      <td>17</td>\n",
       "      <td>Audi 100 Wagon 1994</td>\n",
       "    </tr>\n",
       "  </tbody>\n",
       "</table>\n",
       "<p>8104 rows × 3 columns</p>\n",
       "</div>"
      ],
      "text/plain": [
       "         fnames  car_class                            labels\n",
       "0     00001.jpg         14                Audi R8 Coupe 2012\n",
       "1     00002.jpg          3              Acura TL Type-S 2008\n",
       "2     00003.jpg         91           Dodge Magnum Wagon 2008\n",
       "3     00004.jpg        134        Hyundai Elantra Sedan 2007\n",
       "4     00005.jpg        106     Ford Mustang Convertible 2007\n",
       "...         ...        ...                               ...\n",
       "8138  08139.jpg        188           Toyota 4Runner SUV 2012\n",
       "8139  08140.jpg         78           Chrysler 300 SRT-8 2010\n",
       "8141  08142.jpg        163  Mercedes-Benz E-Class Sedan 2012\n",
       "8142  08143.jpg        112       Ford F-150 Regular Cab 2012\n",
       "8143  08144.jpg         17               Audi 100 Wagon 1994\n",
       "\n",
       "[8104 rows x 3 columns]"
      ]
     },
     "execution_count": 9,
     "metadata": {},
     "output_type": "execute_result"
    }
   ],
   "source": [
    "df = df.merge(labels, left_on='car_class', right_index=True)\n",
    "df = df.sort_index() \n",
    "df"
   ]
  },
  {
   "cell_type": "markdown",
   "metadata": {},
   "source": [
    "## DF Stringency\n",
    "\n",
    "As the functions are case sensitive, and the API may return results with a different upper or lower case, we've decided to change the labels column to only contain lower case letters, which is the same in the API data\n",
    "\n",
    "Apart from this, we have seperated the car classes into 4 new columns, namely: brand, model, type and year. This is done as it will be easier to deal with the individual parts when analysing the data. "
   ]
  },
  {
   "cell_type": "code",
   "execution_count": 10,
   "metadata": {},
   "outputs": [
    {
     "data": {
      "text/html": [
       "<div>\n",
       "<style scoped>\n",
       "    .dataframe tbody tr th:only-of-type {\n",
       "        vertical-align: middle;\n",
       "    }\n",
       "\n",
       "    .dataframe tbody tr th {\n",
       "        vertical-align: top;\n",
       "    }\n",
       "\n",
       "    .dataframe thead th {\n",
       "        text-align: right;\n",
       "    }\n",
       "</style>\n",
       "<table border=\"1\" class=\"dataframe\">\n",
       "  <thead>\n",
       "    <tr style=\"text-align: right;\">\n",
       "      <th></th>\n",
       "      <th>fnames</th>\n",
       "      <th>car_class</th>\n",
       "      <th>labels</th>\n",
       "      <th>labels_noyear</th>\n",
       "      <th>brand</th>\n",
       "      <th>model</th>\n",
       "      <th>type</th>\n",
       "      <th>year</th>\n",
       "      <th>labels_notype</th>\n",
       "    </tr>\n",
       "  </thead>\n",
       "  <tbody>\n",
       "    <tr>\n",
       "      <th>0</th>\n",
       "      <td>00001.jpg</td>\n",
       "      <td>14</td>\n",
       "      <td>audi r8 coupe 2012</td>\n",
       "      <td>audi r8 coupe</td>\n",
       "      <td>audi</td>\n",
       "      <td>r8</td>\n",
       "      <td>coupe</td>\n",
       "      <td>2012</td>\n",
       "      <td>audi r8 2012</td>\n",
       "    </tr>\n",
       "    <tr>\n",
       "      <th>1</th>\n",
       "      <td>00002.jpg</td>\n",
       "      <td>3</td>\n",
       "      <td>acura tl type-s 2008</td>\n",
       "      <td>acura tl type-s</td>\n",
       "      <td>acura</td>\n",
       "      <td>tl</td>\n",
       "      <td>type-s</td>\n",
       "      <td>2008</td>\n",
       "      <td>acura tl 2008</td>\n",
       "    </tr>\n",
       "    <tr>\n",
       "      <th>2</th>\n",
       "      <td>00003.jpg</td>\n",
       "      <td>91</td>\n",
       "      <td>dodge magnum wagon 2008</td>\n",
       "      <td>dodge magnum wagon</td>\n",
       "      <td>dodge</td>\n",
       "      <td>magnum</td>\n",
       "      <td>wagon</td>\n",
       "      <td>2008</td>\n",
       "      <td>dodge magnum 2008</td>\n",
       "    </tr>\n",
       "    <tr>\n",
       "      <th>3</th>\n",
       "      <td>00004.jpg</td>\n",
       "      <td>134</td>\n",
       "      <td>hyundai elantra sedan 2007</td>\n",
       "      <td>hyundai elantra sedan</td>\n",
       "      <td>hyundai</td>\n",
       "      <td>elantra</td>\n",
       "      <td>sedan</td>\n",
       "      <td>2007</td>\n",
       "      <td>hyundai elantra 2007</td>\n",
       "    </tr>\n",
       "    <tr>\n",
       "      <th>4</th>\n",
       "      <td>00005.jpg</td>\n",
       "      <td>106</td>\n",
       "      <td>ford mustang convertible 2007</td>\n",
       "      <td>ford mustang convertible</td>\n",
       "      <td>ford</td>\n",
       "      <td>mustang</td>\n",
       "      <td>convertible</td>\n",
       "      <td>2007</td>\n",
       "      <td>ford mustang 2007</td>\n",
       "    </tr>\n",
       "    <tr>\n",
       "      <th>...</th>\n",
       "      <td>...</td>\n",
       "      <td>...</td>\n",
       "      <td>...</td>\n",
       "      <td>...</td>\n",
       "      <td>...</td>\n",
       "      <td>...</td>\n",
       "      <td>...</td>\n",
       "      <td>...</td>\n",
       "      <td>...</td>\n",
       "    </tr>\n",
       "    <tr>\n",
       "      <th>8138</th>\n",
       "      <td>08139.jpg</td>\n",
       "      <td>188</td>\n",
       "      <td>toyota 4runner suv 2012</td>\n",
       "      <td>toyota 4runner suv</td>\n",
       "      <td>toyota</td>\n",
       "      <td>4runner</td>\n",
       "      <td>suv</td>\n",
       "      <td>2012</td>\n",
       "      <td>toyota 4runner 2012</td>\n",
       "    </tr>\n",
       "    <tr>\n",
       "      <th>8139</th>\n",
       "      <td>08140.jpg</td>\n",
       "      <td>78</td>\n",
       "      <td>chrysler 300 srt-8 2010</td>\n",
       "      <td>chrysler 300 srt-8</td>\n",
       "      <td>chrysler</td>\n",
       "      <td>300</td>\n",
       "      <td>srt-8</td>\n",
       "      <td>2010</td>\n",
       "      <td>chrysler 300 2010</td>\n",
       "    </tr>\n",
       "    <tr>\n",
       "      <th>8141</th>\n",
       "      <td>08142.jpg</td>\n",
       "      <td>163</td>\n",
       "      <td>mercedes-benz e-class sedan 2012</td>\n",
       "      <td>mercedes-benz e-class sedan</td>\n",
       "      <td>mercedes-benz</td>\n",
       "      <td>e-class</td>\n",
       "      <td>sedan</td>\n",
       "      <td>2012</td>\n",
       "      <td>mercedes-benz e-class 2012</td>\n",
       "    </tr>\n",
       "    <tr>\n",
       "      <th>8142</th>\n",
       "      <td>08143.jpg</td>\n",
       "      <td>112</td>\n",
       "      <td>ford f-150 regular cab 2012</td>\n",
       "      <td>ford f-150 regular cab</td>\n",
       "      <td>ford</td>\n",
       "      <td>f-150 regular</td>\n",
       "      <td>cab</td>\n",
       "      <td>2012</td>\n",
       "      <td>ford f-150 regular 2012</td>\n",
       "    </tr>\n",
       "    <tr>\n",
       "      <th>8143</th>\n",
       "      <td>08144.jpg</td>\n",
       "      <td>17</td>\n",
       "      <td>audi 100 wagon 1994</td>\n",
       "      <td>audi 100 wagon</td>\n",
       "      <td>audi</td>\n",
       "      <td>100</td>\n",
       "      <td>wagon</td>\n",
       "      <td>1994</td>\n",
       "      <td>audi 100 1994</td>\n",
       "    </tr>\n",
       "  </tbody>\n",
       "</table>\n",
       "<p>8104 rows × 9 columns</p>\n",
       "</div>"
      ],
      "text/plain": [
       "         fnames  car_class                            labels  \\\n",
       "0     00001.jpg         14                audi r8 coupe 2012   \n",
       "1     00002.jpg          3              acura tl type-s 2008   \n",
       "2     00003.jpg         91           dodge magnum wagon 2008   \n",
       "3     00004.jpg        134        hyundai elantra sedan 2007   \n",
       "4     00005.jpg        106     ford mustang convertible 2007   \n",
       "...         ...        ...                               ...   \n",
       "8138  08139.jpg        188           toyota 4runner suv 2012   \n",
       "8139  08140.jpg         78           chrysler 300 srt-8 2010   \n",
       "8141  08142.jpg        163  mercedes-benz e-class sedan 2012   \n",
       "8142  08143.jpg        112       ford f-150 regular cab 2012   \n",
       "8143  08144.jpg         17               audi 100 wagon 1994   \n",
       "\n",
       "                    labels_noyear          brand          model         type  \\\n",
       "0                   audi r8 coupe           audi             r8        coupe   \n",
       "1                 acura tl type-s          acura             tl       type-s   \n",
       "2              dodge magnum wagon          dodge         magnum        wagon   \n",
       "3           hyundai elantra sedan        hyundai        elantra        sedan   \n",
       "4        ford mustang convertible           ford        mustang  convertible   \n",
       "...                           ...            ...            ...          ...   \n",
       "8138           toyota 4runner suv         toyota        4runner          suv   \n",
       "8139           chrysler 300 srt-8       chrysler            300        srt-8   \n",
       "8141  mercedes-benz e-class sedan  mercedes-benz        e-class        sedan   \n",
       "8142       ford f-150 regular cab           ford  f-150 regular          cab   \n",
       "8143               audi 100 wagon           audi            100        wagon   \n",
       "\n",
       "      year               labels_notype  \n",
       "0     2012                audi r8 2012  \n",
       "1     2008               acura tl 2008  \n",
       "2     2008           dodge magnum 2008  \n",
       "3     2007        hyundai elantra 2007  \n",
       "4     2007           ford mustang 2007  \n",
       "...    ...                         ...  \n",
       "8138  2012         toyota 4runner 2012  \n",
       "8139  2010           chrysler 300 2010  \n",
       "8141  2012  mercedes-benz e-class 2012  \n",
       "8142  2012     ford f-150 regular 2012  \n",
       "8143  1994               audi 100 1994  \n",
       "\n",
       "[8104 rows x 9 columns]"
      ]
     },
     "execution_count": 10,
     "metadata": {},
     "output_type": "execute_result"
    }
   ],
   "source": [
    "df['labels'] = df['labels'].str.lower()\n",
    "df['labels_noyear'] = df['labels'].str.split().str[0:-1].apply(lambda x: ' '.join(map(str, x)))\n",
    "df['brand'] = df['labels'].str.split().str[0]\n",
    "df['model'] = df['labels'].str.split().str[1:-2].apply(lambda x: ' '.join(map(str, x)))\n",
    "df['type'] = df['labels'].str.split().str[-2]\n",
    "df['year'] = df['labels'].str.split().str[-1]\n",
    "df[\"labels_notype\"] = df['brand'] +\" \"+ df[\"model\"] + \" \" + df['year']\n",
    "df"
   ]
  },
  {
   "cell_type": "markdown",
   "metadata": {},
   "source": [
    "## DF EDA"
   ]
  },
  {
   "cell_type": "markdown",
   "metadata": {},
   "source": [
    "### Null values"
   ]
  },
  {
   "cell_type": "code",
   "execution_count": 41,
   "metadata": {},
   "outputs": [
    {
     "data": {
      "text/plain": [
       "fnames           0\n",
       "bbox_x1          0\n",
       "bbox_x2          0\n",
       "bbox_y1          0\n",
       "bbox_y2          0\n",
       "car_class        0\n",
       "labels           0\n",
       "labels_noyear    0\n",
       "brand            0\n",
       "model            0\n",
       "type             0\n",
       "year             0\n",
       "labels_notype    0\n",
       "dtype: int64"
      ]
     },
     "execution_count": 41,
     "metadata": {},
     "output_type": "execute_result"
    }
   ],
   "source": [
    "df.isnull().sum()"
   ]
  },
  {
   "cell_type": "markdown",
   "metadata": {},
   "source": [
    "### DF Info"
   ]
  },
  {
   "cell_type": "code",
   "execution_count": 42,
   "metadata": {},
   "outputs": [
    {
     "name": "stdout",
     "output_type": "stream",
     "text": [
      "<class 'pandas.core.frame.DataFrame'>\n",
      "Int64Index: 8104 entries, 0 to 8143\n",
      "Data columns (total 13 columns):\n",
      " #   Column         Non-Null Count  Dtype \n",
      "---  ------         --------------  ----- \n",
      " 0   fnames         8104 non-null   object\n",
      " 1   bbox_x1        8104 non-null   uint16\n",
      " 2   bbox_x2        8104 non-null   uint16\n",
      " 3   bbox_y1        8104 non-null   uint16\n",
      " 4   bbox_y2        8104 non-null   uint16\n",
      " 5   car_class      8104 non-null   int64 \n",
      " 6   labels         8104 non-null   object\n",
      " 7   labels_noyear  8104 non-null   object\n",
      " 8   brand          8104 non-null   object\n",
      " 9   model          8104 non-null   object\n",
      " 10  type           8104 non-null   object\n",
      " 11  year           8104 non-null   object\n",
      " 12  labels_notype  8104 non-null   object\n",
      "dtypes: int64(1), object(8), uint16(4)\n",
      "memory usage: 696.4+ KB\n"
     ]
    }
   ],
   "source": [
    "df.info()"
   ]
  },
  {
   "cell_type": "markdown",
   "metadata": {},
   "source": [
    "### Frequency labels - how many of difference car classes are there?"
   ]
  },
  {
   "cell_type": "code",
   "execution_count": 11,
   "metadata": {},
   "outputs": [
    {
     "data": {
      "text/html": [
       "<div>\n",
       "<style scoped>\n",
       "    .dataframe tbody tr th:only-of-type {\n",
       "        vertical-align: middle;\n",
       "    }\n",
       "\n",
       "    .dataframe tbody tr th {\n",
       "        vertical-align: top;\n",
       "    }\n",
       "\n",
       "    .dataframe thead th {\n",
       "        text-align: right;\n",
       "    }\n",
       "</style>\n",
       "<table border=\"1\" class=\"dataframe\">\n",
       "  <thead>\n",
       "    <tr style=\"text-align: right;\">\n",
       "      <th></th>\n",
       "      <th>count</th>\n",
       "    </tr>\n",
       "    <tr>\n",
       "      <th>labels</th>\n",
       "      <th></th>\n",
       "    </tr>\n",
       "  </thead>\n",
       "  <tbody>\n",
       "    <tr>\n",
       "      <th>gmc yukon hybrid suv 2012</th>\n",
       "      <td>68</td>\n",
       "    </tr>\n",
       "    <tr>\n",
       "      <th>chrysler crossfire convertible 2008</th>\n",
       "      <td>49</td>\n",
       "    </tr>\n",
       "    <tr>\n",
       "      <th>nissan leaf hatchback 2012</th>\n",
       "      <td>48</td>\n",
       "    </tr>\n",
       "    <tr>\n",
       "      <th>mercedes-benz c-class sedan 2012</th>\n",
       "      <td>48</td>\n",
       "    </tr>\n",
       "    <tr>\n",
       "      <th>chevrolet corvette ron fellows edition z06 2007</th>\n",
       "      <td>47</td>\n",
       "    </tr>\n",
       "  </tbody>\n",
       "</table>\n",
       "</div>"
      ],
      "text/plain": [
       "                                                 count\n",
       "labels                                                \n",
       "gmc yukon hybrid suv 2012                           68\n",
       "chrysler crossfire convertible 2008                 49\n",
       "nissan leaf hatchback 2012                          48\n",
       "mercedes-benz c-class sedan 2012                    48\n",
       "chevrolet corvette ron fellows edition z06 2007     47"
      ]
     },
     "execution_count": 11,
     "metadata": {},
     "output_type": "execute_result"
    }
   ],
   "source": [
    "freq_labels = df.groupby('labels').count()[['car_class']]\n",
    "freq_labels = freq_labels.rename(columns={'car_class': 'count'})\n",
    "freq_labels = freq_labels.sort_values(by='count', ascending=False)\n",
    "freq_labels.head()"
   ]
  },
  {
   "cell_type": "markdown",
   "metadata": {},
   "source": [
    "### Average amount of pictures"
   ]
  },
  {
   "cell_type": "code",
   "execution_count": 12,
   "metadata": {},
   "outputs": [
    {
     "data": {
      "text/plain": [
       "41.55897435897436"
      ]
     },
     "execution_count": 12,
     "metadata": {},
     "output_type": "execute_result"
    }
   ],
   "source": [
    "freq_labels['count'].mean()"
   ]
  },
  {
   "cell_type": "markdown",
   "metadata": {},
   "source": [
    "### 50 most represented cars in DF"
   ]
  },
  {
   "cell_type": "code",
   "execution_count": 13,
   "metadata": {},
   "outputs": [
    {
     "name": "stderr",
     "output_type": "stream",
     "text": [
      "c:\\Users\\Peter\\Documents\\GitHub\\car-license-plate-recognition-clean\\.venv\\lib\\site-packages\\altair\\utils\\core.py:317: FutureWarning: iteritems is deprecated and will be removed in a future version. Use .items instead.\n",
      "  for col_name, dtype in df.dtypes.iteritems():\n"
     ]
    },
    {
     "data": {
      "text/html": [
       "\n",
       "<div id=\"altair-viz-daa1cb305be94d74bf81186fbb58137c\"></div>\n",
       "<script type=\"text/javascript\">\n",
       "  var VEGA_DEBUG = (typeof VEGA_DEBUG == \"undefined\") ? {} : VEGA_DEBUG;\n",
       "  (function(spec, embedOpt){\n",
       "    let outputDiv = document.currentScript.previousElementSibling;\n",
       "    if (outputDiv.id !== \"altair-viz-daa1cb305be94d74bf81186fbb58137c\") {\n",
       "      outputDiv = document.getElementById(\"altair-viz-daa1cb305be94d74bf81186fbb58137c\");\n",
       "    }\n",
       "    const paths = {\n",
       "      \"vega\": \"https://cdn.jsdelivr.net/npm//vega@5?noext\",\n",
       "      \"vega-lib\": \"https://cdn.jsdelivr.net/npm//vega-lib?noext\",\n",
       "      \"vega-lite\": \"https://cdn.jsdelivr.net/npm//vega-lite@4.17.0?noext\",\n",
       "      \"vega-embed\": \"https://cdn.jsdelivr.net/npm//vega-embed@6?noext\",\n",
       "    };\n",
       "\n",
       "    function maybeLoadScript(lib, version) {\n",
       "      var key = `${lib.replace(\"-\", \"\")}_version`;\n",
       "      return (VEGA_DEBUG[key] == version) ?\n",
       "        Promise.resolve(paths[lib]) :\n",
       "        new Promise(function(resolve, reject) {\n",
       "          var s = document.createElement('script');\n",
       "          document.getElementsByTagName(\"head\")[0].appendChild(s);\n",
       "          s.async = true;\n",
       "          s.onload = () => {\n",
       "            VEGA_DEBUG[key] = version;\n",
       "            return resolve(paths[lib]);\n",
       "          };\n",
       "          s.onerror = () => reject(`Error loading script: ${paths[lib]}`);\n",
       "          s.src = paths[lib];\n",
       "        });\n",
       "    }\n",
       "\n",
       "    function showError(err) {\n",
       "      outputDiv.innerHTML = `<div class=\"error\" style=\"color:red;\">${err}</div>`;\n",
       "      throw err;\n",
       "    }\n",
       "\n",
       "    function displayChart(vegaEmbed) {\n",
       "      vegaEmbed(outputDiv, spec, embedOpt)\n",
       "        .catch(err => showError(`Javascript Error: ${err.message}<br>This usually means there's a typo in your chart specification. See the javascript console for the full traceback.`));\n",
       "    }\n",
       "\n",
       "    if(typeof define === \"function\" && define.amd) {\n",
       "      requirejs.config({paths});\n",
       "      require([\"vega-embed\"], displayChart, err => showError(`Error loading script: ${err.message}`));\n",
       "    } else {\n",
       "      maybeLoadScript(\"vega\", \"5\")\n",
       "        .then(() => maybeLoadScript(\"vega-lite\", \"4.17.0\"))\n",
       "        .then(() => maybeLoadScript(\"vega-embed\", \"6\"))\n",
       "        .catch(showError)\n",
       "        .then(() => displayChart(vegaEmbed));\n",
       "    }\n",
       "  })({\"config\": {\"view\": {\"continuousWidth\": 400, \"continuousHeight\": 300}}, \"data\": {\"name\": \"data-500e56b1153b029d3aa47fa942c578ad\"}, \"mark\": \"bar\", \"encoding\": {\"tooltip\": {\"field\": \"count\", \"type\": \"quantitative\"}, \"x\": {\"axis\": {\"title\": \"Count\"}, \"field\": \"count\", \"type\": \"quantitative\"}, \"y\": {\"axis\": {\"title\": \"Model\"}, \"field\": \"labels\", \"sort\": {\"field\": \"labels\", \"op\": \"count\", \"order\": \"ascending\"}, \"type\": \"nominal\"}}, \"height\": 300, \"selection\": {\"selector001\": {\"type\": \"interval\", \"bind\": \"scales\", \"encodings\": [\"x\", \"y\"]}}, \"width\": 600, \"$schema\": \"https://vega.github.io/schema/vega-lite/v4.17.0.json\", \"datasets\": {\"data-500e56b1153b029d3aa47fa942c578ad\": [{\"labels\": \"gmc yukon hybrid suv 2012\", \"count\": 68}, {\"labels\": \"chrysler crossfire convertible 2008\", \"count\": 49}, {\"labels\": \"nissan leaf hatchback 2012\", \"count\": 48}, {\"labels\": \"mercedes-benz c-class sedan 2012\", \"count\": 48}, {\"labels\": \"chevrolet corvette ron fellows edition z06 2007\", \"count\": 47}, {\"labels\": \"jeep patriot suv 2012\", \"count\": 47}, {\"labels\": \"volvo xc90 suv 2007\", \"count\": 46}, {\"labels\": \"dodge charger sedan 2012\", \"count\": 46}, {\"labels\": \"mercedes-benz sl-class coupe 2009\", \"count\": 46}, {\"labels\": \"bentley continental flying spur sedan 2007\", \"count\": 46}, {\"labels\": \"suzuki sx4 hatchback 2012\", \"count\": 46}, {\"labels\": \"plymouth neon coupe 1999\", \"count\": 46}, {\"labels\": \"audi s5 convertible 2012\", \"count\": 46}, {\"labels\": \"volkswagen beetle hatchback 2012\", \"count\": 46}, {\"labels\": \"fiat 500 abarth 2012\", \"count\": 46}, {\"labels\": \"ford f-150 regular cab 2012\", \"count\": 46}, {\"labels\": \"dodge caliber wagon 2012\", \"count\": 45}, {\"labels\": \"ford e-series wagon van 2012\", \"count\": 45}, {\"labels\": \"gmc canyon extended cab 2012\", \"count\": 45}, {\"labels\": \"bugatti veyron 16.4 convertible 2009\", \"count\": 45}, {\"labels\": \"mercedes-benz sprinter van 2012\", \"count\": 45}, {\"labels\": \"ford freestar minivan 2007\", \"count\": 45}, {\"labels\": \"ford focus sedan 2007\", \"count\": 45}, {\"labels\": \"chevrolet cobalt ss 2010\", \"count\": 45}, {\"labels\": \"ford edge suv 2012\", \"count\": 45}, {\"labels\": \"land rover range rover suv 2012\", \"count\": 45}, {\"labels\": \"daewoo nubira wagon 2002\", \"count\": 45}, {\"labels\": \"chevrolet malibu sedan 2007\", \"count\": 45}, {\"labels\": \"chevrolet silverado 1500 extended cab 2012\", \"count\": 45}, {\"labels\": \"chevrolet silverado 1500 hybrid crew cab 2012\", \"count\": 45}]}}, {\"mode\": \"vega-lite\"});\n",
       "</script>"
      ],
      "text/plain": [
       "alt.Chart(...)"
      ]
     },
     "execution_count": 13,
     "metadata": {},
     "output_type": "execute_result"
    }
   ],
   "source": [
    "freq_labels = freq_labels.reset_index()\n",
    "alt.Chart(freq_labels.head(30)).mark_bar().encode(\n",
    "    x=alt.X('count', axis=alt.Axis(title='Count')),\n",
    "    y=alt.Y('labels', axis=alt.Axis(title='Model'),sort=(alt.EncodingSortField(field='labels', op='count', order='ascending'))),\n",
    "    tooltip = 'count',\n",
    ").interactive().properties(\n",
    "    width=600,\n",
    "    height=300\n",
    ")"
   ]
  },
  {
   "cell_type": "markdown",
   "metadata": {},
   "source": [
    "Here we can see the whole data set, and as we can see that the car model with the fewest amount of pictures still has 24 entries."
   ]
  },
  {
   "cell_type": "code",
   "execution_count": 14,
   "metadata": {},
   "outputs": [
    {
     "data": {
      "text/html": [
       "\n",
       "<div id=\"altair-viz-34652c5071064e028ac4cd6ded48df0e\"></div>\n",
       "<script type=\"text/javascript\">\n",
       "  var VEGA_DEBUG = (typeof VEGA_DEBUG == \"undefined\") ? {} : VEGA_DEBUG;\n",
       "  (function(spec, embedOpt){\n",
       "    let outputDiv = document.currentScript.previousElementSibling;\n",
       "    if (outputDiv.id !== \"altair-viz-34652c5071064e028ac4cd6ded48df0e\") {\n",
       "      outputDiv = document.getElementById(\"altair-viz-34652c5071064e028ac4cd6ded48df0e\");\n",
       "    }\n",
       "    const paths = {\n",
       "      \"vega\": \"https://cdn.jsdelivr.net/npm//vega@5?noext\",\n",
       "      \"vega-lib\": \"https://cdn.jsdelivr.net/npm//vega-lib?noext\",\n",
       "      \"vega-lite\": \"https://cdn.jsdelivr.net/npm//vega-lite@4.17.0?noext\",\n",
       "      \"vega-embed\": \"https://cdn.jsdelivr.net/npm//vega-embed@6?noext\",\n",
       "    };\n",
       "\n",
       "    function maybeLoadScript(lib, version) {\n",
       "      var key = `${lib.replace(\"-\", \"\")}_version`;\n",
       "      return (VEGA_DEBUG[key] == version) ?\n",
       "        Promise.resolve(paths[lib]) :\n",
       "        new Promise(function(resolve, reject) {\n",
       "          var s = document.createElement('script');\n",
       "          document.getElementsByTagName(\"head\")[0].appendChild(s);\n",
       "          s.async = true;\n",
       "          s.onload = () => {\n",
       "            VEGA_DEBUG[key] = version;\n",
       "            return resolve(paths[lib]);\n",
       "          };\n",
       "          s.onerror = () => reject(`Error loading script: ${paths[lib]}`);\n",
       "          s.src = paths[lib];\n",
       "        });\n",
       "    }\n",
       "\n",
       "    function showError(err) {\n",
       "      outputDiv.innerHTML = `<div class=\"error\" style=\"color:red;\">${err}</div>`;\n",
       "      throw err;\n",
       "    }\n",
       "\n",
       "    function displayChart(vegaEmbed) {\n",
       "      vegaEmbed(outputDiv, spec, embedOpt)\n",
       "        .catch(err => showError(`Javascript Error: ${err.message}<br>This usually means there's a typo in your chart specification. See the javascript console for the full traceback.`));\n",
       "    }\n",
       "\n",
       "    if(typeof define === \"function\" && define.amd) {\n",
       "      requirejs.config({paths});\n",
       "      require([\"vega-embed\"], displayChart, err => showError(`Error loading script: ${err.message}`));\n",
       "    } else {\n",
       "      maybeLoadScript(\"vega\", \"5\")\n",
       "        .then(() => maybeLoadScript(\"vega-lite\", \"4.17.0\"))\n",
       "        .then(() => maybeLoadScript(\"vega-embed\", \"6\"))\n",
       "        .catch(showError)\n",
       "        .then(() => displayChart(vegaEmbed));\n",
       "    }\n",
       "  })({\"config\": {\"view\": {\"continuousWidth\": 400, \"continuousHeight\": 300}}, \"data\": {\"name\": \"data-901b70412d3b9c984397d9ee3df71341\"}, \"mark\": \"bar\", \"encoding\": {\"tooltip\": {\"field\": \"count\", \"type\": \"quantitative\"}, \"x\": {\"axis\": {\"title\": \"Count\"}, \"field\": \"count\", \"type\": \"quantitative\"}, \"y\": {\"axis\": {\"title\": \"Model\"}, \"field\": \"labels\", \"sort\": {\"field\": \"labels\", \"op\": \"count\", \"order\": \"ascending\"}, \"type\": \"nominal\"}}, \"height\": 300, \"selection\": {\"selector002\": {\"type\": \"interval\", \"bind\": \"scales\", \"encodings\": [\"x\", \"y\"]}}, \"width\": 600, \"$schema\": \"https://vega.github.io/schema/vega-lite/v4.17.0.json\", \"datasets\": {\"data-901b70412d3b9c984397d9ee3df71341\": [{\"labels\": \"chevrolet traverse suv 2012\", \"count\": 38}, {\"labels\": \"buick enclave suv 2012\", \"count\": 38}, {\"labels\": \"chrysler 300 srt-8 2010\", \"count\": 38}, {\"labels\": \"audi a5 coupe 2012\", \"count\": 37}, {\"labels\": \"chevrolet sonic sedan 2012\", \"count\": 37}, {\"labels\": \"bentley arnage sedan 2009\", \"count\": 37}, {\"labels\": \"mercedes-benz e-class sedan 2012\", \"count\": 37}, {\"labels\": \"maybach landaulet convertible 2012\", \"count\": 37}, {\"labels\": \"chevrolet impala sedan 2007\", \"count\": 37}, {\"labels\": \"bmw 1 series coupe 2012\", \"count\": 36}, {\"labels\": \"bentley continental gt coupe 2012\", \"count\": 36}, {\"labels\": \"lamborghini aventador coupe 2012\", \"count\": 36}, {\"labels\": \"mclaren mp4-12c coupe 2012\", \"count\": 36}, {\"labels\": \"lamborghini diablo coupe 2001\", \"count\": 36}, {\"labels\": \"chevrolet monte carlo coupe 2007\", \"count\": 35}, {\"labels\": \"bentley continental gt coupe 2007\", \"count\": 35}, {\"labels\": \"buick rainier suv 2007\", \"count\": 35}, {\"labels\": \"bmw 1 series convertible 2012\", \"count\": 34}, {\"labels\": \"hyundai elantra sedan 2007\", \"count\": 34}, {\"labels\": \"ferrari ff coupe 2012\", \"count\": 34}, {\"labels\": \"infiniti qx56 suv 2011\", \"count\": 34}, {\"labels\": \"aston martin virage coupe 2012\", \"count\": 33}, {\"labels\": \"isuzu ascender suv 2008\", \"count\": 33}, {\"labels\": \"bugatti veyron 16.4 coupe 2009\", \"count\": 33}, {\"labels\": \"acura tl sedan 2012\", \"count\": 32}, {\"labels\": \"rolls-royce ghost sedan 2012\", \"count\": 31}, {\"labels\": \"chevrolet avalanche crew cab 2012\", \"count\": 30}, {\"labels\": \"mazda tribute suv 2011\", \"count\": 29}, {\"labels\": \"fiat 500 convertible 2012\", \"count\": 28}, {\"labels\": \"hyundai genesis sedan 2012\", \"count\": 24}]}}, {\"mode\": \"vega-lite\"});\n",
       "</script>"
      ],
      "text/plain": [
       "alt.Chart(...)"
      ]
     },
     "execution_count": 14,
     "metadata": {},
     "output_type": "execute_result"
    }
   ],
   "source": [
    "alt.Chart(freq_labels.tail(30)).mark_bar().encode(\n",
    "    x=alt.X('count', axis=alt.Axis(title='Count')),\n",
    "    y=alt.Y('labels', axis=alt.Axis(title='Model'),sort=(alt.EncodingSortField(field='labels', op='count', order='ascending'))),\n",
    "    tooltip = 'count',\n",
    ").interactive().properties(\n",
    "    width=600,\n",
    "    height=300\n",
    ")"
   ]
  },
  {
   "cell_type": "markdown",
   "metadata": {},
   "source": [
    "### Model years in df"
   ]
  },
  {
   "cell_type": "code",
   "execution_count": 15,
   "metadata": {},
   "outputs": [
    {
     "data": {
      "text/html": [
       "<div>\n",
       "<style scoped>\n",
       "    .dataframe tbody tr th:only-of-type {\n",
       "        vertical-align: middle;\n",
       "    }\n",
       "\n",
       "    .dataframe tbody tr th {\n",
       "        vertical-align: top;\n",
       "    }\n",
       "\n",
       "    .dataframe thead th {\n",
       "        text-align: right;\n",
       "    }\n",
       "</style>\n",
       "<table border=\"1\" class=\"dataframe\">\n",
       "  <thead>\n",
       "    <tr style=\"text-align: right;\">\n",
       "      <th></th>\n",
       "      <th>year</th>\n",
       "      <th>count</th>\n",
       "    </tr>\n",
       "  </thead>\n",
       "  <tbody>\n",
       "    <tr>\n",
       "      <th>0</th>\n",
       "      <td>2012</td>\n",
       "      <td>4856</td>\n",
       "    </tr>\n",
       "    <tr>\n",
       "      <th>1</th>\n",
       "      <td>2007</td>\n",
       "      <td>1038</td>\n",
       "    </tr>\n",
       "    <tr>\n",
       "      <th>2</th>\n",
       "      <td>2009</td>\n",
       "      <td>542</td>\n",
       "    </tr>\n",
       "    <tr>\n",
       "      <th>3</th>\n",
       "      <td>2010</td>\n",
       "      <td>433</td>\n",
       "    </tr>\n",
       "    <tr>\n",
       "      <th>4</th>\n",
       "      <td>2011</td>\n",
       "      <td>312</td>\n",
       "    </tr>\n",
       "    <tr>\n",
       "      <th>5</th>\n",
       "      <td>2008</td>\n",
       "      <td>288</td>\n",
       "    </tr>\n",
       "    <tr>\n",
       "      <th>6</th>\n",
       "      <td>1994</td>\n",
       "      <td>128</td>\n",
       "    </tr>\n",
       "    <tr>\n",
       "      <th>7</th>\n",
       "      <td>1993</td>\n",
       "      <td>126</td>\n",
       "    </tr>\n",
       "    <tr>\n",
       "      <th>8</th>\n",
       "      <td>1998</td>\n",
       "      <td>86</td>\n",
       "    </tr>\n",
       "    <tr>\n",
       "      <th>9</th>\n",
       "      <td>2001</td>\n",
       "      <td>77</td>\n",
       "    </tr>\n",
       "    <tr>\n",
       "      <th>10</th>\n",
       "      <td>1999</td>\n",
       "      <td>46</td>\n",
       "    </tr>\n",
       "    <tr>\n",
       "      <th>11</th>\n",
       "      <td>2002</td>\n",
       "      <td>45</td>\n",
       "    </tr>\n",
       "    <tr>\n",
       "      <th>12</th>\n",
       "      <td>1991</td>\n",
       "      <td>43</td>\n",
       "    </tr>\n",
       "    <tr>\n",
       "      <th>13</th>\n",
       "      <td>1997</td>\n",
       "      <td>42</td>\n",
       "    </tr>\n",
       "    <tr>\n",
       "      <th>14</th>\n",
       "      <td>2006</td>\n",
       "      <td>42</td>\n",
       "    </tr>\n",
       "  </tbody>\n",
       "</table>\n",
       "</div>"
      ],
      "text/plain": [
       "    year  count\n",
       "0   2012   4856\n",
       "1   2007   1038\n",
       "2   2009    542\n",
       "3   2010    433\n",
       "4   2011    312\n",
       "5   2008    288\n",
       "6   1994    128\n",
       "7   1993    126\n",
       "8   1998     86\n",
       "9   2001     77\n",
       "10  1999     46\n",
       "11  2002     45\n",
       "12  1991     43\n",
       "13  1997     42\n",
       "14  2006     42"
      ]
     },
     "execution_count": 15,
     "metadata": {},
     "output_type": "execute_result"
    }
   ],
   "source": [
    "freq_labels_year = df.groupby('year').count()[['labels']]\n",
    "freq_labels_year = freq_labels_year.rename(columns={'labels': 'count'})\n",
    "freq_labels_year = freq_labels_year.sort_values(by='count', ascending=False)\n",
    "freq_labels_year = freq_labels_year.reset_index()\n",
    "freq_labels_year"
   ]
  },
  {
   "cell_type": "code",
   "execution_count": 16,
   "metadata": {},
   "outputs": [
    {
     "name": "stderr",
     "output_type": "stream",
     "text": [
      "c:\\Users\\Peter\\Documents\\GitHub\\car-license-plate-recognition-clean\\.venv\\lib\\site-packages\\altair\\utils\\core.py:317: FutureWarning: iteritems is deprecated and will be removed in a future version. Use .items instead.\n",
      "  for col_name, dtype in df.dtypes.iteritems():\n"
     ]
    },
    {
     "data": {
      "text/html": [
       "\n",
       "<div id=\"altair-viz-968ca9a1640446479cbb733b41fb6cfc\"></div>\n",
       "<script type=\"text/javascript\">\n",
       "  var VEGA_DEBUG = (typeof VEGA_DEBUG == \"undefined\") ? {} : VEGA_DEBUG;\n",
       "  (function(spec, embedOpt){\n",
       "    let outputDiv = document.currentScript.previousElementSibling;\n",
       "    if (outputDiv.id !== \"altair-viz-968ca9a1640446479cbb733b41fb6cfc\") {\n",
       "      outputDiv = document.getElementById(\"altair-viz-968ca9a1640446479cbb733b41fb6cfc\");\n",
       "    }\n",
       "    const paths = {\n",
       "      \"vega\": \"https://cdn.jsdelivr.net/npm//vega@5?noext\",\n",
       "      \"vega-lib\": \"https://cdn.jsdelivr.net/npm//vega-lib?noext\",\n",
       "      \"vega-lite\": \"https://cdn.jsdelivr.net/npm//vega-lite@4.17.0?noext\",\n",
       "      \"vega-embed\": \"https://cdn.jsdelivr.net/npm//vega-embed@6?noext\",\n",
       "    };\n",
       "\n",
       "    function maybeLoadScript(lib, version) {\n",
       "      var key = `${lib.replace(\"-\", \"\")}_version`;\n",
       "      return (VEGA_DEBUG[key] == version) ?\n",
       "        Promise.resolve(paths[lib]) :\n",
       "        new Promise(function(resolve, reject) {\n",
       "          var s = document.createElement('script');\n",
       "          document.getElementsByTagName(\"head\")[0].appendChild(s);\n",
       "          s.async = true;\n",
       "          s.onload = () => {\n",
       "            VEGA_DEBUG[key] = version;\n",
       "            return resolve(paths[lib]);\n",
       "          };\n",
       "          s.onerror = () => reject(`Error loading script: ${paths[lib]}`);\n",
       "          s.src = paths[lib];\n",
       "        });\n",
       "    }\n",
       "\n",
       "    function showError(err) {\n",
       "      outputDiv.innerHTML = `<div class=\"error\" style=\"color:red;\">${err}</div>`;\n",
       "      throw err;\n",
       "    }\n",
       "\n",
       "    function displayChart(vegaEmbed) {\n",
       "      vegaEmbed(outputDiv, spec, embedOpt)\n",
       "        .catch(err => showError(`Javascript Error: ${err.message}<br>This usually means there's a typo in your chart specification. See the javascript console for the full traceback.`));\n",
       "    }\n",
       "\n",
       "    if(typeof define === \"function\" && define.amd) {\n",
       "      requirejs.config({paths});\n",
       "      require([\"vega-embed\"], displayChart, err => showError(`Error loading script: ${err.message}`));\n",
       "    } else {\n",
       "      maybeLoadScript(\"vega\", \"5\")\n",
       "        .then(() => maybeLoadScript(\"vega-lite\", \"4.17.0\"))\n",
       "        .then(() => maybeLoadScript(\"vega-embed\", \"6\"))\n",
       "        .catch(showError)\n",
       "        .then(() => displayChart(vegaEmbed));\n",
       "    }\n",
       "  })({\"config\": {\"view\": {\"continuousWidth\": 400, \"continuousHeight\": 300}}, \"data\": {\"name\": \"data-bd3b8cd4c2cd5ca9093a147859c49adc\"}, \"mark\": \"bar\", \"encoding\": {\"tooltip\": {\"field\": \"count\", \"type\": \"quantitative\"}, \"x\": {\"axis\": {\"title\": \"Year\"}, \"field\": \"year\", \"sort\": {\"field\": \"labels\", \"op\": \"count\", \"order\": \"ascending\"}, \"type\": \"nominal\"}, \"y\": {\"axis\": {\"title\": \"Count\"}, \"field\": \"count\", \"type\": \"quantitative\"}}, \"height\": 300, \"selection\": {\"selector003\": {\"type\": \"interval\", \"bind\": \"scales\", \"encodings\": [\"x\", \"y\"]}}, \"width\": 600, \"$schema\": \"https://vega.github.io/schema/vega-lite/v4.17.0.json\", \"datasets\": {\"data-bd3b8cd4c2cd5ca9093a147859c49adc\": [{\"year\": \"2012\", \"count\": 4856}, {\"year\": \"2007\", \"count\": 1038}, {\"year\": \"2009\", \"count\": 542}, {\"year\": \"2010\", \"count\": 433}, {\"year\": \"2011\", \"count\": 312}, {\"year\": \"2008\", \"count\": 288}, {\"year\": \"1994\", \"count\": 128}, {\"year\": \"1993\", \"count\": 126}, {\"year\": \"1998\", \"count\": 86}, {\"year\": \"2001\", \"count\": 77}, {\"year\": \"1999\", \"count\": 46}, {\"year\": \"2002\", \"count\": 45}, {\"year\": \"1991\", \"count\": 43}, {\"year\": \"1997\", \"count\": 42}, {\"year\": \"2006\", \"count\": 42}]}}, {\"mode\": \"vega-lite\"});\n",
       "</script>"
      ],
      "text/plain": [
       "alt.Chart(...)"
      ]
     },
     "execution_count": 16,
     "metadata": {},
     "output_type": "execute_result"
    }
   ],
   "source": [
    "alt.Chart(freq_labels_year).mark_bar().encode(\n",
    "    x=alt.X('year', axis=alt.Axis(title='Year'),sort=(alt.EncodingSortField(field='labels', op='count', order='ascending'))),\n",
    "    y=alt.Y('count', axis=alt.Axis(title='Count'),),\n",
    "    tooltip = 'count',\n",
    ").interactive().properties(\n",
    "    width=600,\n",
    "    height=300\n",
    ")"
   ]
  },
  {
   "cell_type": "markdown",
   "metadata": {},
   "source": [
    "### Car brand distribution"
   ]
  },
  {
   "cell_type": "code",
   "execution_count": 17,
   "metadata": {},
   "outputs": [
    {
     "data": {
      "text/html": [
       "<div>\n",
       "<style scoped>\n",
       "    .dataframe tbody tr th:only-of-type {\n",
       "        vertical-align: middle;\n",
       "    }\n",
       "\n",
       "    .dataframe tbody tr th {\n",
       "        vertical-align: top;\n",
       "    }\n",
       "\n",
       "    .dataframe thead th {\n",
       "        text-align: right;\n",
       "    }\n",
       "</style>\n",
       "<table border=\"1\" class=\"dataframe\">\n",
       "  <thead>\n",
       "    <tr style=\"text-align: right;\">\n",
       "      <th></th>\n",
       "      <th>brand</th>\n",
       "      <th>count</th>\n",
       "    </tr>\n",
       "  </thead>\n",
       "  <tbody>\n",
       "    <tr>\n",
       "      <th>0</th>\n",
       "      <td>chevrolet</td>\n",
       "      <td>906</td>\n",
       "    </tr>\n",
       "    <tr>\n",
       "      <th>1</th>\n",
       "      <td>dodge</td>\n",
       "      <td>633</td>\n",
       "    </tr>\n",
       "    <tr>\n",
       "      <th>2</th>\n",
       "      <td>audi</td>\n",
       "      <td>587</td>\n",
       "    </tr>\n",
       "    <tr>\n",
       "      <th>3</th>\n",
       "      <td>bmw</td>\n",
       "      <td>530</td>\n",
       "    </tr>\n",
       "    <tr>\n",
       "      <th>4</th>\n",
       "      <td>ford</td>\n",
       "      <td>522</td>\n",
       "    </tr>\n",
       "    <tr>\n",
       "      <th>5</th>\n",
       "      <td>hyundai</td>\n",
       "      <td>435</td>\n",
       "    </tr>\n",
       "    <tr>\n",
       "      <th>6</th>\n",
       "      <td>mercedes-benz</td>\n",
       "      <td>264</td>\n",
       "    </tr>\n",
       "    <tr>\n",
       "      <th>7</th>\n",
       "      <td>chrysler</td>\n",
       "      <td>259</td>\n",
       "    </tr>\n",
       "    <tr>\n",
       "      <th>8</th>\n",
       "      <td>acura</td>\n",
       "      <td>248</td>\n",
       "    </tr>\n",
       "    <tr>\n",
       "      <th>9</th>\n",
       "      <td>gmc</td>\n",
       "      <td>241</td>\n",
       "    </tr>\n",
       "    <tr>\n",
       "      <th>10</th>\n",
       "      <td>bentley</td>\n",
       "      <td>234</td>\n",
       "    </tr>\n",
       "    <tr>\n",
       "      <th>11</th>\n",
       "      <td>jeep</td>\n",
       "      <td>224</td>\n",
       "    </tr>\n",
       "    <tr>\n",
       "      <th>12</th>\n",
       "      <td>nissan</td>\n",
       "      <td>173</td>\n",
       "    </tr>\n",
       "    <tr>\n",
       "      <th>13</th>\n",
       "      <td>suzuki</td>\n",
       "      <td>169</td>\n",
       "    </tr>\n",
       "    <tr>\n",
       "      <th>14</th>\n",
       "      <td>toyota</td>\n",
       "      <td>166</td>\n",
       "    </tr>\n",
       "    <tr>\n",
       "      <th>15</th>\n",
       "      <td>honda</td>\n",
       "      <td>166</td>\n",
       "    </tr>\n",
       "    <tr>\n",
       "      <th>16</th>\n",
       "      <td>buick</td>\n",
       "      <td>160</td>\n",
       "    </tr>\n",
       "    <tr>\n",
       "      <th>17</th>\n",
       "      <td>lamborghini</td>\n",
       "      <td>159</td>\n",
       "    </tr>\n",
       "    <tr>\n",
       "      <th>18</th>\n",
       "      <td>aston</td>\n",
       "      <td>158</td>\n",
       "    </tr>\n",
       "    <tr>\n",
       "      <th>19</th>\n",
       "      <td>ferrari</td>\n",
       "      <td>155</td>\n",
       "    </tr>\n",
       "    <tr>\n",
       "      <th>20</th>\n",
       "      <td>volvo</td>\n",
       "      <td>131</td>\n",
       "    </tr>\n",
       "    <tr>\n",
       "      <th>21</th>\n",
       "      <td>volkswagen</td>\n",
       "      <td>130</td>\n",
       "    </tr>\n",
       "    <tr>\n",
       "      <th>22</th>\n",
       "      <td>cadillac</td>\n",
       "      <td>126</td>\n",
       "    </tr>\n",
       "    <tr>\n",
       "      <th>23</th>\n",
       "      <td>rolls-royce</td>\n",
       "      <td>111</td>\n",
       "    </tr>\n",
       "    <tr>\n",
       "      <th>24</th>\n",
       "      <td>land</td>\n",
       "      <td>88</td>\n",
       "    </tr>\n",
       "    <tr>\n",
       "      <th>25</th>\n",
       "      <td>spyker</td>\n",
       "      <td>87</td>\n",
       "    </tr>\n",
       "    <tr>\n",
       "      <th>26</th>\n",
       "      <td>hummer</td>\n",
       "      <td>84</td>\n",
       "    </tr>\n",
       "    <tr>\n",
       "      <th>27</th>\n",
       "      <td>bugatti</td>\n",
       "      <td>78</td>\n",
       "    </tr>\n",
       "    <tr>\n",
       "      <th>28</th>\n",
       "      <td>infiniti</td>\n",
       "      <td>76</td>\n",
       "    </tr>\n",
       "    <tr>\n",
       "      <th>29</th>\n",
       "      <td>fiat</td>\n",
       "      <td>74</td>\n",
       "    </tr>\n",
       "    <tr>\n",
       "      <th>30</th>\n",
       "      <td>plymouth</td>\n",
       "      <td>46</td>\n",
       "    </tr>\n",
       "    <tr>\n",
       "      <th>31</th>\n",
       "      <td>daewoo</td>\n",
       "      <td>45</td>\n",
       "    </tr>\n",
       "    <tr>\n",
       "      <th>32</th>\n",
       "      <td>scion</td>\n",
       "      <td>44</td>\n",
       "    </tr>\n",
       "    <tr>\n",
       "      <th>33</th>\n",
       "      <td>porsche</td>\n",
       "      <td>44</td>\n",
       "    </tr>\n",
       "    <tr>\n",
       "      <th>34</th>\n",
       "      <td>ram</td>\n",
       "      <td>44</td>\n",
       "    </tr>\n",
       "    <tr>\n",
       "      <th>35</th>\n",
       "      <td>fisker</td>\n",
       "      <td>43</td>\n",
       "    </tr>\n",
       "    <tr>\n",
       "      <th>36</th>\n",
       "      <td>lincoln</td>\n",
       "      <td>43</td>\n",
       "    </tr>\n",
       "    <tr>\n",
       "      <th>37</th>\n",
       "      <td>smart</td>\n",
       "      <td>43</td>\n",
       "    </tr>\n",
       "    <tr>\n",
       "      <th>38</th>\n",
       "      <td>eagle</td>\n",
       "      <td>42</td>\n",
       "    </tr>\n",
       "    <tr>\n",
       "      <th>39</th>\n",
       "      <td>tesla</td>\n",
       "      <td>41</td>\n",
       "    </tr>\n",
       "    <tr>\n",
       "      <th>40</th>\n",
       "      <td>mitsubishi</td>\n",
       "      <td>41</td>\n",
       "    </tr>\n",
       "    <tr>\n",
       "      <th>41</th>\n",
       "      <td>geo</td>\n",
       "      <td>40</td>\n",
       "    </tr>\n",
       "    <tr>\n",
       "      <th>42</th>\n",
       "      <td>jaguar</td>\n",
       "      <td>40</td>\n",
       "    </tr>\n",
       "    <tr>\n",
       "      <th>43</th>\n",
       "      <td>mini</td>\n",
       "      <td>39</td>\n",
       "    </tr>\n",
       "    <tr>\n",
       "      <th>44</th>\n",
       "      <td>maybach</td>\n",
       "      <td>37</td>\n",
       "    </tr>\n",
       "    <tr>\n",
       "      <th>45</th>\n",
       "      <td>mclaren</td>\n",
       "      <td>36</td>\n",
       "    </tr>\n",
       "    <tr>\n",
       "      <th>46</th>\n",
       "      <td>isuzu</td>\n",
       "      <td>33</td>\n",
       "    </tr>\n",
       "    <tr>\n",
       "      <th>47</th>\n",
       "      <td>mazda</td>\n",
       "      <td>29</td>\n",
       "    </tr>\n",
       "  </tbody>\n",
       "</table>\n",
       "</div>"
      ],
      "text/plain": [
       "            brand  count\n",
       "0       chevrolet    906\n",
       "1           dodge    633\n",
       "2            audi    587\n",
       "3             bmw    530\n",
       "4            ford    522\n",
       "5         hyundai    435\n",
       "6   mercedes-benz    264\n",
       "7        chrysler    259\n",
       "8           acura    248\n",
       "9             gmc    241\n",
       "10        bentley    234\n",
       "11           jeep    224\n",
       "12         nissan    173\n",
       "13         suzuki    169\n",
       "14         toyota    166\n",
       "15          honda    166\n",
       "16          buick    160\n",
       "17    lamborghini    159\n",
       "18          aston    158\n",
       "19        ferrari    155\n",
       "20          volvo    131\n",
       "21     volkswagen    130\n",
       "22       cadillac    126\n",
       "23    rolls-royce    111\n",
       "24           land     88\n",
       "25         spyker     87\n",
       "26         hummer     84\n",
       "27        bugatti     78\n",
       "28       infiniti     76\n",
       "29           fiat     74\n",
       "30       plymouth     46\n",
       "31         daewoo     45\n",
       "32          scion     44\n",
       "33        porsche     44\n",
       "34            ram     44\n",
       "35         fisker     43\n",
       "36        lincoln     43\n",
       "37          smart     43\n",
       "38          eagle     42\n",
       "39          tesla     41\n",
       "40     mitsubishi     41\n",
       "41            geo     40\n",
       "42         jaguar     40\n",
       "43           mini     39\n",
       "44        maybach     37\n",
       "45        mclaren     36\n",
       "46          isuzu     33\n",
       "47          mazda     29"
      ]
     },
     "execution_count": 17,
     "metadata": {},
     "output_type": "execute_result"
    }
   ],
   "source": [
    "freq_labels_brand = df.groupby('brand').count()[['labels']]\n",
    "freq_labels_brand = freq_labels_brand.rename(columns={'labels': 'count'})\n",
    "freq_labels_brand = freq_labels_brand.sort_values(by='count', ascending=False)\n",
    "freq_labels_brand = freq_labels_brand.reset_index()\n",
    "freq_labels_brand"
   ]
  },
  {
   "cell_type": "code",
   "execution_count": 18,
   "metadata": {},
   "outputs": [
    {
     "name": "stderr",
     "output_type": "stream",
     "text": [
      "c:\\Users\\Peter\\Documents\\GitHub\\car-license-plate-recognition-clean\\.venv\\lib\\site-packages\\altair\\utils\\core.py:317: FutureWarning: iteritems is deprecated and will be removed in a future version. Use .items instead.\n",
      "  for col_name, dtype in df.dtypes.iteritems():\n"
     ]
    },
    {
     "data": {
      "text/html": [
       "\n",
       "<div id=\"altair-viz-0d28aefc61f643aab7a1ffdcc677626d\"></div>\n",
       "<script type=\"text/javascript\">\n",
       "  var VEGA_DEBUG = (typeof VEGA_DEBUG == \"undefined\") ? {} : VEGA_DEBUG;\n",
       "  (function(spec, embedOpt){\n",
       "    let outputDiv = document.currentScript.previousElementSibling;\n",
       "    if (outputDiv.id !== \"altair-viz-0d28aefc61f643aab7a1ffdcc677626d\") {\n",
       "      outputDiv = document.getElementById(\"altair-viz-0d28aefc61f643aab7a1ffdcc677626d\");\n",
       "    }\n",
       "    const paths = {\n",
       "      \"vega\": \"https://cdn.jsdelivr.net/npm//vega@5?noext\",\n",
       "      \"vega-lib\": \"https://cdn.jsdelivr.net/npm//vega-lib?noext\",\n",
       "      \"vega-lite\": \"https://cdn.jsdelivr.net/npm//vega-lite@4.17.0?noext\",\n",
       "      \"vega-embed\": \"https://cdn.jsdelivr.net/npm//vega-embed@6?noext\",\n",
       "    };\n",
       "\n",
       "    function maybeLoadScript(lib, version) {\n",
       "      var key = `${lib.replace(\"-\", \"\")}_version`;\n",
       "      return (VEGA_DEBUG[key] == version) ?\n",
       "        Promise.resolve(paths[lib]) :\n",
       "        new Promise(function(resolve, reject) {\n",
       "          var s = document.createElement('script');\n",
       "          document.getElementsByTagName(\"head\")[0].appendChild(s);\n",
       "          s.async = true;\n",
       "          s.onload = () => {\n",
       "            VEGA_DEBUG[key] = version;\n",
       "            return resolve(paths[lib]);\n",
       "          };\n",
       "          s.onerror = () => reject(`Error loading script: ${paths[lib]}`);\n",
       "          s.src = paths[lib];\n",
       "        });\n",
       "    }\n",
       "\n",
       "    function showError(err) {\n",
       "      outputDiv.innerHTML = `<div class=\"error\" style=\"color:red;\">${err}</div>`;\n",
       "      throw err;\n",
       "    }\n",
       "\n",
       "    function displayChart(vegaEmbed) {\n",
       "      vegaEmbed(outputDiv, spec, embedOpt)\n",
       "        .catch(err => showError(`Javascript Error: ${err.message}<br>This usually means there's a typo in your chart specification. See the javascript console for the full traceback.`));\n",
       "    }\n",
       "\n",
       "    if(typeof define === \"function\" && define.amd) {\n",
       "      requirejs.config({paths});\n",
       "      require([\"vega-embed\"], displayChart, err => showError(`Error loading script: ${err.message}`));\n",
       "    } else {\n",
       "      maybeLoadScript(\"vega\", \"5\")\n",
       "        .then(() => maybeLoadScript(\"vega-lite\", \"4.17.0\"))\n",
       "        .then(() => maybeLoadScript(\"vega-embed\", \"6\"))\n",
       "        .catch(showError)\n",
       "        .then(() => displayChart(vegaEmbed));\n",
       "    }\n",
       "  })({\"config\": {\"view\": {\"continuousWidth\": 400, \"continuousHeight\": 300}}, \"data\": {\"name\": \"data-687fd700699855a7220bea0dbc37951a\"}, \"mark\": \"bar\", \"encoding\": {\"tooltip\": {\"field\": \"count\", \"type\": \"quantitative\"}, \"x\": {\"axis\": {\"title\": \"Brand\"}, \"field\": \"brand\", \"sort\": {\"field\": \"labels\", \"op\": \"count\", \"order\": \"ascending\"}, \"type\": \"nominal\"}, \"y\": {\"axis\": {\"title\": \"Count\"}, \"field\": \"count\", \"type\": \"quantitative\"}}, \"height\": 300, \"selection\": {\"selector004\": {\"type\": \"interval\", \"bind\": \"scales\", \"encodings\": [\"x\", \"y\"]}}, \"width\": 600, \"$schema\": \"https://vega.github.io/schema/vega-lite/v4.17.0.json\", \"datasets\": {\"data-687fd700699855a7220bea0dbc37951a\": [{\"brand\": \"chevrolet\", \"count\": 906}, {\"brand\": \"dodge\", \"count\": 633}, {\"brand\": \"audi\", \"count\": 587}, {\"brand\": \"bmw\", \"count\": 530}, {\"brand\": \"ford\", \"count\": 522}, {\"brand\": \"hyundai\", \"count\": 435}, {\"brand\": \"mercedes-benz\", \"count\": 264}, {\"brand\": \"chrysler\", \"count\": 259}, {\"brand\": \"acura\", \"count\": 248}, {\"brand\": \"gmc\", \"count\": 241}, {\"brand\": \"bentley\", \"count\": 234}, {\"brand\": \"jeep\", \"count\": 224}, {\"brand\": \"nissan\", \"count\": 173}, {\"brand\": \"suzuki\", \"count\": 169}, {\"brand\": \"toyota\", \"count\": 166}, {\"brand\": \"honda\", \"count\": 166}, {\"brand\": \"buick\", \"count\": 160}, {\"brand\": \"lamborghini\", \"count\": 159}, {\"brand\": \"aston\", \"count\": 158}, {\"brand\": \"ferrari\", \"count\": 155}, {\"brand\": \"volvo\", \"count\": 131}, {\"brand\": \"volkswagen\", \"count\": 130}, {\"brand\": \"cadillac\", \"count\": 126}, {\"brand\": \"rolls-royce\", \"count\": 111}, {\"brand\": \"land\", \"count\": 88}, {\"brand\": \"spyker\", \"count\": 87}, {\"brand\": \"hummer\", \"count\": 84}, {\"brand\": \"bugatti\", \"count\": 78}, {\"brand\": \"infiniti\", \"count\": 76}, {\"brand\": \"fiat\", \"count\": 74}, {\"brand\": \"plymouth\", \"count\": 46}, {\"brand\": \"daewoo\", \"count\": 45}, {\"brand\": \"scion\", \"count\": 44}, {\"brand\": \"porsche\", \"count\": 44}, {\"brand\": \"ram\", \"count\": 44}, {\"brand\": \"fisker\", \"count\": 43}, {\"brand\": \"lincoln\", \"count\": 43}, {\"brand\": \"smart\", \"count\": 43}, {\"brand\": \"eagle\", \"count\": 42}, {\"brand\": \"tesla\", \"count\": 41}, {\"brand\": \"mitsubishi\", \"count\": 41}, {\"brand\": \"geo\", \"count\": 40}, {\"brand\": \"jaguar\", \"count\": 40}, {\"brand\": \"mini\", \"count\": 39}, {\"brand\": \"maybach\", \"count\": 37}, {\"brand\": \"mclaren\", \"count\": 36}, {\"brand\": \"isuzu\", \"count\": 33}, {\"brand\": \"mazda\", \"count\": 29}]}}, {\"mode\": \"vega-lite\"});\n",
       "</script>"
      ],
      "text/plain": [
       "alt.Chart(...)"
      ]
     },
     "execution_count": 18,
     "metadata": {},
     "output_type": "execute_result"
    }
   ],
   "source": [
    "alt.Chart(freq_labels_brand).mark_bar().encode(\n",
    "    x=alt.X('brand', axis=alt.Axis(title='Brand'),sort=(alt.EncodingSortField(field='labels', op='count', order='ascending'))),\n",
    "    y=alt.Y('count', axis=alt.Axis(title='Count'),),\n",
    "    tooltip = 'count',\n",
    ").interactive().properties(\n",
    "    width=600,\n",
    "    height=300\n",
    ")"
   ]
  },
  {
   "cell_type": "markdown",
   "metadata": {},
   "source": [
    "### Unique labels"
   ]
  },
  {
   "cell_type": "code",
   "execution_count": 19,
   "metadata": {},
   "outputs": [
    {
     "data": {
      "text/html": [
       "<div>\n",
       "<style scoped>\n",
       "    .dataframe tbody tr th:only-of-type {\n",
       "        vertical-align: middle;\n",
       "    }\n",
       "\n",
       "    .dataframe tbody tr th {\n",
       "        vertical-align: top;\n",
       "    }\n",
       "\n",
       "    .dataframe thead th {\n",
       "        text-align: right;\n",
       "    }\n",
       "</style>\n",
       "<table border=\"1\" class=\"dataframe\">\n",
       "  <thead>\n",
       "    <tr style=\"text-align: right;\">\n",
       "      <th></th>\n",
       "      <th>fnames</th>\n",
       "      <th>car_class</th>\n",
       "      <th>labels</th>\n",
       "      <th>labels_noyear</th>\n",
       "      <th>brand</th>\n",
       "      <th>model</th>\n",
       "      <th>type</th>\n",
       "      <th>year</th>\n",
       "      <th>labels_notype</th>\n",
       "    </tr>\n",
       "  </thead>\n",
       "  <tbody>\n",
       "    <tr>\n",
       "      <th>0</th>\n",
       "      <td>00001.jpg</td>\n",
       "      <td>14</td>\n",
       "      <td>audi r8 coupe 2012</td>\n",
       "      <td>audi r8 coupe</td>\n",
       "      <td>audi</td>\n",
       "      <td>r8</td>\n",
       "      <td>coupe</td>\n",
       "      <td>2012</td>\n",
       "      <td>audi r8 2012</td>\n",
       "    </tr>\n",
       "    <tr>\n",
       "      <th>1</th>\n",
       "      <td>00002.jpg</td>\n",
       "      <td>3</td>\n",
       "      <td>acura tl type-s 2008</td>\n",
       "      <td>acura tl type-s</td>\n",
       "      <td>acura</td>\n",
       "      <td>tl</td>\n",
       "      <td>type-s</td>\n",
       "      <td>2008</td>\n",
       "      <td>acura tl 2008</td>\n",
       "    </tr>\n",
       "    <tr>\n",
       "      <th>2</th>\n",
       "      <td>00003.jpg</td>\n",
       "      <td>91</td>\n",
       "      <td>dodge magnum wagon 2008</td>\n",
       "      <td>dodge magnum wagon</td>\n",
       "      <td>dodge</td>\n",
       "      <td>magnum</td>\n",
       "      <td>wagon</td>\n",
       "      <td>2008</td>\n",
       "      <td>dodge magnum 2008</td>\n",
       "    </tr>\n",
       "    <tr>\n",
       "      <th>3</th>\n",
       "      <td>00004.jpg</td>\n",
       "      <td>134</td>\n",
       "      <td>hyundai elantra sedan 2007</td>\n",
       "      <td>hyundai elantra sedan</td>\n",
       "      <td>hyundai</td>\n",
       "      <td>elantra</td>\n",
       "      <td>sedan</td>\n",
       "      <td>2007</td>\n",
       "      <td>hyundai elantra 2007</td>\n",
       "    </tr>\n",
       "    <tr>\n",
       "      <th>4</th>\n",
       "      <td>00005.jpg</td>\n",
       "      <td>106</td>\n",
       "      <td>ford mustang convertible 2007</td>\n",
       "      <td>ford mustang convertible</td>\n",
       "      <td>ford</td>\n",
       "      <td>mustang</td>\n",
       "      <td>convertible</td>\n",
       "      <td>2007</td>\n",
       "      <td>ford mustang 2007</td>\n",
       "    </tr>\n",
       "    <tr>\n",
       "      <th>...</th>\n",
       "      <td>...</td>\n",
       "      <td>...</td>\n",
       "      <td>...</td>\n",
       "      <td>...</td>\n",
       "      <td>...</td>\n",
       "      <td>...</td>\n",
       "      <td>...</td>\n",
       "      <td>...</td>\n",
       "      <td>...</td>\n",
       "    </tr>\n",
       "    <tr>\n",
       "      <th>190</th>\n",
       "      <td>00670.jpg</td>\n",
       "      <td>2</td>\n",
       "      <td>acura tl sedan 2012</td>\n",
       "      <td>acura tl sedan</td>\n",
       "      <td>acura</td>\n",
       "      <td>tl</td>\n",
       "      <td>sedan</td>\n",
       "      <td>2012</td>\n",
       "      <td>acura tl 2012</td>\n",
       "    </tr>\n",
       "    <tr>\n",
       "      <th>191</th>\n",
       "      <td>00678.jpg</td>\n",
       "      <td>27</td>\n",
       "      <td>bmw 1 series coupe 2012</td>\n",
       "      <td>bmw 1 series coupe</td>\n",
       "      <td>bmw</td>\n",
       "      <td>1 series</td>\n",
       "      <td>coupe</td>\n",
       "      <td>2012</td>\n",
       "      <td>bmw 1 series 2012</td>\n",
       "    </tr>\n",
       "    <tr>\n",
       "      <th>192</th>\n",
       "      <td>00705.jpg</td>\n",
       "      <td>95</td>\n",
       "      <td>dodge charger sedan 2012</td>\n",
       "      <td>dodge charger sedan</td>\n",
       "      <td>dodge</td>\n",
       "      <td>charger</td>\n",
       "      <td>sedan</td>\n",
       "      <td>2012</td>\n",
       "      <td>dodge charger 2012</td>\n",
       "    </tr>\n",
       "    <tr>\n",
       "      <th>193</th>\n",
       "      <td>00792.jpg</td>\n",
       "      <td>35</td>\n",
       "      <td>bmw m6 convertible 2010</td>\n",
       "      <td>bmw m6 convertible</td>\n",
       "      <td>bmw</td>\n",
       "      <td>m6</td>\n",
       "      <td>convertible</td>\n",
       "      <td>2010</td>\n",
       "      <td>bmw m6 2010</td>\n",
       "    </tr>\n",
       "    <tr>\n",
       "      <th>194</th>\n",
       "      <td>00821.jpg</td>\n",
       "      <td>78</td>\n",
       "      <td>chrysler 300 srt-8 2010</td>\n",
       "      <td>chrysler 300 srt-8</td>\n",
       "      <td>chrysler</td>\n",
       "      <td>300</td>\n",
       "      <td>srt-8</td>\n",
       "      <td>2010</td>\n",
       "      <td>chrysler 300 2010</td>\n",
       "    </tr>\n",
       "  </tbody>\n",
       "</table>\n",
       "<p>195 rows × 9 columns</p>\n",
       "</div>"
      ],
      "text/plain": [
       "        fnames  car_class                         labels  \\\n",
       "0    00001.jpg         14             audi r8 coupe 2012   \n",
       "1    00002.jpg          3           acura tl type-s 2008   \n",
       "2    00003.jpg         91        dodge magnum wagon 2008   \n",
       "3    00004.jpg        134     hyundai elantra sedan 2007   \n",
       "4    00005.jpg        106  ford mustang convertible 2007   \n",
       "..         ...        ...                            ...   \n",
       "190  00670.jpg          2            acura tl sedan 2012   \n",
       "191  00678.jpg         27        bmw 1 series coupe 2012   \n",
       "192  00705.jpg         95       dodge charger sedan 2012   \n",
       "193  00792.jpg         35        bmw m6 convertible 2010   \n",
       "194  00821.jpg         78        chrysler 300 srt-8 2010   \n",
       "\n",
       "                labels_noyear     brand     model         type  year  \\\n",
       "0               audi r8 coupe      audi        r8        coupe  2012   \n",
       "1             acura tl type-s     acura        tl       type-s  2008   \n",
       "2          dodge magnum wagon     dodge    magnum        wagon  2008   \n",
       "3       hyundai elantra sedan   hyundai   elantra        sedan  2007   \n",
       "4    ford mustang convertible      ford   mustang  convertible  2007   \n",
       "..                        ...       ...       ...          ...   ...   \n",
       "190            acura tl sedan     acura        tl        sedan  2012   \n",
       "191        bmw 1 series coupe       bmw  1 series        coupe  2012   \n",
       "192       dodge charger sedan     dodge   charger        sedan  2012   \n",
       "193        bmw m6 convertible       bmw        m6  convertible  2010   \n",
       "194        chrysler 300 srt-8  chrysler       300        srt-8  2010   \n",
       "\n",
       "            labels_notype  \n",
       "0            audi r8 2012  \n",
       "1           acura tl 2008  \n",
       "2       dodge magnum 2008  \n",
       "3    hyundai elantra 2007  \n",
       "4       ford mustang 2007  \n",
       "..                    ...  \n",
       "190         acura tl 2012  \n",
       "191     bmw 1 series 2012  \n",
       "192    dodge charger 2012  \n",
       "193           bmw m6 2010  \n",
       "194     chrysler 300 2010  \n",
       "\n",
       "[195 rows x 9 columns]"
      ]
     },
     "execution_count": 19,
     "metadata": {},
     "output_type": "execute_result"
    }
   ],
   "source": [
    "df_unique = df.copy()\n",
    "df_unique = df_unique.drop_duplicates(subset=['car_class']).reset_index()\n",
    "df_unique = df_unique.drop('index',axis=1)\n",
    "df_unique"
   ]
  },
  {
   "cell_type": "markdown",
   "metadata": {},
   "source": [
    "Below we can see that there are 195 unique labels contained in the training data set, this means that there is one of the labels that does not have a picture in this data set."
   ]
  },
  {
   "cell_type": "code",
   "execution_count": 52,
   "metadata": {},
   "outputs": [
    {
     "data": {
      "text/plain": [
       "195"
      ]
     },
     "execution_count": 52,
     "metadata": {},
     "output_type": "execute_result"
    }
   ],
   "source": [
    "df_unique['labels'].count()"
   ]
  },
  {
   "cell_type": "code",
   "execution_count": 53,
   "metadata": {},
   "outputs": [
    {
     "data": {
      "text/plain": [
       "195"
      ]
     },
     "execution_count": 53,
     "metadata": {},
     "output_type": "execute_result"
    }
   ],
   "source": [
    "df_unique['labels_noyear'].count()"
   ]
  },
  {
   "cell_type": "code",
   "execution_count": 20,
   "metadata": {},
   "outputs": [
    {
     "data": {
      "text/html": [
       "<div>\n",
       "<style scoped>\n",
       "    .dataframe tbody tr th:only-of-type {\n",
       "        vertical-align: middle;\n",
       "    }\n",
       "\n",
       "    .dataframe tbody tr th {\n",
       "        vertical-align: top;\n",
       "    }\n",
       "\n",
       "    .dataframe thead th {\n",
       "        text-align: right;\n",
       "    }\n",
       "</style>\n",
       "<table border=\"1\" class=\"dataframe\">\n",
       "  <thead>\n",
       "    <tr style=\"text-align: right;\">\n",
       "      <th></th>\n",
       "      <th>fnames</th>\n",
       "      <th>car_class</th>\n",
       "      <th>labels</th>\n",
       "      <th>labels_noyear</th>\n",
       "      <th>brand</th>\n",
       "      <th>model</th>\n",
       "      <th>type</th>\n",
       "      <th>year</th>\n",
       "      <th>labels_notype</th>\n",
       "    </tr>\n",
       "  </thead>\n",
       "  <tbody>\n",
       "    <tr>\n",
       "      <th>0</th>\n",
       "      <td>00001.jpg</td>\n",
       "      <td>14</td>\n",
       "      <td>audi r8 coupe 2012</td>\n",
       "      <td>audi r8 coupe</td>\n",
       "      <td>audi</td>\n",
       "      <td>r8</td>\n",
       "      <td>coupe</td>\n",
       "      <td>2012</td>\n",
       "      <td>audi r8 2012</td>\n",
       "    </tr>\n",
       "    <tr>\n",
       "      <th>1</th>\n",
       "      <td>00002.jpg</td>\n",
       "      <td>3</td>\n",
       "      <td>acura tl type-s 2008</td>\n",
       "      <td>acura tl type-s</td>\n",
       "      <td>acura</td>\n",
       "      <td>tl</td>\n",
       "      <td>type-s</td>\n",
       "      <td>2008</td>\n",
       "      <td>acura tl 2008</td>\n",
       "    </tr>\n",
       "    <tr>\n",
       "      <th>2</th>\n",
       "      <td>00003.jpg</td>\n",
       "      <td>91</td>\n",
       "      <td>dodge magnum wagon 2008</td>\n",
       "      <td>dodge magnum wagon</td>\n",
       "      <td>dodge</td>\n",
       "      <td>magnum</td>\n",
       "      <td>wagon</td>\n",
       "      <td>2008</td>\n",
       "      <td>dodge magnum 2008</td>\n",
       "    </tr>\n",
       "    <tr>\n",
       "      <th>3</th>\n",
       "      <td>00004.jpg</td>\n",
       "      <td>134</td>\n",
       "      <td>hyundai elantra sedan 2007</td>\n",
       "      <td>hyundai elantra sedan</td>\n",
       "      <td>hyundai</td>\n",
       "      <td>elantra</td>\n",
       "      <td>sedan</td>\n",
       "      <td>2007</td>\n",
       "      <td>hyundai elantra 2007</td>\n",
       "    </tr>\n",
       "    <tr>\n",
       "      <th>4</th>\n",
       "      <td>00005.jpg</td>\n",
       "      <td>106</td>\n",
       "      <td>ford mustang convertible 2007</td>\n",
       "      <td>ford mustang convertible</td>\n",
       "      <td>ford</td>\n",
       "      <td>mustang</td>\n",
       "      <td>convertible</td>\n",
       "      <td>2007</td>\n",
       "      <td>ford mustang 2007</td>\n",
       "    </tr>\n",
       "    <tr>\n",
       "      <th>...</th>\n",
       "      <td>...</td>\n",
       "      <td>...</td>\n",
       "      <td>...</td>\n",
       "      <td>...</td>\n",
       "      <td>...</td>\n",
       "      <td>...</td>\n",
       "      <td>...</td>\n",
       "      <td>...</td>\n",
       "      <td>...</td>\n",
       "    </tr>\n",
       "    <tr>\n",
       "      <th>1674</th>\n",
       "      <td>01675.jpg</td>\n",
       "      <td>35</td>\n",
       "      <td>bmw m6 convertible 2010</td>\n",
       "      <td>bmw m6 convertible</td>\n",
       "      <td>bmw</td>\n",
       "      <td>m6</td>\n",
       "      <td>convertible</td>\n",
       "      <td>2010</td>\n",
       "      <td>bmw m6 2010</td>\n",
       "    </tr>\n",
       "    <tr>\n",
       "      <th>1678</th>\n",
       "      <td>01679.jpg</td>\n",
       "      <td>64</td>\n",
       "      <td>chevrolet avalanche crew cab 2012</td>\n",
       "      <td>chevrolet avalanche crew cab</td>\n",
       "      <td>chevrolet</td>\n",
       "      <td>avalanche crew</td>\n",
       "      <td>cab</td>\n",
       "      <td>2012</td>\n",
       "      <td>chevrolet avalanche crew 2012</td>\n",
       "    </tr>\n",
       "    <tr>\n",
       "      <th>1704</th>\n",
       "      <td>01705.jpg</td>\n",
       "      <td>3</td>\n",
       "      <td>acura tl type-s 2008</td>\n",
       "      <td>acura tl type-s</td>\n",
       "      <td>acura</td>\n",
       "      <td>tl</td>\n",
       "      <td>type-s</td>\n",
       "      <td>2008</td>\n",
       "      <td>acura tl 2008</td>\n",
       "    </tr>\n",
       "    <tr>\n",
       "      <th>1824</th>\n",
       "      <td>01825.jpg</td>\n",
       "      <td>35</td>\n",
       "      <td>bmw m6 convertible 2010</td>\n",
       "      <td>bmw m6 convertible</td>\n",
       "      <td>bmw</td>\n",
       "      <td>m6</td>\n",
       "      <td>convertible</td>\n",
       "      <td>2010</td>\n",
       "      <td>bmw m6 2010</td>\n",
       "    </tr>\n",
       "    <tr>\n",
       "      <th>1861</th>\n",
       "      <td>01862.jpg</td>\n",
       "      <td>102</td>\n",
       "      <td>ferrari 458 italia convertible 2012</td>\n",
       "      <td>ferrari 458 italia convertible</td>\n",
       "      <td>ferrari</td>\n",
       "      <td>458 italia</td>\n",
       "      <td>convertible</td>\n",
       "      <td>2012</td>\n",
       "      <td>ferrari 458 italia 2012</td>\n",
       "    </tr>\n",
       "  </tbody>\n",
       "</table>\n",
       "<p>780 rows × 9 columns</p>\n",
       "</div>"
      ],
      "text/plain": [
       "         fnames  car_class                               labels  \\\n",
       "0     00001.jpg         14                   audi r8 coupe 2012   \n",
       "1     00002.jpg          3                 acura tl type-s 2008   \n",
       "2     00003.jpg         91              dodge magnum wagon 2008   \n",
       "3     00004.jpg        134           hyundai elantra sedan 2007   \n",
       "4     00005.jpg        106        ford mustang convertible 2007   \n",
       "...         ...        ...                                  ...   \n",
       "1674  01675.jpg         35              bmw m6 convertible 2010   \n",
       "1678  01679.jpg         64    chevrolet avalanche crew cab 2012   \n",
       "1704  01705.jpg          3                 acura tl type-s 2008   \n",
       "1824  01825.jpg         35              bmw m6 convertible 2010   \n",
       "1861  01862.jpg        102  ferrari 458 italia convertible 2012   \n",
       "\n",
       "                       labels_noyear      brand           model         type  \\\n",
       "0                      audi r8 coupe       audi              r8        coupe   \n",
       "1                    acura tl type-s      acura              tl       type-s   \n",
       "2                 dodge magnum wagon      dodge          magnum        wagon   \n",
       "3              hyundai elantra sedan    hyundai         elantra        sedan   \n",
       "4           ford mustang convertible       ford         mustang  convertible   \n",
       "...                              ...        ...             ...          ...   \n",
       "1674              bmw m6 convertible        bmw              m6  convertible   \n",
       "1678    chevrolet avalanche crew cab  chevrolet  avalanche crew          cab   \n",
       "1704                 acura tl type-s      acura              tl       type-s   \n",
       "1824              bmw m6 convertible        bmw              m6  convertible   \n",
       "1861  ferrari 458 italia convertible    ferrari      458 italia  convertible   \n",
       "\n",
       "      year                  labels_notype  \n",
       "0     2012                   audi r8 2012  \n",
       "1     2008                  acura tl 2008  \n",
       "2     2008              dodge magnum 2008  \n",
       "3     2007           hyundai elantra 2007  \n",
       "4     2007              ford mustang 2007  \n",
       "...    ...                            ...  \n",
       "1674  2010                    bmw m6 2010  \n",
       "1678  2012  chevrolet avalanche crew 2012  \n",
       "1704  2008                  acura tl 2008  \n",
       "1824  2010                    bmw m6 2010  \n",
       "1861  2012        ferrari 458 italia 2012  \n",
       "\n",
       "[780 rows x 9 columns]"
      ]
     },
     "execution_count": 20,
     "metadata": {},
     "output_type": "execute_result"
    }
   ],
   "source": [
    "df = df.groupby('car_class').head(4)\n",
    "df"
   ]
  },
  {
   "cell_type": "markdown",
   "metadata": {},
   "source": [
    "## Google search"
   ]
  },
  {
   "cell_type": "code",
   "execution_count": 21,
   "metadata": {},
   "outputs": [],
   "source": [
    "def google_search(url):\n",
    "  url = url.replace(' ', '+')\n",
    "  link = \"https://www.google.com/search?tbm=isch&q=\" + url\n",
    "  return link"
   ]
  },
  {
   "cell_type": "code",
   "execution_count": 22,
   "metadata": {},
   "outputs": [
    {
     "ename": "NameError",
     "evalue": "name 'car_type' is not defined",
     "output_type": "error",
     "traceback": [
      "\u001b[1;31m---------------------------------------------------------------------------\u001b[0m",
      "\u001b[1;31mNameError\u001b[0m                                 Traceback (most recent call last)",
      "Cell \u001b[1;32mIn[22], line 1\u001b[0m\n\u001b[1;32m----> 1\u001b[0m google_search(car_type)\n",
      "\u001b[1;31mNameError\u001b[0m: name 'car_type' is not defined"
     ]
    }
   ],
   "source": [
    "google_search(car_type)"
   ]
  },
  {
   "cell_type": "code",
   "execution_count": 71,
   "metadata": {},
   "outputs": [],
   "source": [
    "#cars_path = Path(r'https://drive.google.com/drive/folders/1Mu8UXk_k7pnIALvTIquAcMKrURDPL8xF')\n",
    "#main_path = Path(r'https://drive.google.com/drive/folders/1paR6lUCkXaF5kHyLSp_YD4WXcM8ULFQS')"
   ]
  },
  {
   "cell_type": "code",
   "execution_count": 23,
   "metadata": {},
   "outputs": [],
   "source": [
    "# Def get assets\n",
    "\n",
    "def get_assets(car, i=0):\n",
    "    print(\"You've searched for: \" + car.title())\n",
    "    search = df.index[df['labels']==car].tolist() #find all cars that matches the string containing car information\n",
    "    os.chdir('car_github')\n",
    "    if not search:\n",
    "      # if statement to check if the car model is in the database or not, if not return image not available.\n",
    "        print('We do not have any images of this car in our database, here is a Google link: ' + google_search(car))\n",
    "        title = 'No image in our database'\n",
    "        image = Image.open('cars_main/no_image.jpg')\n",
    "        \n",
    "    else:\n",
    "        max_index = len(search)-1\n",
    "        if i > max_index:\n",
    "          search = search[max_index]\n",
    "        else: \n",
    "          search = search[i]\n",
    "        image = Image.open('cars_main/' + df['fnames'][search])\n",
    "        title = df['labels'][search].title()\n",
    "    os.chdir('..')\n",
    "    return (image, title)"
   ]
  },
  {
   "cell_type": "code",
   "execution_count": 24,
   "metadata": {},
   "outputs": [],
   "source": [
    "def display_image(car, i=0):\n",
    "  #function displays the car found in the get_assets function as well as add the rectangle around the car and name of the car, lastly it makes sure to change the directory back to the main path again.\n",
    "    image, title = get_assets(car, i)\n",
    "\n",
    "    plt.imshow(image)\n",
    "    plt.axis('off')\n",
    "    plt.title(title)"
   ]
  },
  {
   "cell_type": "code",
   "execution_count": 26,
   "metadata": {},
   "outputs": [],
   "source": [
    "def find_assets(search, i=0):\n",
    "  distinct_models = df_unique[df_unique['labels'].str.contains(search)]\n",
    "  distinct_models = distinct_models['labels'].str.title()\n",
    "  distinct_models = distinct_models.rename('Car Models')\n",
    "  found_models = df[df['labels'].str.contains(search)]\n",
    "  found_models = found_models['labels'].str.title()\n",
    "  found_models = found_models.rename('Car Models')\n",
    "  return distinct_models, found_models"
   ]
  },
  {
   "cell_type": "code",
   "execution_count": 27,
   "metadata": {},
   "outputs": [],
   "source": [
    "\n",
    "def search_function(search, i=0):\n",
    "  distinct_models, found_models = find_assets(search)\n",
    "  print(\"{}{}{}{}{}\".format('There were ', distinct_models.count(), ' unique models, and a total of ', found_models.count(), ' results'))\n",
    "  if i == 0:\n",
    "    print(distinct_models.reset_index().drop('index',axis=1))\n",
    "  else:\n",
    "    print(found_models.reset_index().drop('index',axis=1))\n",
    "\n",
    "  "
   ]
  },
  {
   "cell_type": "code",
   "execution_count": 76,
   "metadata": {},
   "outputs": [
    {
     "name": "stdout",
     "output_type": "stream",
     "text": [
      "You've searched for: Mercedes-Benz C-Klasse 2013\n"
     ]
    },
    {
     "ename": "OSError",
     "evalue": "[WinError 123] Syntaksen i filnavnet, mappen eller diskenhedsnavnet er forkert: 'https:\\\\drive.google.com\\\\drive\\\\folders\\\\1Mu8UXk_k7pnIALvTIquAcMKrURDPL8xF'",
     "output_type": "error",
     "traceback": [
      "\u001b[1;31m---------------------------------------------------------------------------\u001b[0m",
      "\u001b[1;31mOSError\u001b[0m                                   Traceback (most recent call last)",
      "Cell \u001b[1;32mIn [76], line 1\u001b[0m\n\u001b[1;32m----> 1\u001b[0m display_image(car_type)\n",
      "Cell \u001b[1;32mIn [73], line 3\u001b[0m, in \u001b[0;36mdisplay_image\u001b[1;34m(car, i)\u001b[0m\n\u001b[0;32m      1\u001b[0m \u001b[39mdef\u001b[39;00m \u001b[39mdisplay_image\u001b[39m(car, i\u001b[39m=\u001b[39m\u001b[39m0\u001b[39m):\n\u001b[0;32m      2\u001b[0m   \u001b[39m#function displays the car found in the get_assets function as well as add the rectangle around the car and name of the car, lastly it makes sure to change the directory back to the main path again.\u001b[39;00m\n\u001b[1;32m----> 3\u001b[0m     image, title \u001b[39m=\u001b[39m get_assets(car, i)\n\u001b[0;32m      5\u001b[0m     plt\u001b[39m.\u001b[39mimshow(image)\n\u001b[0;32m      6\u001b[0m     plt\u001b[39m.\u001b[39maxis(\u001b[39m'\u001b[39m\u001b[39moff\u001b[39m\u001b[39m'\u001b[39m)\n",
      "Cell \u001b[1;32mIn [72], line 5\u001b[0m, in \u001b[0;36mget_assets\u001b[1;34m(car, i)\u001b[0m\n\u001b[0;32m      3\u001b[0m \u001b[39mdef\u001b[39;00m \u001b[39mget_assets\u001b[39m(car, i\u001b[39m=\u001b[39m\u001b[39m0\u001b[39m):\n\u001b[0;32m      4\u001b[0m     \u001b[39mprint\u001b[39m(\u001b[39m\"\u001b[39m\u001b[39mYou\u001b[39m\u001b[39m'\u001b[39m\u001b[39mve searched for: \u001b[39m\u001b[39m\"\u001b[39m \u001b[39m+\u001b[39m car\u001b[39m.\u001b[39mtitle())\n\u001b[1;32m----> 5\u001b[0m     os\u001b[39m.\u001b[39;49mchdir(cars_path) \u001b[39m#ensure that it's searching for the file in the right folder\u001b[39;00m\n\u001b[0;32m      6\u001b[0m     search \u001b[39m=\u001b[39m df\u001b[39m.\u001b[39mindex[df[\u001b[39m'\u001b[39m\u001b[39mlabels\u001b[39m\u001b[39m'\u001b[39m]\u001b[39m==\u001b[39mcar]\u001b[39m.\u001b[39mtolist() \u001b[39m#find all cars that matches the string containing car information\u001b[39;00m\n\u001b[0;32m      7\u001b[0m     \u001b[39mif\u001b[39;00m \u001b[39mnot\u001b[39;00m search:\n\u001b[0;32m      8\u001b[0m       \u001b[39m# if statement to check if the car model is in the database or not, if not return image not available.\u001b[39;00m\n",
      "\u001b[1;31mOSError\u001b[0m: [WinError 123] Syntaksen i filnavnet, mappen eller diskenhedsnavnet er forkert: 'https:\\\\drive.google.com\\\\drive\\\\folders\\\\1Mu8UXk_k7pnIALvTIquAcMKrURDPL8xF'"
     ]
    }
   ],
   "source": [
    "display_image(car_type)"
   ]
  },
  {
   "cell_type": "code",
   "execution_count": null,
   "metadata": {},
   "outputs": [],
   "source": []
  }
 ],
 "metadata": {
  "kernelspec": {
   "display_name": "Python 3.10.8 ('.venv': venv)",
   "language": "python",
   "name": "python3"
  },
  "language_info": {
   "codemirror_mode": {
    "name": "ipython",
    "version": 3
   },
   "file_extension": ".py",
   "mimetype": "text/x-python",
   "name": "python",
   "nbconvert_exporter": "python",
   "pygments_lexer": "ipython3",
   "version": "3.10.8"
  },
  "orig_nbformat": 4,
  "vscode": {
   "interpreter": {
    "hash": "5ab9fb6a2bd0e070872031f19f584830d107e4c85255cd3ec8302672fc4f3dfa"
   }
  }
 },
 "nbformat": 4,
 "nbformat_minor": 2
}
