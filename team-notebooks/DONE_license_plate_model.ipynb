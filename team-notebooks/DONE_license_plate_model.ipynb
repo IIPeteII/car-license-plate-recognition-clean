{
 "cells": [
  {
   "cell_type": "markdown",
   "metadata": {},
   "source": [
    "# Import libraries"
   ]
  },
  {
   "cell_type": "code",
   "execution_count": 44,
   "metadata": {},
   "outputs": [],
   "source": [
    "#COMMON\n",
    "import matplotlib.pyplot as plt\n",
    "import numpy as np\n",
    "import pandas as pd\n",
    "import cv2\n",
    "import datetime\n",
    "\n",
    "#ML\n",
    "import tensorflow as tf\n",
    "from keras.preprocessing.image import ImageDataGenerator\n",
    "from keras.models import Sequential\n",
    "from keras.layers import Dense, Flatten, MaxPooling2D, Dropout, Conv2D\n",
    "from keras import optimizers"
   ]
  },
  {
   "cell_type": "markdown",
   "metadata": {},
   "source": [
    "# Create extraction function"
   ]
  },
  {
   "cell_type": "code",
   "execution_count": 45,
   "metadata": {},
   "outputs": [],
   "source": [
    "def extract_plate(img): # the function detects and perfors blurring on the number plate.\n",
    "\tplate_img = img.copy()\n",
    "\t\n",
    "\t#Loads the data required for detecting the license plates from cascade classifier.\n",
    "\tplate_cascade = cv2.CascadeClassifier('indian_license_plate.xml')\n",
    "\n",
    "\t# detects numberplates and returns the coordinates and dimensions of detected license plate's contours.\n",
    "\tplate_rect = plate_cascade.detectMultiScale(plate_img, scaleFactor = 1.3, minNeighbors = 7)\n",
    "\n",
    "\tfor (x,y,w,h) in plate_rect:\n",
    "\t\t#a,b = (int(0.02*img.shape[0]), int(0.025*img.shape[1])) #parameter tuning #Check this later!\n",
    "\t\t#plate = plate_img[y+a:y+h-a, x+b:x+w-b, :]\n",
    "\t\tplate = plate_img[y:y+h, x:x+w, :] #don't need the parameter tuning stuff\n",
    "\t\t# finally representing the detected contours by drawing rectangles around the edges.\n",
    "\t\tcv2.rectangle(plate_img, (x,y), (x+w, y+h), (51,51,255), 3)\n",
    "        \n",
    "\treturn plate_img, plate # returning the processed image."
   ]
  },
  {
   "cell_type": "markdown",
   "metadata": {},
   "source": [
    "# Apply extraction function"
   ]
  },
  {
   "cell_type": "code",
   "execution_count": 46,
   "metadata": {},
   "outputs": [],
   "source": [
    "dk_test_img = cv2.imread(r\"C:\\Users\\Peter\\Documents\\GitHub\\car-license-plate-recognition-clean\\car-pictures\\AJ13870_back.jpg\")\n",
    "plate_img_out, plate_out = extract_plate(dk_test_img)\n",
    "\n",
    "#cv2.imshow(\"somethingsomethingdkimg\", plate_img_out)\n",
    "#cv2.waitKey(0) \n",
    "#cv2.imshow(\"somethingsomethingdkimg\", plate_out)\n",
    "#cv2.waitKey(0)\n",
    "#cv2.destroyAllWindows()"
   ]
  },
  {
   "cell_type": "markdown",
   "metadata": {},
   "source": [
    "# Match contours to license plate"
   ]
  },
  {
   "cell_type": "code",
   "execution_count": 47,
   "metadata": {},
   "outputs": [],
   "source": [
    "# Match contours to license plate or character template\n",
    "def find_contours(dimensions, img) :\n",
    "\n",
    "    # Find all contours in the image\n",
    "    cntrs, _ = cv2.findContours(img.copy(), cv2.RETR_TREE, cv2.CHAIN_APPROX_SIMPLE)\n",
    "\n",
    "    # Retrieve potential dimensions\n",
    "    lower_width = dimensions[0]\n",
    "    upper_width = dimensions[1]\n",
    "    lower_height = dimensions[2]\n",
    "    upper_height = dimensions[3]\n",
    "    \n",
    "    # Check largest 5 or  15 contours for license plate or character respectively\n",
    "    cntrs = sorted(cntrs, key=cv2.contourArea, reverse=True)[:15]\n",
    "    \n",
    "    ii = cv2.imread('contour.jpg')\n",
    "    \n",
    "    x_cntr_list = []\n",
    "    target_contours = []\n",
    "    img_res = []\n",
    "    for cntr in cntrs :\n",
    "        #detects contour in binary image and returns the coordinates of rectangle enclosing it\n",
    "        intX, intY, intWidth, intHeight = cv2.boundingRect(cntr)\n",
    "        \n",
    "        #checking the dimensions of the contour to filter out the characters by contour's size\n",
    "        if intWidth > lower_width and intWidth < upper_width and intHeight > lower_height and intHeight < upper_height :\n",
    "            x_cntr_list.append(intX) #stores the x coordinate of the character's contour, to used later for indexing the contours\n",
    "\n",
    "            char_copy = np.zeros((44,24))\n",
    "            #extracting each character using the enclosing rectangle's coordinates.\n",
    "            char = img[intY:intY+intHeight, intX:intX+intWidth]\n",
    "            char = cv2.resize(char, (20, 40))\n",
    "            \n",
    "            cv2.rectangle(ii, (intX,intY), (intWidth+intX, intY+intHeight), (50,21,200), 2)\n",
    "            plt.imshow(ii, cmap='gray')\n",
    "\n",
    "#             Make result formatted for classification: invert colors\n",
    "            char = cv2.subtract(255, char)\n",
    "\n",
    "            # Resize the image to 24x44 with black border\n",
    "            char_copy[2:42, 2:22] = char\n",
    "            char_copy[0:2, :] = 0\n",
    "            char_copy[:, 0:2] = 0\n",
    "            char_copy[42:44, :] = 0\n",
    "            char_copy[:, 22:24] = 0\n",
    "\n",
    "            img_res.append(char_copy) #List that stores the character's binary image (unsorted)\n",
    "            \n",
    "    #Return characters on ascending order with respect to the x-coordinate (most-left character first)\n",
    "            \n",
    "    plt.show()\n",
    "    #arbitrary function that stores sorted list of character indeces\n",
    "    indices = sorted(range(len(x_cntr_list)), key=lambda k: x_cntr_list[k])\n",
    "    img_res_copy = []\n",
    "    for idx in indices:\n",
    "        img_res_copy.append(img_res[idx])# stores character images according to their index\n",
    "    img_res = np.array(img_res_copy)\n",
    "\n",
    "    return img_res"
   ]
  },
  {
   "cell_type": "markdown",
   "metadata": {},
   "source": [
    "# Find characters function"
   ]
  },
  {
   "cell_type": "code",
   "execution_count": 48,
   "metadata": {},
   "outputs": [],
   "source": [
    "# Find characters in the resulting images\n",
    "def segment_characters(image) :\n",
    "\n",
    "    # Preprocess cropped license plate image\n",
    "    img_lp = cv2.resize(image, (333, 75))\n",
    "    img_gray_lp = cv2.cvtColor(img_lp, cv2.COLOR_BGR2GRAY)\n",
    "    _, img_binary_lp = cv2.threshold(img_gray_lp, 200, 255, cv2.THRESH_BINARY+cv2.THRESH_OTSU)\n",
    "    img_binary_lp = cv2.erode(img_binary_lp, (3,3))\n",
    "    img_binary_lp = cv2.dilate(img_binary_lp, (3,3))\n",
    "\n",
    "    LP_WIDTH = img_binary_lp.shape[0]\n",
    "    LP_HEIGHT = img_binary_lp.shape[1]\n",
    "\n",
    "    # Make borders white\n",
    "    img_binary_lp[0:3,:] = 255\n",
    "    img_binary_lp[:,0:3] = 255\n",
    "    img_binary_lp[72:75,:] = 255\n",
    "    img_binary_lp[:,330:333] = 255\n",
    "\n",
    "    # Estimations of character contours sizes of cropped license plates\n",
    "    dimensions = [LP_WIDTH/6,\n",
    "                       LP_WIDTH/2,\n",
    "                       LP_HEIGHT/10,\n",
    "                       2*LP_HEIGHT/3]\n",
    "    plt.imshow(img_binary_lp, cmap='gray')\n",
    "    plt.show()\n",
    "    cv2.imwrite('contour.jpg',img_binary_lp)\n",
    "\n",
    "    # Get contours within cropped license plate\n",
    "    char_list = find_contours(dimensions, img_binary_lp)\n",
    "\n",
    "    return char_list"
   ]
  },
  {
   "cell_type": "markdown",
   "metadata": {},
   "source": [
    "# Apply characters function and see output"
   ]
  },
  {
   "cell_type": "code",
   "execution_count": 49,
   "metadata": {},
   "outputs": [
    {
     "data": {
      "image/png": "[encoded data removed]",
      "text/plain": [
       "<Figure size 640x480 with 1 Axes>"
      ]
     },
     "metadata": {},
     "output_type": "display_data"
    },
    {
     "data": {
      "image/png": "[encoded data removed]",
      "text/plain": [
       "<Figure size 640x480 with 1 Axes>"
      ]
     },
     "metadata": {},
     "output_type": "display_data"
    }
   ],
   "source": [
    "char = segment_characters(plate_out)"
   ]
  },
  {
   "cell_type": "markdown",
   "metadata": {},
   "source": [
    "# CNN"
   ]
  },
  {
   "cell_type": "markdown",
   "metadata": {},
   "source": [
    "## Create fit parameters"
   ]
  },
  {
   "cell_type": "code",
   "execution_count": 50,
   "metadata": {},
   "outputs": [
    {
     "name": "stdout",
     "output_type": "stream",
     "text": [
      "Found 864 images belonging to 36 classes.\n",
      "Found 216 images belonging to 36 classes.\n"
     ]
    }
   ],
   "source": [
    "train_datagen = ImageDataGenerator(rescale=1./255, width_shift_range=0.1, height_shift_range=0.1)\n",
    "train_generator = train_datagen.flow_from_directory(\n",
    "        'data/data/train',  # this is the target directory\n",
    "        target_size=(28,28),  # all images will be resized to 28x28\n",
    "        batch_size=1,\n",
    "        class_mode='categorical')\n",
    "\n",
    "validation_generator = train_datagen.flow_from_directory(\n",
    "        'data/data/val',  # this is the target directory\n",
    "        target_size=(28,28),  # all images will be resized to 28x28        batch_size=1,\n",
    "        class_mode='categorical')"
   ]
  },
  {
   "cell_type": "markdown",
   "metadata": {},
   "source": [
    "## Model"
   ]
  },
  {
   "cell_type": "code",
   "execution_count": 51,
   "metadata": {},
   "outputs": [
    {
     "name": "stderr",
     "output_type": "stream",
     "text": [
      "c:\\Users\\Peter\\Documents\\GitHub\\car-license-plate-detection\\.venv\\lib\\site-packages\\keras\\optimizers\\optimizer_v2\\adam.py:117: UserWarning: The `lr` argument is deprecated, use `learning_rate` instead.\n",
      "  super().__init__(name, **kwargs)\n"
     ]
    }
   ],
   "source": [
    "model = Sequential()\n",
    "model.add(Conv2D(32, (24,24), input_shape=(28, 28, 3), activation='relu', padding='same'))\n",
    "# model.add(Conv2D(32, (20,20), input_shape=(28, 28, 3), activation='relu', padding='same'))\n",
    "# model.add(Conv2D(32, (20,20), input_shape=(28, 28, 3), activation='relu', padding='same'))\n",
    "model.add(MaxPooling2D(pool_size=(2, 2)))\n",
    "model.add(Dropout(0.4))\n",
    "model.add(Flatten())\n",
    "model.add(Dense(128, activation='relu'))\n",
    "model.add(Dense(36, activation='softmax'))\n",
    "\n",
    "model.compile(loss='categorical_crossentropy', optimizer=optimizers.Adam(lr=0.00001), metrics=['accuracy'])"
   ]
  },
  {
   "cell_type": "markdown",
   "metadata": {},
   "source": [
    "## A custom training callback"
   ]
  },
  {
   "cell_type": "code",
   "execution_count": 52,
   "metadata": {},
   "outputs": [],
   "source": [
    "class stop_training_callback(tf.keras.callbacks.Callback):\n",
    "  def on_epoch_end(self, epoch, logs={}):\n",
    "    if(logs.get('val_acc') > 0.992):\n",
    "      self.model.stop_training = True"
   ]
  },
  {
   "cell_type": "markdown",
   "metadata": {},
   "source": [
    "## Create logs"
   ]
  },
  {
   "cell_type": "code",
   "execution_count": 53,
   "metadata": {},
   "outputs": [],
   "source": [
    "log_dir=\"logs/fit/\" + datetime.datetime.now().strftime(\"%Y%m%d-%H%M%S\")\n",
    "tensorboard_callback = tf.keras.callbacks.TensorBoard(log_dir=log_dir, histogram_freq=1)"
   ]
  },
  {
   "cell_type": "markdown",
   "metadata": {},
   "source": [
    "## Model training"
   ]
  },
  {
   "cell_type": "code",
   "execution_count": 54,
   "metadata": {},
   "outputs": [
    {
     "name": "stdout",
     "output_type": "stream",
     "text": [
      "Epoch 1/80\n",
      "864/864 [==============================] - ETA: 0s - loss: 3.5325 - accuracy: 0.0683WARNING:tensorflow:Your input ran out of data; interrupting training. Make sure that your dataset or generator can generate at least `steps_per_epoch * epochs` batches (in this case, 216 batches). You may need to use the repeat() function when building your dataset.\n",
      "864/864 [==============================] - 7s 8ms/step - loss: 3.5325 - accuracy: 0.0683 - val_loss: 3.3647 - val_accuracy: 0.1481\n",
      "Epoch 2/80\n",
      "864/864 [==============================] - 6s 7ms/step - loss: 3.1711 - accuracy: 0.2199\n",
      "Epoch 3/80\n",
      "864/864 [==============================] - 6s 7ms/step - loss: 2.5967 - accuracy: 0.3345\n",
      "Epoch 4/80\n",
      "864/864 [==============================] - 6s 7ms/step - loss: 2.0918 - accuracy: 0.4572\n",
      "Epoch 5/80\n",
      "864/864 [==============================] - 6s 7ms/step - loss: 1.7525 - accuracy: 0.5058\n",
      "Epoch 6/80\n",
      "864/864 [==============================] - 7s 8ms/step - loss: 1.5099 - accuracy: 0.6053\n",
      "Epoch 7/80\n",
      "864/864 [==============================] - 7s 8ms/step - loss: 1.2645 - accuracy: 0.6678\n",
      "Epoch 8/80\n",
      "864/864 [==============================] - 7s 8ms/step - loss: 1.0960 - accuracy: 0.6979\n",
      "Epoch 9/80\n",
      "864/864 [==============================] - 6s 7ms/step - loss: 1.0212 - accuracy: 0.6968\n",
      "Epoch 10/80\n",
      "864/864 [==============================] - 6s 7ms/step - loss: 0.9187 - accuracy: 0.7442\n",
      "Epoch 11/80\n",
      "864/864 [==============================] - 7s 8ms/step - loss: 0.8553 - accuracy: 0.7442\n",
      "Epoch 12/80\n",
      "864/864 [==============================] - 6s 7ms/step - loss: 0.8116 - accuracy: 0.7616\n",
      "Epoch 13/80\n",
      "864/864 [==============================] - 6s 7ms/step - loss: 0.6577 - accuracy: 0.8229\n",
      "Epoch 14/80\n",
      "864/864 [==============================] - 6s 7ms/step - loss: 0.6302 - accuracy: 0.8148\n",
      "Epoch 15/80\n",
      "864/864 [==============================] - 6s 7ms/step - loss: 0.6445 - accuracy: 0.7951\n",
      "Epoch 16/80\n",
      "864/864 [==============================] - 6s 7ms/step - loss: 0.5543 - accuracy: 0.8449\n",
      "Epoch 17/80\n",
      "864/864 [==============================] - 6s 7ms/step - loss: 0.5297 - accuracy: 0.8356\n",
      "Epoch 18/80\n",
      "864/864 [==============================] - 6s 7ms/step - loss: 0.4847 - accuracy: 0.8588\n",
      "Epoch 19/80\n",
      "864/864 [==============================] - 6s 7ms/step - loss: 0.4373 - accuracy: 0.8796\n",
      "Epoch 20/80\n",
      "864/864 [==============================] - 6s 7ms/step - loss: 0.4157 - accuracy: 0.8819\n",
      "Epoch 21/80\n",
      "864/864 [==============================] - 6s 7ms/step - loss: 0.4250 - accuracy: 0.8727\n",
      "Epoch 22/80\n",
      "864/864 [==============================] - 6s 8ms/step - loss: 0.3781 - accuracy: 0.8900\n",
      "Epoch 23/80\n",
      "864/864 [==============================] - 7s 8ms/step - loss: 0.3662 - accuracy: 0.8785\n",
      "Epoch 24/80\n",
      "864/864 [==============================] - 6s 8ms/step - loss: 0.3318 - accuracy: 0.8958\n",
      "Epoch 25/80\n",
      "864/864 [==============================] - 7s 8ms/step - loss: 0.3162 - accuracy: 0.9086\n",
      "Epoch 26/80\n",
      "864/864 [==============================] - 6s 7ms/step - loss: 0.2971 - accuracy: 0.9120\n",
      "Epoch 27/80\n",
      "864/864 [==============================] - 6s 7ms/step - loss: 0.2900 - accuracy: 0.9213\n",
      "Epoch 28/80\n",
      "864/864 [==============================] - 6s 7ms/step - loss: 0.2955 - accuracy: 0.9086\n",
      "Epoch 29/80\n",
      "864/864 [==============================] - 6s 7ms/step - loss: 0.2808 - accuracy: 0.9167\n",
      "Epoch 30/80\n",
      "864/864 [==============================] - 6s 7ms/step - loss: 0.2375 - accuracy: 0.9340\n",
      "Epoch 31/80\n",
      "864/864 [==============================] - 6s 7ms/step - loss: 0.2694 - accuracy: 0.9213\n",
      "Epoch 32/80\n",
      "864/864 [==============================] - 6s 7ms/step - loss: 0.2254 - accuracy: 0.9421\n",
      "Epoch 33/80\n",
      "864/864 [==============================] - 6s 7ms/step - loss: 0.2364 - accuracy: 0.9225\n",
      "Epoch 34/80\n",
      "864/864 [==============================] - 6s 7ms/step - loss: 0.2280 - accuracy: 0.9340\n",
      "Epoch 35/80\n",
      "864/864 [==============================] - 6s 7ms/step - loss: 0.2041 - accuracy: 0.9387\n",
      "Epoch 36/80\n",
      "864/864 [==============================] - 6s 7ms/step - loss: 0.2110 - accuracy: 0.9259\n",
      "Epoch 37/80\n",
      "864/864 [==============================] - 6s 7ms/step - loss: 0.1936 - accuracy: 0.9387\n",
      "Epoch 38/80\n",
      "864/864 [==============================] - 6s 7ms/step - loss: 0.2029 - accuracy: 0.9410\n",
      "Epoch 39/80\n",
      "864/864 [==============================] - 6s 7ms/step - loss: 0.1534 - accuracy: 0.9583\n",
      "Epoch 40/80\n",
      "864/864 [==============================] - 7s 8ms/step - loss: 0.1789 - accuracy: 0.9502\n",
      "Epoch 41/80\n",
      "864/864 [==============================] - 6s 7ms/step - loss: 0.1811 - accuracy: 0.9444\n",
      "Epoch 42/80\n",
      "864/864 [==============================] - 6s 7ms/step - loss: 0.1597 - accuracy: 0.9537\n",
      "Epoch 43/80\n",
      "864/864 [==============================] - 6s 7ms/step - loss: 0.1585 - accuracy: 0.9491\n",
      "Epoch 44/80\n",
      "864/864 [==============================] - 6s 7ms/step - loss: 0.1682 - accuracy: 0.9491\n",
      "Epoch 45/80\n",
      "864/864 [==============================] - 7s 8ms/step - loss: 0.1435 - accuracy: 0.9549\n",
      "Epoch 46/80\n",
      "864/864 [==============================] - 6s 7ms/step - loss: 0.1458 - accuracy: 0.9549\n",
      "Epoch 47/80\n",
      "864/864 [==============================] - 6s 7ms/step - loss: 0.1406 - accuracy: 0.9583\n",
      "Epoch 48/80\n",
      "864/864 [==============================] - 6s 7ms/step - loss: 0.1348 - accuracy: 0.9560\n",
      "Epoch 49/80\n",
      "864/864 [==============================] - 6s 7ms/step - loss: 0.1198 - accuracy: 0.9711\n",
      "Epoch 50/80\n",
      "864/864 [==============================] - 6s 7ms/step - loss: 0.1245 - accuracy: 0.9618\n",
      "Epoch 51/80\n",
      "864/864 [==============================] - 6s 7ms/step - loss: 0.1257 - accuracy: 0.9630\n",
      "Epoch 52/80\n",
      "864/864 [==============================] - 6s 7ms/step - loss: 0.1197 - accuracy: 0.9618\n",
      "Epoch 53/80\n",
      "864/864 [==============================] - 7s 8ms/step - loss: 0.1094 - accuracy: 0.9676\n",
      "Epoch 54/80\n",
      "864/864 [==============================] - 6s 7ms/step - loss: 0.1212 - accuracy: 0.9653\n",
      "Epoch 55/80\n",
      "864/864 [==============================] - 6s 7ms/step - loss: 0.1193 - accuracy: 0.9618\n",
      "Epoch 56/80\n",
      "864/864 [==============================] - 6s 7ms/step - loss: 0.1030 - accuracy: 0.9664\n",
      "Epoch 57/80\n",
      "864/864 [==============================] - 7s 8ms/step - loss: 0.1018 - accuracy: 0.9699\n",
      "Epoch 58/80\n",
      "864/864 [==============================] - 7s 8ms/step - loss: 0.0930 - accuracy: 0.9769\n",
      "Epoch 59/80\n",
      "864/864 [==============================] - 6s 7ms/step - loss: 0.1184 - accuracy: 0.9676\n",
      "Epoch 60/80\n",
      "864/864 [==============================] - 6s 7ms/step - loss: 0.0963 - accuracy: 0.9711\n",
      "Epoch 61/80\n",
      "864/864 [==============================] - 6s 8ms/step - loss: 0.0956 - accuracy: 0.9780\n",
      "Epoch 62/80\n",
      "864/864 [==============================] - 6s 8ms/step - loss: 0.1061 - accuracy: 0.9676\n",
      "Epoch 63/80\n",
      "864/864 [==============================] - 7s 8ms/step - loss: 0.0903 - accuracy: 0.9734\n",
      "Epoch 64/80\n",
      "864/864 [==============================] - 6s 7ms/step - loss: 0.0894 - accuracy: 0.9699\n",
      "Epoch 65/80\n",
      "864/864 [==============================] - 7s 8ms/step - loss: 0.0939 - accuracy: 0.9745\n",
      "Epoch 66/80\n",
      "864/864 [==============================] - 7s 8ms/step - loss: 0.1012 - accuracy: 0.9676\n",
      "Epoch 67/80\n",
      "864/864 [==============================] - 7s 8ms/step - loss: 0.0928 - accuracy: 0.9734\n",
      "Epoch 68/80\n",
      "864/864 [==============================] - 7s 8ms/step - loss: 0.0985 - accuracy: 0.9711\n",
      "Epoch 69/80\n",
      "864/864 [==============================] - 7s 8ms/step - loss: 0.0857 - accuracy: 0.9734\n",
      "Epoch 70/80\n",
      "864/864 [==============================] - 7s 8ms/step - loss: 0.0788 - accuracy: 0.9769\n",
      "Epoch 71/80\n",
      "864/864 [==============================] - 6s 7ms/step - loss: 0.0788 - accuracy: 0.9757\n",
      "Epoch 72/80\n",
      "864/864 [==============================] - 7s 8ms/step - loss: 0.0951 - accuracy: 0.9745\n",
      "Epoch 73/80\n",
      "864/864 [==============================] - 6s 7ms/step - loss: 0.0866 - accuracy: 0.9757\n",
      "Epoch 74/80\n",
      "864/864 [==============================] - 6s 7ms/step - loss: 0.0888 - accuracy: 0.9722\n",
      "Epoch 75/80\n",
      "864/864 [==============================] - 7s 8ms/step - loss: 0.0756 - accuracy: 0.9757\n",
      "Epoch 76/80\n",
      "864/864 [==============================] - 7s 8ms/step - loss: 0.0739 - accuracy: 0.9838\n",
      "Epoch 77/80\n",
      "864/864 [==============================] - 6s 7ms/step - loss: 0.0636 - accuracy: 0.9769\n",
      "Epoch 78/80\n",
      "864/864 [==============================] - 7s 8ms/step - loss: 0.0782 - accuracy: 0.9757\n",
      "Epoch 79/80\n",
      "864/864 [==============================] - 7s 8ms/step - loss: 0.0770 - accuracy: 0.9792\n",
      "Epoch 80/80\n",
      "864/864 [==============================] - 7s 8ms/step - loss: 0.0842 - accuracy: 0.9745\n"
     ]
    }
   ],
   "source": [
    "#CAREFUL THIS IS A LARGE PROCESS\n",
    "batch_size = 1\n",
    "callbacks = [tensorboard_callback, stop_training_callback()]\n",
    "model_history = model.fit(\n",
    "      train_generator,\n",
    "      steps_per_epoch = train_generator.samples // batch_size,\n",
    "      validation_data = validation_generator, \n",
    "      validation_steps = validation_generator.samples // batch_size,\n",
    "      epochs = 80)\n",
    "\n",
    "#, callbacks=callbacks)"
   ]
  },
  {
   "cell_type": "markdown",
   "metadata": {},
   "source": [
    "## Tensorboard"
   ]
  },
  {
   "cell_type": "code",
   "execution_count": null,
   "metadata": {},
   "outputs": [],
   "source": [
    "#!kill 6360\n",
    "%load_ext tensorboard\n",
    "%tensorboard --logdir logs/fit"
   ]
  },
  {
   "cell_type": "markdown",
   "metadata": {},
   "source": [
    "# Results"
   ]
  },
  {
   "cell_type": "markdown",
   "metadata": {},
   "source": [
    "## Print plate number"
   ]
  },
  {
   "cell_type": "code",
   "execution_count": 56,
   "metadata": {},
   "outputs": [
    {
     "name": "stdout",
     "output_type": "stream",
     "text": [
      "1/1 [==============================] - 0s 44ms/step\n",
      "1/1 [==============================] - 0s 15ms/step\n",
      "1/1 [==============================] - 0s 17ms/step\n",
      "1/1 [==============================] - 0s 17ms/step\n",
      "1/1 [==============================] - 0s 16ms/step\n",
      "1/1 [==============================] - 0s 16ms/step\n",
      "1/1 [==============================] - 0s 17ms/step\n",
      "AJ13870\n"
     ]
    }
   ],
   "source": [
    "def fix_dimension(img): \n",
    "  new_img = np.zeros((28,28,3))\n",
    "  for i in range(3):\n",
    "    new_img[:,:,i] = img\n",
    "  return new_img\n",
    "  \n",
    "def show_results():\n",
    "    dic = {}\n",
    "    characters = '0123456789ABCDEFGHIJKLMNOPQRSTUVWXYZ'\n",
    "    for i,c in enumerate(characters):\n",
    "        dic[i] = c\n",
    "\n",
    "    output = []\n",
    "    for i,ch in enumerate(char): #iterating over the characters\n",
    "        img_ = cv2.resize(ch, (28,28))\n",
    "        img = fix_dimension(img_)\n",
    "        img = img.reshape(1,28,28,3) #preparing image for the model\n",
    "        y_ = np.argmax(model.predict(img)[0]) #predicting the class np.argmax(model.predict(x_test), axis=-1)     classes_ = np.argmax(y_, axis = 1)\n",
    "        character = dic[y_] #\n",
    "        output.append(character) #storing the result in a list\n",
    "        \n",
    "    plate_number = ''.join(output)\n",
    "    \n",
    "    return plate_number\n",
    "\n",
    "print(show_results())"
   ]
  },
  {
   "cell_type": "markdown",
   "metadata": {},
   "source": [
    "## Show prediction"
   ]
  },
  {
   "cell_type": "code",
   "execution_count": 58,
   "metadata": {},
   "outputs": [
    {
     "name": "stdout",
     "output_type": "stream",
     "text": [
      "1/1 [==============================] - 0s 16ms/step\n",
      "1/1 [==============================] - 0s 16ms/step\n",
      "1/1 [==============================] - 0s 16ms/step\n",
      "1/1 [==============================] - 0s 16ms/step\n",
      "1/1 [==============================] - 0s 17ms/step\n",
      "1/1 [==============================] - 0s 17ms/step\n",
      "1/1 [==============================] - 0s 16ms/step\n",
      "1/1 [==============================] - 0s 16ms/step\n",
      "1/1 [==============================] - 0s 16ms/step\n",
      "1/1 [==============================] - 0s 17ms/step\n",
      "1/1 [==============================] - 0s 17ms/step\n",
      "1/1 [==============================] - 0s 16ms/step\n",
      "1/1 [==============================] - 0s 16ms/step\n",
      "1/1 [==============================] - 0s 16ms/step\n",
      "1/1 [==============================] - 0s 16ms/step\n",
      "1/1 [==============================] - 0s 16ms/step\n",
      "1/1 [==============================] - 0s 16ms/step\n",
      "1/1 [==============================] - 0s 16ms/step\n",
      "1/1 [==============================] - 0s 21ms/step\n",
      "1/1 [==============================] - 0s 16ms/step\n",
      "1/1 [==============================] - 0s 15ms/step\n",
      "1/1 [==============================] - 0s 16ms/step\n",
      "1/1 [==============================] - 0s 16ms/step\n",
      "1/1 [==============================] - 0s 16ms/step\n",
      "1/1 [==============================] - 0s 16ms/step\n",
      "1/1 [==============================] - 0s 18ms/step\n",
      "1/1 [==============================] - 0s 18ms/step\n",
      "1/1 [==============================] - 0s 20ms/step\n",
      "1/1 [==============================] - 0s 18ms/step\n",
      "1/1 [==============================] - 0s 19ms/step\n",
      "1/1 [==============================] - 0s 17ms/step\n",
      "1/1 [==============================] - 0s 17ms/step\n",
      "1/1 [==============================] - 0s 17ms/step\n",
      "1/1 [==============================] - 0s 19ms/step\n",
      "1/1 [==============================] - 0s 18ms/step\n",
      "1/1 [==============================] - 0s 17ms/step\n",
      "1/1 [==============================] - 0s 16ms/step\n",
      "1/1 [==============================] - 0s 16ms/step\n",
      "1/1 [==============================] - 0s 16ms/step\n",
      "1/1 [==============================] - 0s 18ms/step\n",
      "1/1 [==============================] - 0s 17ms/step\n",
      "1/1 [==============================] - 0s 17ms/step\n",
      "1/1 [==============================] - 0s 17ms/step\n",
      "1/1 [==============================] - 0s 18ms/step\n",
      "1/1 [==============================] - 0s 17ms/step\n",
      "1/1 [==============================] - 0s 16ms/step\n",
      "1/1 [==============================] - 0s 16ms/step\n",
      "1/1 [==============================] - 0s 16ms/step\n",
      "1/1 [==============================] - 0s 16ms/step\n"
     ]
    },
    {
     "data": {
      "image/png": "[encoded data removed]",
      "text/plain": [
       "<Figure size 1000x600 with 7 Axes>"
      ]
     },
     "metadata": {},
     "output_type": "display_data"
    }
   ],
   "source": [
    "plt.figure(figsize=(10,6))\n",
    "for i,ch in enumerate(char):\n",
    "    img = cv2.resize(ch, (28,28))\n",
    "    plt.subplot(3,4,i+1)\n",
    "    plt.imshow(img,cmap='gray')\n",
    "    plt.title(f'predicted: {show_results()[i]}')\n",
    "    plt.axis('off')\n",
    "plt.show()"
   ]
  }
 ],
 "metadata": {
  "kernelspec": {
   "display_name": "Python 3.10.8 ('.venv': venv)",
   "language": "python",
   "name": "python3"
  },
  "language_info": {
   "codemirror_mode": {
    "name": "ipython",
    "version": 3
   },
   "file_extension": ".py",
   "mimetype": "text/x-python",
   "name": "python",
   "nbconvert_exporter": "python",
   "pygments_lexer": "ipython3",
   "version": "3.10.8"
  },
  "orig_nbformat": 4,
  "vscode": {
   "interpreter": {
    "hash": "5ab9fb6a2bd0e070872031f19f584830d107e4c85255cd3ec8302672fc4f3dfa"
   }
  }
 },
 "nbformat": 4,
 "nbformat_minor": 2
}
