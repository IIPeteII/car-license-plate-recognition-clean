{
 "cells": [
  {
   "cell_type": "markdown",
   "metadata": {},
   "source": [
    "# Import libraries"
   ]
  },
  {
   "cell_type": "code",
   "execution_count": 3,
   "metadata": {},
   "outputs": [
    {
     "ename": "ModuleNotFoundError",
     "evalue": "No module named 'altair'",
     "output_type": "error",
     "traceback": [
      "\u001b[1;31m---------------------------------------------------------------------------\u001b[0m",
      "\u001b[1;31mModuleNotFoundError\u001b[0m                       Traceback (most recent call last)",
      "Cell \u001b[1;32mIn [3], line 9\u001b[0m\n\u001b[0;32m      7\u001b[0m \u001b[39mimport\u001b[39;00m \u001b[39mhttp\u001b[39;00m\u001b[39m.\u001b[39;00m\u001b[39mclient\u001b[39;00m\n\u001b[0;32m      8\u001b[0m \u001b[39mimport\u001b[39;00m \u001b[39mjson\u001b[39;00m\n\u001b[1;32m----> 9\u001b[0m \u001b[39mimport\u001b[39;00m \u001b[39maltair\u001b[39;00m \u001b[39mas\u001b[39;00m \u001b[39malt\u001b[39;00m\n\u001b[0;32m     10\u001b[0m \u001b[39m#import altair_viewer\u001b[39;00m\n\u001b[0;32m     11\u001b[0m \u001b[39mimport\u001b[39;00m \u001b[39mos\u001b[39;00m\n",
      "\u001b[1;31mModuleNotFoundError\u001b[0m: No module named 'altair'"
     ]
    }
   ],
   "source": [
    "#COMMON\n",
    "import matplotlib.pyplot as plt\n",
    "import numpy as np\n",
    "import pandas as pd\n",
    "import cv2\n",
    "import datetime\n",
    "import http.client\n",
    "import json\n",
    "import altair as alt\n",
    "#import altair_viewer\n",
    "import os\n",
    "from PIL import Image\n",
    "from pathlib import Path\n",
    "from matplotlib.patches import Rectangle\n",
    "from scipy.io import loadmat\n",
    "\n",
    "#ML\n",
    "import tensorflow as tf\n",
    "from keras.preprocessing.image import ImageDataGenerator\n",
    "from keras.models import Sequential\n",
    "from keras.layers import Dense, Flatten, MaxPooling2D, Dropout, Conv2D\n",
    "from keras import optimizers"
   ]
  },
  {
   "cell_type": "markdown",
   "metadata": {},
   "source": [
    "# Create extraction function"
   ]
  },
  {
   "cell_type": "code",
   "execution_count": 3,
   "metadata": {},
   "outputs": [],
   "source": [
    "def extract_plate(img): # the function detects and perfors blurring on the number plate.\n",
    "\tplate_img = img.copy()\n",
    "\t\n",
    "\t#Loads the data required for detecting the license plates from cascade classifier.\n",
    "\tplate_cascade = cv2.CascadeClassifier('indian_license_plate.xml')\n",
    "\n",
    "\t# detects numberplates and returns the coordinates and dimensions of detected license plate's contours.\n",
    "\tplate_rect = plate_cascade.detectMultiScale(plate_img, scaleFactor = 1.3, minNeighbors = 7)\n",
    "\n",
    "\tfor (x,y,w,h) in plate_rect:\n",
    "\t\t#a,b = (int(0.02*img.shape[0]), int(0.025*img.shape[1])) #parameter tuning #Check this later!\n",
    "\t\t#plate = plate_img[y+a:y+h-a, x+b:x+w-b, :]\n",
    "\t\tplate = plate_img[y:y+h, x:x+w, :] #don't need the parameter tuning stuff\n",
    "\t\t# finally representing the detected contours by drawing rectangles around the edges.\n",
    "\t\tcv2.rectangle(plate_img, (x,y), (x+w, y+h), (51,51,255), 3)\n",
    "        \n",
    "\treturn plate_img, plate # returning the processed image."
   ]
  },
  {
   "cell_type": "markdown",
   "metadata": {},
   "source": [
    "# Apply extraction function"
   ]
  },
  {
   "cell_type": "code",
   "execution_count": 4,
   "metadata": {},
   "outputs": [],
   "source": [
    "dk_test_img = cv2.imread(r\"C:\\Users\\Peter\\Documents\\GitHub\\car-license-plate-recognition-clean\\car-pictures\\AJ13870_back.jpg\")\n",
    "plate_img_out, plate_out = extract_plate(dk_test_img)\n",
    "\n",
    "#cv2.imshow(\"somethingsomethingdkimg\", plate_img_out)\n",
    "#cv2.waitKey(0) \n",
    "#cv2.imshow(\"somethingsomethingdkimg\", plate_out)\n",
    "#cv2.waitKey(0)\n",
    "#cv2.destroyAllWindows()"
   ]
  },
  {
   "cell_type": "markdown",
   "metadata": {},
   "source": [
    "# Match contours to license plate"
   ]
  },
  {
   "cell_type": "code",
   "execution_count": 5,
   "metadata": {},
   "outputs": [],
   "source": [
    "# Match contours to license plate or character template\n",
    "def find_contours(dimensions, img) :\n",
    "\n",
    "    # Find all contours in the image\n",
    "    cntrs, _ = cv2.findContours(img.copy(), cv2.RETR_TREE, cv2.CHAIN_APPROX_SIMPLE)\n",
    "\n",
    "    # Retrieve potential dimensions\n",
    "    lower_width = dimensions[0]\n",
    "    upper_width = dimensions[1]\n",
    "    lower_height = dimensions[2]\n",
    "    upper_height = dimensions[3]\n",
    "    \n",
    "    # Check largest 5 or  15 contours for license plate or character respectively\n",
    "    cntrs = sorted(cntrs, key=cv2.contourArea, reverse=True)[:15]\n",
    "    \n",
    "    ii = cv2.imread('contour.jpg')\n",
    "    \n",
    "    x_cntr_list = []\n",
    "    target_contours = []\n",
    "    img_res = []\n",
    "    for cntr in cntrs :\n",
    "        #detects contour in binary image and returns the coordinates of rectangle enclosing it\n",
    "        intX, intY, intWidth, intHeight = cv2.boundingRect(cntr)\n",
    "        \n",
    "        #checking the dimensions of the contour to filter out the characters by contour's size\n",
    "        if intWidth > lower_width and intWidth < upper_width and intHeight > lower_height and intHeight < upper_height :\n",
    "            x_cntr_list.append(intX) #stores the x coordinate of the character's contour, to used later for indexing the contours\n",
    "\n",
    "            char_copy = np.zeros((44,24))\n",
    "            #extracting each character using the enclosing rectangle's coordinates.\n",
    "            char = img[intY:intY+intHeight, intX:intX+intWidth]\n",
    "            char = cv2.resize(char, (20, 40))\n",
    "            \n",
    "            cv2.rectangle(ii, (intX,intY), (intWidth+intX, intY+intHeight), (50,21,200), 2)\n",
    "            plt.imshow(ii, cmap='gray')\n",
    "\n",
    "#             Make result formatted for classification: invert colors\n",
    "            char = cv2.subtract(255, char)\n",
    "\n",
    "            # Resize the image to 24x44 with black border\n",
    "            char_copy[2:42, 2:22] = char\n",
    "            char_copy[0:2, :] = 0\n",
    "            char_copy[:, 0:2] = 0\n",
    "            char_copy[42:44, :] = 0\n",
    "            char_copy[:, 22:24] = 0\n",
    "\n",
    "            img_res.append(char_copy) #List that stores the character's binary image (unsorted)\n",
    "            \n",
    "    #Return characters on ascending order with respect to the x-coordinate (most-left character first)\n",
    "            \n",
    "    plt.show()\n",
    "    #arbitrary function that stores sorted list of character indeces\n",
    "    indices = sorted(range(len(x_cntr_list)), key=lambda k: x_cntr_list[k])\n",
    "    img_res_copy = []\n",
    "    for idx in indices:\n",
    "        img_res_copy.append(img_res[idx])# stores character images according to their index\n",
    "    img_res = np.array(img_res_copy)\n",
    "\n",
    "    return img_res"
   ]
  },
  {
   "cell_type": "markdown",
   "metadata": {},
   "source": [
    "# Find characters function"
   ]
  },
  {
   "cell_type": "code",
   "execution_count": 6,
   "metadata": {},
   "outputs": [],
   "source": [
    "# Find characters in the resulting images\n",
    "def segment_characters(image) :\n",
    "\n",
    "    # Preprocess cropped license plate image\n",
    "    img_lp = cv2.resize(image, (333, 75))\n",
    "    img_gray_lp = cv2.cvtColor(img_lp, cv2.COLOR_BGR2GRAY)\n",
    "    _, img_binary_lp = cv2.threshold(img_gray_lp, 200, 255, cv2.THRESH_BINARY+cv2.THRESH_OTSU)\n",
    "    img_binary_lp = cv2.erode(img_binary_lp, (3,3))\n",
    "    img_binary_lp = cv2.dilate(img_binary_lp, (3,3))\n",
    "\n",
    "    LP_WIDTH = img_binary_lp.shape[0]\n",
    "    LP_HEIGHT = img_binary_lp.shape[1]\n",
    "\n",
    "    # Make borders white\n",
    "    img_binary_lp[0:3,:] = 255\n",
    "    img_binary_lp[:,0:3] = 255\n",
    "    img_binary_lp[72:75,:] = 255\n",
    "    img_binary_lp[:,330:333] = 255\n",
    "\n",
    "    # Estimations of character contours sizes of cropped license plates\n",
    "    dimensions = [LP_WIDTH/6,\n",
    "                       LP_WIDTH/2,\n",
    "                       LP_HEIGHT/10,\n",
    "                       2*LP_HEIGHT/3]\n",
    "    plt.imshow(img_binary_lp, cmap='gray')\n",
    "    plt.show()\n",
    "    cv2.imwrite('contour.jpg',img_binary_lp)\n",
    "\n",
    "    # Get contours within cropped license plate\n",
    "    char_list = find_contours(dimensions, img_binary_lp)\n",
    "\n",
    "    return char_list"
   ]
  },
  {
   "cell_type": "markdown",
   "metadata": {},
   "source": [
    "# Apply characters function and see output"
   ]
  },
  {
   "cell_type": "code",
   "execution_count": 7,
   "metadata": {},
   "outputs": [
    {
     "data": {
      "image/png": "[encoded data removed]",
      "text/plain": [
       "<Figure size 640x480 with 1 Axes>"
      ]
     },
     "metadata": {},
     "output_type": "display_data"
    },
    {
     "data": {
      "image/png": "[encoded data removed]",
      "text/plain": [
       "<Figure size 640x480 with 1 Axes>"
      ]
     },
     "metadata": {},
     "output_type": "display_data"
    }
   ],
   "source": [
    "char = segment_characters(plate_out)"
   ]
  },
  {
   "cell_type": "markdown",
   "metadata": {},
   "source": [
    "# CNN"
   ]
  },
  {
   "cell_type": "markdown",
   "metadata": {},
   "source": [
    "## Create fit parameters"
   ]
  },
  {
   "cell_type": "code",
   "execution_count": 8,
   "metadata": {},
   "outputs": [
    {
     "name": "stdout",
     "output_type": "stream",
     "text": [
      "Found 864 images belonging to 36 classes.\n",
      "Found 216 images belonging to 36 classes.\n"
     ]
    }
   ],
   "source": [
    "train_datagen = ImageDataGenerator(rescale=1./255, width_shift_range=0.1, height_shift_range=0.1)\n",
    "train_generator = train_datagen.flow_from_directory(\n",
    "        'data/data/train',  # this is the target directory\n",
    "        target_size=(28,28),  # all images will be resized to 28x28\n",
    "        batch_size=1,\n",
    "        class_mode='categorical')\n",
    "\n",
    "validation_generator = train_datagen.flow_from_directory(\n",
    "        'data/data/val',  # this is the target directory\n",
    "        target_size=(28,28),  # all images will be resized to 28x28        batch_size=1,\n",
    "        class_mode='categorical')"
   ]
  },
  {
   "cell_type": "markdown",
   "metadata": {},
   "source": [
    "## Model"
   ]
  },
  {
   "cell_type": "code",
   "execution_count": 9,
   "metadata": {},
   "outputs": [
    {
     "name": "stderr",
     "output_type": "stream",
     "text": [
      "c:\\Users\\Peter\\Documents\\GitHub\\car-license-plate-recognition-clean\\.venv\\lib\\site-packages\\keras\\optimizers\\optimizer_v2\\adam.py:117: UserWarning: The `lr` argument is deprecated, use `learning_rate` instead.\n",
      "  super().__init__(name, **kwargs)\n"
     ]
    }
   ],
   "source": [
    "model = Sequential()\n",
    "model.add(Conv2D(32, (24,24), input_shape=(28, 28, 3), activation='relu', padding='same'))\n",
    "# model.add(Conv2D(32, (20,20), input_shape=(28, 28, 3), activation='relu', padding='same'))\n",
    "# model.add(Conv2D(32, (20,20), input_shape=(28, 28, 3), activation='relu', padding='same'))\n",
    "model.add(MaxPooling2D(pool_size=(2, 2)))\n",
    "model.add(Dropout(0.4))\n",
    "model.add(Flatten())\n",
    "model.add(Dense(128, activation='relu'))\n",
    "model.add(Dense(36, activation='softmax'))\n",
    "\n",
    "model.compile(loss='categorical_crossentropy', optimizer=optimizers.Adam(lr=0.00001), metrics=['accuracy'])"
   ]
  },
  {
   "cell_type": "markdown",
   "metadata": {},
   "source": [
    "## A custom training callback"
   ]
  },
  {
   "cell_type": "code",
   "execution_count": 10,
   "metadata": {},
   "outputs": [],
   "source": [
    "class stop_training_callback(tf.keras.callbacks.Callback):\n",
    "  def on_epoch_end(self, epoch, logs={}):\n",
    "    if(logs.get('val_acc') > 0.992):\n",
    "      self.model.stop_training = True"
   ]
  },
  {
   "cell_type": "markdown",
   "metadata": {},
   "source": [
    "## Create logs"
   ]
  },
  {
   "cell_type": "code",
   "execution_count": 11,
   "metadata": {},
   "outputs": [],
   "source": [
    "log_dir=\"logs/fit/\" + datetime.datetime.now().strftime(\"%Y%m%d-%H%M%S\")\n",
    "tensorboard_callback = tf.keras.callbacks.TensorBoard(log_dir=log_dir, histogram_freq=1)"
   ]
  },
  {
   "cell_type": "markdown",
   "metadata": {},
   "source": [
    "## Model training"
   ]
  },
  {
   "cell_type": "code",
   "execution_count": 12,
   "metadata": {},
   "outputs": [
    {
     "name": "stdout",
     "output_type": "stream",
     "text": [
      "Epoch 1/80\n",
      "859/864 [============================>.] - ETA: 0s - loss: 3.5121 - accuracy: 0.0698WARNING:tensorflow:Your input ran out of data; interrupting training. Make sure that your dataset or generator can generate at least `steps_per_epoch * epochs` batches (in this case, 216 batches). You may need to use the repeat() function when building your dataset.\n",
      "864/864 [==============================] - 8s 9ms/step - loss: 3.5101 - accuracy: 0.0706 - val_loss: 3.3395 - val_accuracy: 0.2361\n",
      "Epoch 2/80\n",
      "864/864 [==============================] - 6s 7ms/step - loss: 3.1641 - accuracy: 0.1956\n",
      "Epoch 3/80\n",
      "864/864 [==============================] - 6s 7ms/step - loss: 2.6051 - accuracy: 0.3530\n",
      "Epoch 4/80\n",
      "864/864 [==============================] - 6s 7ms/step - loss: 2.1187 - accuracy: 0.4421\n",
      "Epoch 5/80\n",
      "864/864 [==============================] - 6s 7ms/step - loss: 1.7124 - accuracy: 0.5544\n",
      "Epoch 6/80\n",
      "864/864 [==============================] - 6s 7ms/step - loss: 1.4362 - accuracy: 0.6088\n",
      "Epoch 7/80\n",
      "864/864 [==============================] - 6s 7ms/step - loss: 1.2707 - accuracy: 0.6493\n",
      "Epoch 8/80\n",
      "864/864 [==============================] - 6s 7ms/step - loss: 1.0766 - accuracy: 0.7037\n",
      "Epoch 9/80\n",
      "864/864 [==============================] - 6s 7ms/step - loss: 0.9989 - accuracy: 0.7199\n",
      "Epoch 10/80\n",
      "864/864 [==============================] - 6s 7ms/step - loss: 0.8555 - accuracy: 0.7755\n",
      "Epoch 11/80\n",
      "864/864 [==============================] - 6s 7ms/step - loss: 0.7799 - accuracy: 0.7870\n",
      "Epoch 12/80\n",
      "864/864 [==============================] - 6s 7ms/step - loss: 0.7218 - accuracy: 0.7894\n",
      "Epoch 13/80\n",
      "864/864 [==============================] - 6s 7ms/step - loss: 0.6953 - accuracy: 0.7963\n",
      "Epoch 14/80\n",
      "864/864 [==============================] - 6s 7ms/step - loss: 0.6629 - accuracy: 0.8021\n",
      "Epoch 15/80\n",
      "864/864 [==============================] - 6s 7ms/step - loss: 0.5889 - accuracy: 0.8472\n",
      "Epoch 16/80\n",
      "864/864 [==============================] - 6s 7ms/step - loss: 0.5134 - accuracy: 0.8484\n",
      "Epoch 17/80\n",
      "864/864 [==============================] - 6s 7ms/step - loss: 0.4829 - accuracy: 0.8669\n",
      "Epoch 18/80\n",
      "864/864 [==============================] - 6s 7ms/step - loss: 0.4536 - accuracy: 0.8773\n",
      "Epoch 19/80\n",
      "864/864 [==============================] - 6s 7ms/step - loss: 0.4335 - accuracy: 0.8738\n",
      "Epoch 20/80\n",
      "864/864 [==============================] - 6s 7ms/step - loss: 0.4372 - accuracy: 0.8727\n",
      "Epoch 21/80\n",
      "864/864 [==============================] - 6s 7ms/step - loss: 0.4091 - accuracy: 0.8738\n",
      "Epoch 22/80\n",
      "864/864 [==============================] - 6s 7ms/step - loss: 0.3600 - accuracy: 0.8912\n",
      "Epoch 23/80\n",
      "864/864 [==============================] - 6s 7ms/step - loss: 0.3666 - accuracy: 0.9005\n",
      "Epoch 24/80\n",
      "864/864 [==============================] - 6s 7ms/step - loss: 0.3147 - accuracy: 0.8958\n",
      "Epoch 25/80\n",
      "864/864 [==============================] - 6s 7ms/step - loss: 0.3438 - accuracy: 0.8970\n",
      "Epoch 26/80\n",
      "864/864 [==============================] - 6s 7ms/step - loss: 0.2891 - accuracy: 0.9271\n",
      "Epoch 27/80\n",
      "864/864 [==============================] - 6s 7ms/step - loss: 0.2679 - accuracy: 0.9178\n",
      "Epoch 28/80\n",
      "864/864 [==============================] - 6s 7ms/step - loss: 0.2402 - accuracy: 0.9294\n",
      "Epoch 29/80\n",
      "864/864 [==============================] - 6s 7ms/step - loss: 0.2448 - accuracy: 0.9306\n",
      "Epoch 30/80\n",
      "864/864 [==============================] - 6s 7ms/step - loss: 0.2293 - accuracy: 0.9317\n",
      "Epoch 31/80\n",
      "864/864 [==============================] - 6s 7ms/step - loss: 0.2451 - accuracy: 0.9248\n",
      "Epoch 32/80\n",
      "864/864 [==============================] - 6s 7ms/step - loss: 0.2148 - accuracy: 0.9387\n",
      "Epoch 33/80\n",
      "864/864 [==============================] - 6s 7ms/step - loss: 0.2363 - accuracy: 0.9259\n",
      "Epoch 34/80\n",
      "864/864 [==============================] - 6s 7ms/step - loss: 0.1866 - accuracy: 0.9444\n",
      "Epoch 35/80\n",
      "864/864 [==============================] - 6s 7ms/step - loss: 0.1955 - accuracy: 0.9444\n",
      "Epoch 36/80\n",
      "864/864 [==============================] - 6s 7ms/step - loss: 0.1905 - accuracy: 0.9421\n",
      "Epoch 37/80\n",
      "864/864 [==============================] - 6s 7ms/step - loss: 0.1800 - accuracy: 0.9468\n",
      "Epoch 38/80\n",
      "864/864 [==============================] - 6s 7ms/step - loss: 0.1845 - accuracy: 0.9456\n",
      "Epoch 39/80\n",
      "864/864 [==============================] - 6s 7ms/step - loss: 0.1588 - accuracy: 0.9514\n",
      "Epoch 40/80\n",
      "864/864 [==============================] - 6s 7ms/step - loss: 0.1312 - accuracy: 0.9653\n",
      "Epoch 41/80\n",
      "864/864 [==============================] - 6s 7ms/step - loss: 0.1644 - accuracy: 0.9583\n",
      "Epoch 42/80\n",
      "864/864 [==============================] - 6s 7ms/step - loss: 0.1498 - accuracy: 0.9595\n",
      "Epoch 43/80\n",
      "864/864 [==============================] - 6s 7ms/step - loss: 0.1419 - accuracy: 0.9583\n",
      "Epoch 44/80\n",
      "864/864 [==============================] - 6s 7ms/step - loss: 0.1500 - accuracy: 0.9583\n",
      "Epoch 45/80\n",
      "864/864 [==============================] - 6s 7ms/step - loss: 0.1646 - accuracy: 0.9502\n",
      "Epoch 46/80\n",
      "864/864 [==============================] - 6s 7ms/step - loss: 0.1195 - accuracy: 0.9676\n",
      "Epoch 47/80\n",
      "864/864 [==============================] - 7s 8ms/step - loss: 0.1444 - accuracy: 0.9479\n",
      "Epoch 48/80\n",
      "864/864 [==============================] - 7s 8ms/step - loss: 0.1202 - accuracy: 0.9722\n",
      "Epoch 49/80\n",
      "864/864 [==============================] - 7s 8ms/step - loss: 0.1447 - accuracy: 0.9641\n",
      "Epoch 50/80\n",
      "864/864 [==============================] - 7s 8ms/step - loss: 0.1108 - accuracy: 0.9653\n",
      "Epoch 51/80\n",
      "864/864 [==============================] - 7s 8ms/step - loss: 0.1185 - accuracy: 0.9653\n",
      "Epoch 52/80\n",
      "864/864 [==============================] - 7s 8ms/step - loss: 0.1279 - accuracy: 0.9664\n",
      "Epoch 53/80\n",
      "864/864 [==============================] - 6s 7ms/step - loss: 0.1006 - accuracy: 0.9711\n",
      "Epoch 54/80\n",
      "864/864 [==============================] - 7s 8ms/step - loss: 0.1126 - accuracy: 0.9676\n",
      "Epoch 55/80\n",
      "864/864 [==============================] - 7s 8ms/step - loss: 0.1016 - accuracy: 0.9722\n",
      "Epoch 56/80\n",
      "864/864 [==============================] - 6s 7ms/step - loss: 0.1140 - accuracy: 0.9595\n",
      "Epoch 57/80\n",
      "864/864 [==============================] - 6s 7ms/step - loss: 0.0824 - accuracy: 0.9722\n",
      "Epoch 58/80\n",
      "864/864 [==============================] - 6s 7ms/step - loss: 0.0770 - accuracy: 0.9803\n",
      "Epoch 59/80\n",
      "864/864 [==============================] - 6s 7ms/step - loss: 0.1149 - accuracy: 0.9641\n",
      "Epoch 60/80\n",
      "864/864 [==============================] - 6s 7ms/step - loss: 0.0913 - accuracy: 0.9745\n",
      "Epoch 61/80\n",
      "864/864 [==============================] - 6s 7ms/step - loss: 0.0836 - accuracy: 0.9745\n",
      "Epoch 62/80\n",
      "864/864 [==============================] - 6s 7ms/step - loss: 0.1041 - accuracy: 0.9676\n",
      "Epoch 63/80\n",
      "864/864 [==============================] - 6s 7ms/step - loss: 0.1079 - accuracy: 0.9676\n",
      "Epoch 64/80\n",
      "864/864 [==============================] - 6s 7ms/step - loss: 0.0807 - accuracy: 0.9745\n",
      "Epoch 65/80\n",
      "864/864 [==============================] - 6s 7ms/step - loss: 0.0909 - accuracy: 0.9734\n",
      "Epoch 66/80\n",
      "864/864 [==============================] - 6s 7ms/step - loss: 0.0815 - accuracy: 0.9757\n",
      "Epoch 67/80\n",
      "864/864 [==============================] - 7s 8ms/step - loss: 0.0782 - accuracy: 0.9769\n",
      "Epoch 68/80\n",
      "864/864 [==============================] - 7s 8ms/step - loss: 0.0705 - accuracy: 0.9815\n",
      "Epoch 69/80\n",
      "864/864 [==============================] - 6s 7ms/step - loss: 0.0709 - accuracy: 0.9803\n",
      "Epoch 70/80\n",
      "864/864 [==============================] - 6s 7ms/step - loss: 0.0948 - accuracy: 0.9745\n",
      "Epoch 71/80\n",
      "864/864 [==============================] - 6s 7ms/step - loss: 0.0851 - accuracy: 0.9676\n",
      "Epoch 72/80\n",
      "864/864 [==============================] - 6s 7ms/step - loss: 0.0719 - accuracy: 0.9826\n",
      "Epoch 73/80\n",
      "864/864 [==============================] - 6s 7ms/step - loss: 0.0636 - accuracy: 0.9815\n",
      "Epoch 74/80\n",
      "864/864 [==============================] - 6s 7ms/step - loss: 0.0699 - accuracy: 0.9757\n",
      "Epoch 75/80\n",
      "864/864 [==============================] - 7s 8ms/step - loss: 0.0662 - accuracy: 0.9792\n",
      "Epoch 76/80\n",
      "864/864 [==============================] - 7s 8ms/step - loss: 0.0726 - accuracy: 0.9722\n",
      "Epoch 77/80\n",
      "864/864 [==============================] - 6s 7ms/step - loss: 0.0616 - accuracy: 0.9826\n",
      "Epoch 78/80\n",
      "864/864 [==============================] - 6s 7ms/step - loss: 0.0554 - accuracy: 0.9815\n",
      "Epoch 79/80\n",
      "864/864 [==============================] - 6s 7ms/step - loss: 0.0609 - accuracy: 0.9803\n",
      "Epoch 80/80\n",
      "864/864 [==============================] - 7s 8ms/step - loss: 0.0771 - accuracy: 0.9734\n"
     ]
    }
   ],
   "source": [
    "#CAREFUL THIS IS A LARGE PROCESS\n",
    "batch_size = 1\n",
    "callbacks = [tensorboard_callback, stop_training_callback()]\n",
    "model_history = model.fit(\n",
    "      train_generator,\n",
    "      steps_per_epoch = train_generator.samples // batch_size,\n",
    "      validation_data = validation_generator, \n",
    "      validation_steps = validation_generator.samples // batch_size,\n",
    "      epochs = 80)\n",
    "\n",
    "#, callbacks=callbacks)"
   ]
  },
  {
   "cell_type": "markdown",
   "metadata": {},
   "source": [
    "## Tensorboard"
   ]
  },
  {
   "cell_type": "code",
   "execution_count": null,
   "metadata": {},
   "outputs": [],
   "source": [
    "#!kill 6360\n",
    "%load_ext tensorboard\n",
    "%tensorboard --logdir logs/fit"
   ]
  },
  {
   "cell_type": "markdown",
   "metadata": {},
   "source": [
    "# Results"
   ]
  },
  {
   "cell_type": "markdown",
   "metadata": {},
   "source": [
    "## Print plate number"
   ]
  },
  {
   "cell_type": "code",
   "execution_count": 29,
   "metadata": {},
   "outputs": [
    {
     "name": "stdout",
     "output_type": "stream",
     "text": [
      "1/1 [==============================] - 0s 24ms/step\n",
      "1/1 [==============================] - 0s 20ms/step\n",
      "1/1 [==============================] - 0s 17ms/step\n",
      "1/1 [==============================] - 0s 17ms/step\n",
      "1/1 [==============================] - 0s 17ms/step\n",
      "1/1 [==============================] - 0s 16ms/step\n",
      "1/1 [==============================] - 0s 17ms/step\n",
      "AJ13870\n"
     ]
    }
   ],
   "source": [
    "def fix_dimension(img): \n",
    "  new_img = np.zeros((28,28,3))\n",
    "  for i in range(3):\n",
    "    new_img[:,:,i] = img\n",
    "  return new_img\n",
    "  \n",
    "def show_results():\n",
    "    dic = {}\n",
    "    characters = '0123456789ABCDEFGHIJKLMNOPQRSTUVWXYZ'\n",
    "    for i,c in enumerate(characters):\n",
    "        dic[i] = c\n",
    "\n",
    "    output = []\n",
    "    for i,ch in enumerate(char): #iterating over the characters\n",
    "        img_ = cv2.resize(ch, (28,28))\n",
    "        img = fix_dimension(img_)\n",
    "        img = img.reshape(1,28,28,3) #preparing image for the model\n",
    "        y_ = np.argmax(model.predict(img)[0]) #predicting the class np.argmax(model.predict(x_test), axis=-1)     classes_ = np.argmax(y_, axis = 1)\n",
    "        character = dic[y_] #\n",
    "        output.append(character) #storing the result in a list\n",
    "        \n",
    "    plate_number = ''.join(output)\n",
    "    \n",
    "    return plate_number\n",
    "\n",
    "final_plate = show_results()\n",
    "print(final_plate)"
   ]
  },
  {
   "cell_type": "markdown",
   "metadata": {},
   "source": [
    "## Show prediction"
   ]
  },
  {
   "cell_type": "code",
   "execution_count": 15,
   "metadata": {},
   "outputs": [
    {
     "name": "stdout",
     "output_type": "stream",
     "text": [
      "1/1 [==============================] - 0s 18ms/step\n",
      "1/1 [==============================] - 0s 19ms/step\n",
      "1/1 [==============================] - 0s 19ms/step\n",
      "1/1 [==============================] - 0s 17ms/step\n",
      "1/1 [==============================] - 0s 17ms/step\n",
      "1/1 [==============================] - 0s 19ms/step\n",
      "1/1 [==============================] - 0s 17ms/step\n",
      "1/1 [==============================] - 0s 16ms/step\n",
      "1/1 [==============================] - 0s 17ms/step\n",
      "1/1 [==============================] - 0s 16ms/step\n",
      "1/1 [==============================] - 0s 16ms/step\n",
      "1/1 [==============================] - 0s 16ms/step\n",
      "1/1 [==============================] - 0s 16ms/step\n",
      "1/1 [==============================] - 0s 16ms/step\n",
      "1/1 [==============================] - 0s 17ms/step\n",
      "1/1 [==============================] - 0s 17ms/step\n",
      "1/1 [==============================] - 0s 16ms/step\n",
      "1/1 [==============================] - 0s 16ms/step\n",
      "1/1 [==============================] - 0s 16ms/step\n",
      "1/1 [==============================] - 0s 20ms/step\n",
      "1/1 [==============================] - 0s 19ms/step\n",
      "1/1 [==============================] - 0s 18ms/step\n",
      "1/1 [==============================] - 0s 19ms/step\n",
      "1/1 [==============================] - 0s 17ms/step\n",
      "1/1 [==============================] - 0s 16ms/step\n",
      "1/1 [==============================] - 0s 16ms/step\n",
      "1/1 [==============================] - 0s 15ms/step\n",
      "1/1 [==============================] - 0s 16ms/step\n",
      "1/1 [==============================] - 0s 16ms/step\n",
      "1/1 [==============================] - 0s 17ms/step\n",
      "1/1 [==============================] - 0s 16ms/step\n",
      "1/1 [==============================] - 0s 16ms/step\n",
      "1/1 [==============================] - 0s 17ms/step\n",
      "1/1 [==============================] - 0s 17ms/step\n",
      "1/1 [==============================] - 0s 17ms/step\n",
      "1/1 [==============================] - 0s 16ms/step\n",
      "1/1 [==============================] - 0s 16ms/step\n",
      "1/1 [==============================] - 0s 16ms/step\n",
      "1/1 [==============================] - 0s 17ms/step\n",
      "1/1 [==============================] - 0s 16ms/step\n",
      "1/1 [==============================] - 0s 15ms/step\n",
      "1/1 [==============================] - 0s 20ms/step\n",
      "1/1 [==============================] - 0s 16ms/step\n",
      "1/1 [==============================] - 0s 19ms/step\n",
      "1/1 [==============================] - 0s 21ms/step\n",
      "1/1 [==============================] - 0s 19ms/step\n",
      "1/1 [==============================] - 0s 18ms/step\n",
      "1/1 [==============================] - 0s 17ms/step\n",
      "1/1 [==============================] - 0s 18ms/step\n"
     ]
    },
    {
     "data": {
      "image/png": "[encoded data removed]",
      "text/plain": [
       "<Figure size 1000x600 with 7 Axes>"
      ]
     },
     "metadata": {},
     "output_type": "display_data"
    }
   ],
   "source": [
    "plt.figure(figsize=(10,6))\n",
    "for i,ch in enumerate(char):\n",
    "    img = cv2.resize(ch, (28,28))\n",
    "    plt.subplot(3,4,i+1)\n",
    "    plt.imshow(img,cmap='gray')\n",
    "    plt.title(f'predicted: {show_results()[i]}')\n",
    "    plt.axis('off')\n",
    "plt.show()"
   ]
  },
  {
   "cell_type": "markdown",
   "metadata": {},
   "source": [
    "# API"
   ]
  },
  {
   "cell_type": "markdown",
   "metadata": {},
   "source": [
    "## Create input plate from results"
   ]
  },
  {
   "cell_type": "code",
   "execution_count": 31,
   "metadata": {},
   "outputs": [
    {
     "name": "stdout",
     "output_type": "stream",
     "text": [
      "/vehicles?registration_number=AJ13870\n"
     ]
    }
   ],
   "source": [
    "final_plate #Create variable from model\n",
    "link = \"/vehicles?registration_number={}\".format(final_plate)\n",
    "print (link)"
   ]
  },
  {
   "cell_type": "markdown",
   "metadata": {},
   "source": [
    "## API-script"
   ]
  },
  {
   "cell_type": "code",
   "execution_count": 32,
   "metadata": {},
   "outputs": [
    {
     "name": "stdout",
     "output_type": "stream",
     "text": [
      "[\n",
      "    {\n",
      "        \"registration_number\": \"AJ13870\",\n",
      "        \"status\": \"Registreret\",\n",
      "        \"status_date\": \"2013-10-07T10:33:46.000+02:00\",\n",
      "        \"type\": \"Personbil\",\n",
      "        \"use\": \"Privat personk\\u00f8rsel\",\n",
      "        \"first_registration\": \"2013-10-07+02:00\",\n",
      "        \"vin\": \"WDD2042021G129692\",\n",
      "        \"own_weight\": null,\n",
      "        \"cerb_weight\": 1655,\n",
      "        \"total_weight\": 2195,\n",
      "        \"axels\": 2,\n",
      "        \"pulling_axels\": 1,\n",
      "        \"seats\": 5,\n",
      "        \"coupling\": false,\n",
      "        \"trailer_maxweight_nobrakes\": 750,\n",
      "        \"trailer_maxweight_withbrakes\": 1800,\n",
      "        \"doors\": 4,\n",
      "        \"make\": \"MERCEDES-BENZ\",\n",
      "        \"model\": \"C-Klasse\",\n",
      "        \"variant\": \"220 CDI BlueEFFICIENCY T\",\n",
      "        \"model_type\": \"204 K\",\n",
      "        \"model_year\": 2013,\n",
      "        \"color\": \"Gr\\u00e5\",\n",
      "        \"chassis_type\": \"Stationcar\",\n",
      "        \"engine_cylinders\": 4,\n",
      "        \"engine_volume\": 2143,\n",
      "        \"engine_power\": 125,\n",
      "        \"fuel_type\": \"Diesel\",\n",
      "        \"registration_zipcode\": \"\",\n",
      "        \"vehicle_id\": 9000000000384590,\n",
      "        \"mot_info\": {\n",
      "            \"type\": \"PeriodiskSyn\",\n",
      "            \"date\": \"2021-10-06\",\n",
      "            \"result\": \"Godkendt\",\n",
      "            \"status\": \"Aktiv\",\n",
      "            \"status_date\": \"2021-10-06\",\n",
      "            \"mileage\": 106\n",
      "        },\n",
      "        \"is_leasing\": false,\n",
      "        \"leasing_from\": null,\n",
      "        \"leasing_to\": null\n",
      "    }\n",
      "]\n"
     ]
    }
   ],
   "source": [
    "conn = http.client.HTTPSConnection(\"v1.motorapi.dk\")\n",
    "payload = ''\n",
    "headers = {\n",
    "  'X-AUTH-TOKEN': 'gq59xnw6jombh3vpiuvv0lzfh8h7df36'\n",
    "}\n",
    "conn.request(\"GET\", link , payload, headers) #We add the link to automate the process of connecting the car plate number with the API\n",
    "res = conn.getresponse()\n",
    "data = res.read()\n",
    "print(data.decode(\"utf-8\"))"
   ]
  },
  {
   "cell_type": "markdown",
   "metadata": {},
   "source": [
    "## Transforming API-output to JSON"
   ]
  },
  {
   "cell_type": "code",
   "execution_count": 33,
   "metadata": {},
   "outputs": [
    {
     "name": "stdout",
     "output_type": "stream",
     "text": [
      "[\n",
      "    {\n",
      "        \"registration_number\": \"AJ13870\",\n",
      "        \"status\": \"Registreret\",\n",
      "        \"status_date\": \"2013-10-07T10:33:46.000+02:00\",\n",
      "        \"type\": \"Personbil\",\n",
      "        \"use\": \"Privat personk\\u00f8rsel\",\n",
      "        \"first_registration\": \"2013-10-07+02:00\",\n",
      "        \"vin\": \"WDD2042021G129692\",\n",
      "        \"own_weight\": null,\n",
      "        \"cerb_weight\": 1655,\n",
      "        \"total_weight\": 2195,\n",
      "        \"axels\": 2,\n",
      "        \"pulling_axels\": 1,\n",
      "        \"seats\": 5,\n",
      "        \"coupling\": false,\n",
      "        \"trailer_maxweight_nobrakes\": 750,\n",
      "        \"trailer_maxweight_withbrakes\": 1800,\n",
      "        \"doors\": 4,\n",
      "        \"make\": \"MERCEDES-BENZ\",\n",
      "        \"model\": \"C-Klasse\",\n",
      "        \"variant\": \"220 CDI BlueEFFICIENCY T\",\n",
      "        \"model_type\": \"204 K\",\n",
      "        \"model_year\": 2013,\n",
      "        \"color\": \"Gr\\u00e5\",\n",
      "        \"chassis_type\": \"Stationcar\",\n",
      "        \"engine_cylinders\": 4,\n",
      "        \"engine_volume\": 2143,\n",
      "        \"engine_power\": 125,\n",
      "        \"fuel_type\": \"Diesel\",\n",
      "        \"registration_zipcode\": \"\",\n",
      "        \"vehicle_id\": 9000000000384590,\n",
      "        \"mot_info\": {\n",
      "            \"type\": \"PeriodiskSyn\",\n",
      "            \"date\": \"2021-10-06\",\n",
      "            \"result\": \"Godkendt\",\n",
      "            \"status\": \"Aktiv\",\n",
      "            \"status_date\": \"2021-10-06\",\n",
      "            \"mileage\": 106\n",
      "        },\n",
      "        \"is_leasing\": false,\n",
      "        \"leasing_from\": null,\n",
      "        \"leasing_to\": null\n",
      "    }\n",
      "]\n",
      "- - - - - - - - - - - - - - - - - - - - \n"
     ]
    }
   ],
   "source": [
    "my_json = data.decode('utf8').replace(\"'\", '\"')\n",
    "print(my_json)\n",
    "print('- ' * 20)\n",
    "\n",
    "# Load the JSON to a Python list & dump it back out as formatted JSON\n",
    "data = json.loads(my_json)\n",
    "s = json.dumps(data, indent=4, sort_keys=True)"
   ]
  },
  {
   "cell_type": "markdown",
   "metadata": {},
   "source": [
    "## Creating it as dictionary"
   ]
  },
  {
   "cell_type": "code",
   "execution_count": 34,
   "metadata": {},
   "outputs": [],
   "source": [
    "d1=dict(enumerate(data))"
   ]
  },
  {
   "cell_type": "markdown",
   "metadata": {},
   "source": [
    "## Returning car type"
   ]
  },
  {
   "cell_type": "code",
   "execution_count": 35,
   "metadata": {},
   "outputs": [],
   "source": [
    "car_type = (f\"{(data[0]['make'])} {(data[0]['model'])} {(data[0]['first_registration'])}\")"
   ]
  },
  {
   "cell_type": "markdown",
   "metadata": {},
   "source": [
    "## Car year"
   ]
  },
  {
   "cell_type": "code",
   "execution_count": 36,
   "metadata": {},
   "outputs": [],
   "source": [
    "car_year = data[0]['first_registration']\n",
    "car_year2 = car_year[:4]\n",
    "car_year = car_year2"
   ]
  },
  {
   "cell_type": "markdown",
   "metadata": {},
   "source": [
    "## Final car type for database"
   ]
  },
  {
   "cell_type": "code",
   "execution_count": 37,
   "metadata": {},
   "outputs": [
    {
     "name": "stdout",
     "output_type": "stream",
     "text": [
      "mercedes-benz c-klasse 2013\n"
     ]
    }
   ],
   "source": [
    "car_type = (f\"{(data[0]['make'])} {(data[0]['model'])} {car_year}\")\n",
    "car_type = car_type.lower()\n",
    "print(car_type)"
   ]
  },
  {
   "cell_type": "markdown",
   "metadata": {},
   "source": [
    "# Dataset/database"
   ]
  },
  {
   "cell_type": "markdown",
   "metadata": {},
   "source": [
    "## Load the dataset"
   ]
  },
  {
   "cell_type": "code",
   "execution_count": 43,
   "metadata": {},
   "outputs": [],
   "source": [
    "cars_meta = loadmat('devkit/cars_meta.mat')\n",
    "cars_annos = loadmat('devkit/cars_train_annos.mat')"
   ]
  },
  {
   "cell_type": "markdown",
   "metadata": {},
   "source": [
    "## Creating labels"
   ]
  },
  {
   "cell_type": "code",
   "execution_count": 44,
   "metadata": {},
   "outputs": [
    {
     "data": {
      "text/html": [
       "<div>\n",
       "<style scoped>\n",
       "    .dataframe tbody tr th:only-of-type {\n",
       "        vertical-align: middle;\n",
       "    }\n",
       "\n",
       "    .dataframe tbody tr th {\n",
       "        vertical-align: top;\n",
       "    }\n",
       "\n",
       "    .dataframe thead th {\n",
       "        text-align: right;\n",
       "    }\n",
       "</style>\n",
       "<table border=\"1\" class=\"dataframe\">\n",
       "  <thead>\n",
       "    <tr style=\"text-align: right;\">\n",
       "      <th></th>\n",
       "      <th>labels</th>\n",
       "    </tr>\n",
       "  </thead>\n",
       "  <tbody>\n",
       "    <tr>\n",
       "      <th>0</th>\n",
       "      <td>AM General Hummer SUV 2000</td>\n",
       "    </tr>\n",
       "    <tr>\n",
       "      <th>1</th>\n",
       "      <td>Acura RL Sedan 2012</td>\n",
       "    </tr>\n",
       "    <tr>\n",
       "      <th>2</th>\n",
       "      <td>Acura TL Sedan 2012</td>\n",
       "    </tr>\n",
       "    <tr>\n",
       "      <th>3</th>\n",
       "      <td>Acura TL Type-S 2008</td>\n",
       "    </tr>\n",
       "    <tr>\n",
       "      <th>4</th>\n",
       "      <td>Acura TSX Sedan 2012</td>\n",
       "    </tr>\n",
       "  </tbody>\n",
       "</table>\n",
       "</div>"
      ],
      "text/plain": [
       "                       labels\n",
       "0  AM General Hummer SUV 2000\n",
       "1         Acura RL Sedan 2012\n",
       "2         Acura TL Sedan 2012\n",
       "3        Acura TL Type-S 2008\n",
       "4        Acura TSX Sedan 2012"
      ]
     },
     "execution_count": 44,
     "metadata": {},
     "output_type": "execute_result"
    }
   ],
   "source": [
    "labels = [column for column in cars_meta['class_names'][0]]\n",
    "labels = pd.DataFrame(labels, columns=['labels'])\n",
    "labels.head()"
   ]
  },
  {
   "cell_type": "markdown",
   "metadata": {},
   "source": [
    "Checking how many classes are in the dataset"
   ]
  },
  {
   "cell_type": "code",
   "execution_count": 45,
   "metadata": {},
   "outputs": [
    {
     "data": {
      "text/plain": [
       "196"
      ]
     },
     "execution_count": 45,
     "metadata": {},
     "output_type": "execute_result"
    }
   ],
   "source": [
    "len(labels)"
   ]
  },
  {
   "cell_type": "markdown",
   "metadata": {},
   "source": [
    "How is df structured?"
   ]
  },
  {
   "cell_type": "code",
   "execution_count": 46,
   "metadata": {},
   "outputs": [
    {
     "data": {
      "text/plain": [
       "array([[(array([[39]], dtype=uint8), array([[116]], dtype=uint8), array([[569]], dtype=uint16), array([[375]], dtype=uint16), array([[14]], dtype=uint8), array(['00001.jpg'], dtype='<U9')),\n",
       "        (array([[36]], dtype=uint8), array([[116]], dtype=uint8), array([[868]], dtype=uint16), array([[587]], dtype=uint16), array([[3]], dtype=uint8), array(['00002.jpg'], dtype='<U9')),\n",
       "        (array([[85]], dtype=uint8), array([[109]], dtype=uint8), array([[601]], dtype=uint16), array([[381]], dtype=uint16), array([[91]], dtype=uint8), array(['00003.jpg'], dtype='<U9')),\n",
       "        ...,\n",
       "        (array([[26]], dtype=uint8), array([[246]], dtype=uint8), array([[660]], dtype=uint16), array([[449]], dtype=uint16), array([[163]], dtype=uint8), array(['08142.jpg'], dtype='<U9')),\n",
       "        (array([[78]], dtype=uint8), array([[526]], dtype=uint16), array([[1489]], dtype=uint16), array([[908]], dtype=uint16), array([[112]], dtype=uint8), array(['08143.jpg'], dtype='<U9')),\n",
       "        (array([[20]], dtype=uint8), array([[240]], dtype=uint8), array([[862]], dtype=uint16), array([[677]], dtype=uint16), array([[17]], dtype=uint8), array(['08144.jpg'], dtype='<U9'))]],\n",
       "      dtype=[('bbox_x1', 'O'), ('bbox_y1', 'O'), ('bbox_x2', 'O'), ('bbox_y2', 'O'), ('class', 'O'), ('fname', 'O')])"
      ]
     },
     "execution_count": 46,
     "metadata": {},
     "output_type": "execute_result"
    }
   ],
   "source": [
    "cars_annos['annotations']"
   ]
  },
  {
   "cell_type": "markdown",
   "metadata": {},
   "source": [
    "## Creating a df"
   ]
  },
  {
   "cell_type": "code",
   "execution_count": 47,
   "metadata": {},
   "outputs": [
    {
     "data": {
      "text/html": [
       "<div>\n",
       "<style scoped>\n",
       "    .dataframe tbody tr th:only-of-type {\n",
       "        vertical-align: middle;\n",
       "    }\n",
       "\n",
       "    .dataframe tbody tr th {\n",
       "        vertical-align: top;\n",
       "    }\n",
       "\n",
       "    .dataframe thead th {\n",
       "        text-align: right;\n",
       "    }\n",
       "</style>\n",
       "<table border=\"1\" class=\"dataframe\">\n",
       "  <thead>\n",
       "    <tr style=\"text-align: right;\">\n",
       "      <th></th>\n",
       "      <th>fnames</th>\n",
       "      <th>bbox_x1</th>\n",
       "      <th>bbox_x2</th>\n",
       "      <th>bbox_y1</th>\n",
       "      <th>bbox_y2</th>\n",
       "      <th>car_class</th>\n",
       "    </tr>\n",
       "  </thead>\n",
       "  <tbody>\n",
       "    <tr>\n",
       "      <th>0</th>\n",
       "      <td>00001.jpg</td>\n",
       "      <td>39</td>\n",
       "      <td>569</td>\n",
       "      <td>116</td>\n",
       "      <td>375</td>\n",
       "      <td>14</td>\n",
       "    </tr>\n",
       "    <tr>\n",
       "      <th>1</th>\n",
       "      <td>00002.jpg</td>\n",
       "      <td>36</td>\n",
       "      <td>868</td>\n",
       "      <td>116</td>\n",
       "      <td>587</td>\n",
       "      <td>3</td>\n",
       "    </tr>\n",
       "    <tr>\n",
       "      <th>2</th>\n",
       "      <td>00003.jpg</td>\n",
       "      <td>85</td>\n",
       "      <td>601</td>\n",
       "      <td>109</td>\n",
       "      <td>381</td>\n",
       "      <td>91</td>\n",
       "    </tr>\n",
       "    <tr>\n",
       "      <th>3</th>\n",
       "      <td>00004.jpg</td>\n",
       "      <td>621</td>\n",
       "      <td>1484</td>\n",
       "      <td>393</td>\n",
       "      <td>1096</td>\n",
       "      <td>134</td>\n",
       "    </tr>\n",
       "    <tr>\n",
       "      <th>4</th>\n",
       "      <td>00005.jpg</td>\n",
       "      <td>14</td>\n",
       "      <td>133</td>\n",
       "      <td>36</td>\n",
       "      <td>99</td>\n",
       "      <td>106</td>\n",
       "    </tr>\n",
       "    <tr>\n",
       "      <th>...</th>\n",
       "      <td>...</td>\n",
       "      <td>...</td>\n",
       "      <td>...</td>\n",
       "      <td>...</td>\n",
       "      <td>...</td>\n",
       "      <td>...</td>\n",
       "    </tr>\n",
       "    <tr>\n",
       "      <th>8139</th>\n",
       "      <td>08140.jpg</td>\n",
       "      <td>3</td>\n",
       "      <td>423</td>\n",
       "      <td>44</td>\n",
       "      <td>336</td>\n",
       "      <td>78</td>\n",
       "    </tr>\n",
       "    <tr>\n",
       "      <th>8140</th>\n",
       "      <td>08141.jpg</td>\n",
       "      <td>138</td>\n",
       "      <td>706</td>\n",
       "      <td>150</td>\n",
       "      <td>523</td>\n",
       "      <td>196</td>\n",
       "    </tr>\n",
       "    <tr>\n",
       "      <th>8141</th>\n",
       "      <td>08142.jpg</td>\n",
       "      <td>26</td>\n",
       "      <td>660</td>\n",
       "      <td>246</td>\n",
       "      <td>449</td>\n",
       "      <td>163</td>\n",
       "    </tr>\n",
       "    <tr>\n",
       "      <th>8142</th>\n",
       "      <td>08143.jpg</td>\n",
       "      <td>78</td>\n",
       "      <td>1489</td>\n",
       "      <td>526</td>\n",
       "      <td>908</td>\n",
       "      <td>112</td>\n",
       "    </tr>\n",
       "    <tr>\n",
       "      <th>8143</th>\n",
       "      <td>08144.jpg</td>\n",
       "      <td>20</td>\n",
       "      <td>862</td>\n",
       "      <td>240</td>\n",
       "      <td>677</td>\n",
       "      <td>17</td>\n",
       "    </tr>\n",
       "  </tbody>\n",
       "</table>\n",
       "<p>8144 rows × 6 columns</p>\n",
       "</div>"
      ],
      "text/plain": [
       "         fnames  bbox_x1  bbox_x2  bbox_y1  bbox_y2  car_class\n",
       "0     00001.jpg       39      569      116      375         14\n",
       "1     00002.jpg       36      868      116      587          3\n",
       "2     00003.jpg       85      601      109      381         91\n",
       "3     00004.jpg      621     1484      393     1096        134\n",
       "4     00005.jpg       14      133       36       99        106\n",
       "...         ...      ...      ...      ...      ...        ...\n",
       "8139  08140.jpg        3      423       44      336         78\n",
       "8140  08141.jpg      138      706      150      523        196\n",
       "8141  08142.jpg       26      660      246      449        163\n",
       "8142  08143.jpg       78     1489      526      908        112\n",
       "8143  08144.jpg       20      862      240      677         17\n",
       "\n",
       "[8144 rows x 6 columns]"
      ]
     },
     "execution_count": 47,
     "metadata": {},
     "output_type": "execute_result"
    }
   ],
   "source": [
    "annotations = cars_annos['annotations']\n",
    "annotations = np.transpose(annotations)\n",
    "\n",
    "fnames = []\n",
    "bboxes = []\n",
    "\n",
    "for annotation in annotations:\n",
    "    bbox_x1 = annotation[0][0][0][0]\n",
    "    bbox_y1 = annotation[0][1][0][0]\n",
    "    bbox_x2 = annotation[0][2][0][0]\n",
    "    bbox_y2 = annotation[0][3][0][0]\n",
    "    fname = annotation[0][5][0]\n",
    "    car_class = annotation[0][4][0]\n",
    "    bboxes.append((fname,bbox_x1, bbox_x2, bbox_y1, bbox_y2, int(list(car_class)[0])))\n",
    "    \n",
    "    \n",
    "df = pd.DataFrame(bboxes, columns = ['fnames','bbox_x1', 'bbox_x2', 'bbox_y1', 'bbox_y2','car_class'])\n",
    "\n",
    "df"
   ]
  },
  {
   "cell_type": "markdown",
   "metadata": {},
   "source": [
    "Merging labels"
   ]
  },
  {
   "cell_type": "code",
   "execution_count": 48,
   "metadata": {},
   "outputs": [
    {
     "data": {
      "text/html": [
       "<div>\n",
       "<style scoped>\n",
       "    .dataframe tbody tr th:only-of-type {\n",
       "        vertical-align: middle;\n",
       "    }\n",
       "\n",
       "    .dataframe tbody tr th {\n",
       "        vertical-align: top;\n",
       "    }\n",
       "\n",
       "    .dataframe thead th {\n",
       "        text-align: right;\n",
       "    }\n",
       "</style>\n",
       "<table border=\"1\" class=\"dataframe\">\n",
       "  <thead>\n",
       "    <tr style=\"text-align: right;\">\n",
       "      <th></th>\n",
       "      <th>fnames</th>\n",
       "      <th>bbox_x1</th>\n",
       "      <th>bbox_x2</th>\n",
       "      <th>bbox_y1</th>\n",
       "      <th>bbox_y2</th>\n",
       "      <th>car_class</th>\n",
       "      <th>labels</th>\n",
       "    </tr>\n",
       "  </thead>\n",
       "  <tbody>\n",
       "    <tr>\n",
       "      <th>0</th>\n",
       "      <td>00001.jpg</td>\n",
       "      <td>39</td>\n",
       "      <td>569</td>\n",
       "      <td>116</td>\n",
       "      <td>375</td>\n",
       "      <td>14</td>\n",
       "      <td>Audi R8 Coupe 2012</td>\n",
       "    </tr>\n",
       "    <tr>\n",
       "      <th>1</th>\n",
       "      <td>00002.jpg</td>\n",
       "      <td>36</td>\n",
       "      <td>868</td>\n",
       "      <td>116</td>\n",
       "      <td>587</td>\n",
       "      <td>3</td>\n",
       "      <td>Acura TL Type-S 2008</td>\n",
       "    </tr>\n",
       "    <tr>\n",
       "      <th>2</th>\n",
       "      <td>00003.jpg</td>\n",
       "      <td>85</td>\n",
       "      <td>601</td>\n",
       "      <td>109</td>\n",
       "      <td>381</td>\n",
       "      <td>91</td>\n",
       "      <td>Dodge Magnum Wagon 2008</td>\n",
       "    </tr>\n",
       "    <tr>\n",
       "      <th>3</th>\n",
       "      <td>00004.jpg</td>\n",
       "      <td>621</td>\n",
       "      <td>1484</td>\n",
       "      <td>393</td>\n",
       "      <td>1096</td>\n",
       "      <td>134</td>\n",
       "      <td>Hyundai Elantra Sedan 2007</td>\n",
       "    </tr>\n",
       "    <tr>\n",
       "      <th>4</th>\n",
       "      <td>00005.jpg</td>\n",
       "      <td>14</td>\n",
       "      <td>133</td>\n",
       "      <td>36</td>\n",
       "      <td>99</td>\n",
       "      <td>106</td>\n",
       "      <td>Ford Mustang Convertible 2007</td>\n",
       "    </tr>\n",
       "    <tr>\n",
       "      <th>...</th>\n",
       "      <td>...</td>\n",
       "      <td>...</td>\n",
       "      <td>...</td>\n",
       "      <td>...</td>\n",
       "      <td>...</td>\n",
       "      <td>...</td>\n",
       "      <td>...</td>\n",
       "    </tr>\n",
       "    <tr>\n",
       "      <th>8138</th>\n",
       "      <td>08139.jpg</td>\n",
       "      <td>117</td>\n",
       "      <td>583</td>\n",
       "      <td>84</td>\n",
       "      <td>403</td>\n",
       "      <td>188</td>\n",
       "      <td>Toyota 4Runner SUV 2012</td>\n",
       "    </tr>\n",
       "    <tr>\n",
       "      <th>8139</th>\n",
       "      <td>08140.jpg</td>\n",
       "      <td>3</td>\n",
       "      <td>423</td>\n",
       "      <td>44</td>\n",
       "      <td>336</td>\n",
       "      <td>78</td>\n",
       "      <td>Chrysler 300 SRT-8 2010</td>\n",
       "    </tr>\n",
       "    <tr>\n",
       "      <th>8141</th>\n",
       "      <td>08142.jpg</td>\n",
       "      <td>26</td>\n",
       "      <td>660</td>\n",
       "      <td>246</td>\n",
       "      <td>449</td>\n",
       "      <td>163</td>\n",
       "      <td>Mercedes-Benz E-Class Sedan 2012</td>\n",
       "    </tr>\n",
       "    <tr>\n",
       "      <th>8142</th>\n",
       "      <td>08143.jpg</td>\n",
       "      <td>78</td>\n",
       "      <td>1489</td>\n",
       "      <td>526</td>\n",
       "      <td>908</td>\n",
       "      <td>112</td>\n",
       "      <td>Ford F-150 Regular Cab 2012</td>\n",
       "    </tr>\n",
       "    <tr>\n",
       "      <th>8143</th>\n",
       "      <td>08144.jpg</td>\n",
       "      <td>20</td>\n",
       "      <td>862</td>\n",
       "      <td>240</td>\n",
       "      <td>677</td>\n",
       "      <td>17</td>\n",
       "      <td>Audi 100 Wagon 1994</td>\n",
       "    </tr>\n",
       "  </tbody>\n",
       "</table>\n",
       "<p>8104 rows × 7 columns</p>\n",
       "</div>"
      ],
      "text/plain": [
       "         fnames  bbox_x1  bbox_x2  bbox_y1  bbox_y2  car_class  \\\n",
       "0     00001.jpg       39      569      116      375         14   \n",
       "1     00002.jpg       36      868      116      587          3   \n",
       "2     00003.jpg       85      601      109      381         91   \n",
       "3     00004.jpg      621     1484      393     1096        134   \n",
       "4     00005.jpg       14      133       36       99        106   \n",
       "...         ...      ...      ...      ...      ...        ...   \n",
       "8138  08139.jpg      117      583       84      403        188   \n",
       "8139  08140.jpg        3      423       44      336         78   \n",
       "8141  08142.jpg       26      660      246      449        163   \n",
       "8142  08143.jpg       78     1489      526      908        112   \n",
       "8143  08144.jpg       20      862      240      677         17   \n",
       "\n",
       "                                labels  \n",
       "0                   Audi R8 Coupe 2012  \n",
       "1                 Acura TL Type-S 2008  \n",
       "2              Dodge Magnum Wagon 2008  \n",
       "3           Hyundai Elantra Sedan 2007  \n",
       "4        Ford Mustang Convertible 2007  \n",
       "...                                ...  \n",
       "8138           Toyota 4Runner SUV 2012  \n",
       "8139           Chrysler 300 SRT-8 2010  \n",
       "8141  Mercedes-Benz E-Class Sedan 2012  \n",
       "8142       Ford F-150 Regular Cab 2012  \n",
       "8143               Audi 100 Wagon 1994  \n",
       "\n",
       "[8104 rows x 7 columns]"
      ]
     },
     "execution_count": 48,
     "metadata": {},
     "output_type": "execute_result"
    }
   ],
   "source": [
    "df = df.merge(labels, left_on='car_class', right_index=True)\n",
    "df = df.sort_index() \n",
    "df"
   ]
  },
  {
   "cell_type": "markdown",
   "metadata": {},
   "source": [
    "## DF Stringency\n",
    "\n",
    "As the functions are case sensitive, and the API may return results with a different upper or lower case, we've decided to change the labels column to only contain lower case letters, which is the same in the API data\n",
    "\n",
    "Apart from this, we have seperated the car classes into 4 new columns, namely: brand, model, type and year. This is done as it will be easier to deal with the individual parts when analysing the data. "
   ]
  },
  {
   "cell_type": "code",
   "execution_count": 49,
   "metadata": {},
   "outputs": [
    {
     "data": {
      "text/html": [
       "<div>\n",
       "<style scoped>\n",
       "    .dataframe tbody tr th:only-of-type {\n",
       "        vertical-align: middle;\n",
       "    }\n",
       "\n",
       "    .dataframe tbody tr th {\n",
       "        vertical-align: top;\n",
       "    }\n",
       "\n",
       "    .dataframe thead th {\n",
       "        text-align: right;\n",
       "    }\n",
       "</style>\n",
       "<table border=\"1\" class=\"dataframe\">\n",
       "  <thead>\n",
       "    <tr style=\"text-align: right;\">\n",
       "      <th></th>\n",
       "      <th>fnames</th>\n",
       "      <th>bbox_x1</th>\n",
       "      <th>bbox_x2</th>\n",
       "      <th>bbox_y1</th>\n",
       "      <th>bbox_y2</th>\n",
       "      <th>car_class</th>\n",
       "      <th>labels</th>\n",
       "      <th>labels_noyear</th>\n",
       "      <th>brand</th>\n",
       "      <th>model</th>\n",
       "      <th>type</th>\n",
       "      <th>year</th>\n",
       "      <th>labels_notype</th>\n",
       "    </tr>\n",
       "  </thead>\n",
       "  <tbody>\n",
       "    <tr>\n",
       "      <th>0</th>\n",
       "      <td>00001.jpg</td>\n",
       "      <td>39</td>\n",
       "      <td>569</td>\n",
       "      <td>116</td>\n",
       "      <td>375</td>\n",
       "      <td>14</td>\n",
       "      <td>audi r8 coupe 2012</td>\n",
       "      <td>audi r8 coupe</td>\n",
       "      <td>audi</td>\n",
       "      <td>r8</td>\n",
       "      <td>coupe</td>\n",
       "      <td>2012</td>\n",
       "      <td>audi r8 2012</td>\n",
       "    </tr>\n",
       "    <tr>\n",
       "      <th>1</th>\n",
       "      <td>00002.jpg</td>\n",
       "      <td>36</td>\n",
       "      <td>868</td>\n",
       "      <td>116</td>\n",
       "      <td>587</td>\n",
       "      <td>3</td>\n",
       "      <td>acura tl type-s 2008</td>\n",
       "      <td>acura tl type-s</td>\n",
       "      <td>acura</td>\n",
       "      <td>tl</td>\n",
       "      <td>type-s</td>\n",
       "      <td>2008</td>\n",
       "      <td>acura tl 2008</td>\n",
       "    </tr>\n",
       "    <tr>\n",
       "      <th>2</th>\n",
       "      <td>00003.jpg</td>\n",
       "      <td>85</td>\n",
       "      <td>601</td>\n",
       "      <td>109</td>\n",
       "      <td>381</td>\n",
       "      <td>91</td>\n",
       "      <td>dodge magnum wagon 2008</td>\n",
       "      <td>dodge magnum wagon</td>\n",
       "      <td>dodge</td>\n",
       "      <td>magnum</td>\n",
       "      <td>wagon</td>\n",
       "      <td>2008</td>\n",
       "      <td>dodge magnum 2008</td>\n",
       "    </tr>\n",
       "    <tr>\n",
       "      <th>3</th>\n",
       "      <td>00004.jpg</td>\n",
       "      <td>621</td>\n",
       "      <td>1484</td>\n",
       "      <td>393</td>\n",
       "      <td>1096</td>\n",
       "      <td>134</td>\n",
       "      <td>hyundai elantra sedan 2007</td>\n",
       "      <td>hyundai elantra sedan</td>\n",
       "      <td>hyundai</td>\n",
       "      <td>elantra</td>\n",
       "      <td>sedan</td>\n",
       "      <td>2007</td>\n",
       "      <td>hyundai elantra 2007</td>\n",
       "    </tr>\n",
       "    <tr>\n",
       "      <th>4</th>\n",
       "      <td>00005.jpg</td>\n",
       "      <td>14</td>\n",
       "      <td>133</td>\n",
       "      <td>36</td>\n",
       "      <td>99</td>\n",
       "      <td>106</td>\n",
       "      <td>ford mustang convertible 2007</td>\n",
       "      <td>ford mustang convertible</td>\n",
       "      <td>ford</td>\n",
       "      <td>mustang</td>\n",
       "      <td>convertible</td>\n",
       "      <td>2007</td>\n",
       "      <td>ford mustang 2007</td>\n",
       "    </tr>\n",
       "    <tr>\n",
       "      <th>...</th>\n",
       "      <td>...</td>\n",
       "      <td>...</td>\n",
       "      <td>...</td>\n",
       "      <td>...</td>\n",
       "      <td>...</td>\n",
       "      <td>...</td>\n",
       "      <td>...</td>\n",
       "      <td>...</td>\n",
       "      <td>...</td>\n",
       "      <td>...</td>\n",
       "      <td>...</td>\n",
       "      <td>...</td>\n",
       "      <td>...</td>\n",
       "    </tr>\n",
       "    <tr>\n",
       "      <th>8138</th>\n",
       "      <td>08139.jpg</td>\n",
       "      <td>117</td>\n",
       "      <td>583</td>\n",
       "      <td>84</td>\n",
       "      <td>403</td>\n",
       "      <td>188</td>\n",
       "      <td>toyota 4runner suv 2012</td>\n",
       "      <td>toyota 4runner suv</td>\n",
       "      <td>toyota</td>\n",
       "      <td>4runner</td>\n",
       "      <td>suv</td>\n",
       "      <td>2012</td>\n",
       "      <td>toyota 4runner 2012</td>\n",
       "    </tr>\n",
       "    <tr>\n",
       "      <th>8139</th>\n",
       "      <td>08140.jpg</td>\n",
       "      <td>3</td>\n",
       "      <td>423</td>\n",
       "      <td>44</td>\n",
       "      <td>336</td>\n",
       "      <td>78</td>\n",
       "      <td>chrysler 300 srt-8 2010</td>\n",
       "      <td>chrysler 300 srt-8</td>\n",
       "      <td>chrysler</td>\n",
       "      <td>300</td>\n",
       "      <td>srt-8</td>\n",
       "      <td>2010</td>\n",
       "      <td>chrysler 300 2010</td>\n",
       "    </tr>\n",
       "    <tr>\n",
       "      <th>8141</th>\n",
       "      <td>08142.jpg</td>\n",
       "      <td>26</td>\n",
       "      <td>660</td>\n",
       "      <td>246</td>\n",
       "      <td>449</td>\n",
       "      <td>163</td>\n",
       "      <td>mercedes-benz e-class sedan 2012</td>\n",
       "      <td>mercedes-benz e-class sedan</td>\n",
       "      <td>mercedes-benz</td>\n",
       "      <td>e-class</td>\n",
       "      <td>sedan</td>\n",
       "      <td>2012</td>\n",
       "      <td>mercedes-benz e-class 2012</td>\n",
       "    </tr>\n",
       "    <tr>\n",
       "      <th>8142</th>\n",
       "      <td>08143.jpg</td>\n",
       "      <td>78</td>\n",
       "      <td>1489</td>\n",
       "      <td>526</td>\n",
       "      <td>908</td>\n",
       "      <td>112</td>\n",
       "      <td>ford f-150 regular cab 2012</td>\n",
       "      <td>ford f-150 regular cab</td>\n",
       "      <td>ford</td>\n",
       "      <td>f-150 regular</td>\n",
       "      <td>cab</td>\n",
       "      <td>2012</td>\n",
       "      <td>ford f-150 regular 2012</td>\n",
       "    </tr>\n",
       "    <tr>\n",
       "      <th>8143</th>\n",
       "      <td>08144.jpg</td>\n",
       "      <td>20</td>\n",
       "      <td>862</td>\n",
       "      <td>240</td>\n",
       "      <td>677</td>\n",
       "      <td>17</td>\n",
       "      <td>audi 100 wagon 1994</td>\n",
       "      <td>audi 100 wagon</td>\n",
       "      <td>audi</td>\n",
       "      <td>100</td>\n",
       "      <td>wagon</td>\n",
       "      <td>1994</td>\n",
       "      <td>audi 100 1994</td>\n",
       "    </tr>\n",
       "  </tbody>\n",
       "</table>\n",
       "<p>8104 rows × 13 columns</p>\n",
       "</div>"
      ],
      "text/plain": [
       "         fnames  bbox_x1  bbox_x2  bbox_y1  bbox_y2  car_class  \\\n",
       "0     00001.jpg       39      569      116      375         14   \n",
       "1     00002.jpg       36      868      116      587          3   \n",
       "2     00003.jpg       85      601      109      381         91   \n",
       "3     00004.jpg      621     1484      393     1096        134   \n",
       "4     00005.jpg       14      133       36       99        106   \n",
       "...         ...      ...      ...      ...      ...        ...   \n",
       "8138  08139.jpg      117      583       84      403        188   \n",
       "8139  08140.jpg        3      423       44      336         78   \n",
       "8141  08142.jpg       26      660      246      449        163   \n",
       "8142  08143.jpg       78     1489      526      908        112   \n",
       "8143  08144.jpg       20      862      240      677         17   \n",
       "\n",
       "                                labels                labels_noyear  \\\n",
       "0                   audi r8 coupe 2012                audi r8 coupe   \n",
       "1                 acura tl type-s 2008              acura tl type-s   \n",
       "2              dodge magnum wagon 2008           dodge magnum wagon   \n",
       "3           hyundai elantra sedan 2007        hyundai elantra sedan   \n",
       "4        ford mustang convertible 2007     ford mustang convertible   \n",
       "...                                ...                          ...   \n",
       "8138           toyota 4runner suv 2012           toyota 4runner suv   \n",
       "8139           chrysler 300 srt-8 2010           chrysler 300 srt-8   \n",
       "8141  mercedes-benz e-class sedan 2012  mercedes-benz e-class sedan   \n",
       "8142       ford f-150 regular cab 2012       ford f-150 regular cab   \n",
       "8143               audi 100 wagon 1994               audi 100 wagon   \n",
       "\n",
       "              brand          model         type  year  \\\n",
       "0              audi             r8        coupe  2012   \n",
       "1             acura             tl       type-s  2008   \n",
       "2             dodge         magnum        wagon  2008   \n",
       "3           hyundai        elantra        sedan  2007   \n",
       "4              ford        mustang  convertible  2007   \n",
       "...             ...            ...          ...   ...   \n",
       "8138         toyota        4runner          suv  2012   \n",
       "8139       chrysler            300        srt-8  2010   \n",
       "8141  mercedes-benz        e-class        sedan  2012   \n",
       "8142           ford  f-150 regular          cab  2012   \n",
       "8143           audi            100        wagon  1994   \n",
       "\n",
       "                   labels_notype  \n",
       "0                   audi r8 2012  \n",
       "1                  acura tl 2008  \n",
       "2              dodge magnum 2008  \n",
       "3           hyundai elantra 2007  \n",
       "4              ford mustang 2007  \n",
       "...                          ...  \n",
       "8138         toyota 4runner 2012  \n",
       "8139           chrysler 300 2010  \n",
       "8141  mercedes-benz e-class 2012  \n",
       "8142     ford f-150 regular 2012  \n",
       "8143               audi 100 1994  \n",
       "\n",
       "[8104 rows x 13 columns]"
      ]
     },
     "execution_count": 49,
     "metadata": {},
     "output_type": "execute_result"
    }
   ],
   "source": [
    "df['labels'] = df['labels'].str.lower()\n",
    "df['labels_noyear'] = df['labels'].str.split().str[0:-1].apply(lambda x: ' '.join(map(str, x)))\n",
    "df['brand'] = df['labels'].str.split().str[0]\n",
    "df['model'] = df['labels'].str.split().str[1:-2].apply(lambda x: ' '.join(map(str, x)))\n",
    "df['type'] = df['labels'].str.split().str[-2]\n",
    "df['year'] = df['labels'].str.split().str[-1]\n",
    "df[\"labels_notype\"] = df['brand'] +\" \"+ df[\"model\"] + \" \" + df['year']\n",
    "df"
   ]
  },
  {
   "cell_type": "markdown",
   "metadata": {},
   "source": [
    "## DF EDA"
   ]
  },
  {
   "cell_type": "markdown",
   "metadata": {},
   "source": [
    "### Null values"
   ]
  },
  {
   "cell_type": "code",
   "execution_count": 51,
   "metadata": {},
   "outputs": [
    {
     "data": {
      "text/plain": [
       "fnames           0\n",
       "bbox_x1          0\n",
       "bbox_x2          0\n",
       "bbox_y1          0\n",
       "bbox_y2          0\n",
       "car_class        0\n",
       "labels           0\n",
       "labels_noyear    0\n",
       "brand            0\n",
       "model            0\n",
       "type             0\n",
       "year             0\n",
       "labels_notype    0\n",
       "dtype: int64"
      ]
     },
     "execution_count": 51,
     "metadata": {},
     "output_type": "execute_result"
    }
   ],
   "source": [
    "df.isnull().sum()"
   ]
  },
  {
   "cell_type": "markdown",
   "metadata": {},
   "source": [
    "### DF Info"
   ]
  },
  {
   "cell_type": "code",
   "execution_count": 52,
   "metadata": {},
   "outputs": [
    {
     "name": "stdout",
     "output_type": "stream",
     "text": [
      "<class 'pandas.core.frame.DataFrame'>\n",
      "Int64Index: 8104 entries, 0 to 8143\n",
      "Data columns (total 13 columns):\n",
      " #   Column         Non-Null Count  Dtype \n",
      "---  ------         --------------  ----- \n",
      " 0   fnames         8104 non-null   object\n",
      " 1   bbox_x1        8104 non-null   uint16\n",
      " 2   bbox_x2        8104 non-null   uint16\n",
      " 3   bbox_y1        8104 non-null   uint16\n",
      " 4   bbox_y2        8104 non-null   uint16\n",
      " 5   car_class      8104 non-null   int64 \n",
      " 6   labels         8104 non-null   object\n",
      " 7   labels_noyear  8104 non-null   object\n",
      " 8   brand          8104 non-null   object\n",
      " 9   model          8104 non-null   object\n",
      " 10  type           8104 non-null   object\n",
      " 11  year           8104 non-null   object\n",
      " 12  labels_notype  8104 non-null   object\n",
      "dtypes: int64(1), object(8), uint16(4)\n",
      "memory usage: 696.4+ KB\n"
     ]
    }
   ],
   "source": [
    "df.info()"
   ]
  },
  {
   "cell_type": "markdown",
   "metadata": {},
   "source": [
    "### Frequency labels - how many of difference car classes are there?"
   ]
  },
  {
   "cell_type": "code",
   "execution_count": 53,
   "metadata": {},
   "outputs": [
    {
     "data": {
      "text/html": [
       "<div>\n",
       "<style scoped>\n",
       "    .dataframe tbody tr th:only-of-type {\n",
       "        vertical-align: middle;\n",
       "    }\n",
       "\n",
       "    .dataframe tbody tr th {\n",
       "        vertical-align: top;\n",
       "    }\n",
       "\n",
       "    .dataframe thead th {\n",
       "        text-align: right;\n",
       "    }\n",
       "</style>\n",
       "<table border=\"1\" class=\"dataframe\">\n",
       "  <thead>\n",
       "    <tr style=\"text-align: right;\">\n",
       "      <th></th>\n",
       "      <th>count</th>\n",
       "    </tr>\n",
       "    <tr>\n",
       "      <th>labels</th>\n",
       "      <th></th>\n",
       "    </tr>\n",
       "  </thead>\n",
       "  <tbody>\n",
       "    <tr>\n",
       "      <th>gmc yukon hybrid suv 2012</th>\n",
       "      <td>68</td>\n",
       "    </tr>\n",
       "    <tr>\n",
       "      <th>chrysler crossfire convertible 2008</th>\n",
       "      <td>49</td>\n",
       "    </tr>\n",
       "    <tr>\n",
       "      <th>nissan leaf hatchback 2012</th>\n",
       "      <td>48</td>\n",
       "    </tr>\n",
       "    <tr>\n",
       "      <th>mercedes-benz c-class sedan 2012</th>\n",
       "      <td>48</td>\n",
       "    </tr>\n",
       "    <tr>\n",
       "      <th>chevrolet corvette ron fellows edition z06 2007</th>\n",
       "      <td>47</td>\n",
       "    </tr>\n",
       "  </tbody>\n",
       "</table>\n",
       "</div>"
      ],
      "text/plain": [
       "                                                 count\n",
       "labels                                                \n",
       "gmc yukon hybrid suv 2012                           68\n",
       "chrysler crossfire convertible 2008                 49\n",
       "nissan leaf hatchback 2012                          48\n",
       "mercedes-benz c-class sedan 2012                    48\n",
       "chevrolet corvette ron fellows edition z06 2007     47"
      ]
     },
     "execution_count": 53,
     "metadata": {},
     "output_type": "execute_result"
    }
   ],
   "source": [
    "freq_labels = df.groupby('labels').count()[['car_class']]\n",
    "freq_labels = freq_labels.rename(columns={'car_class': 'count'})\n",
    "freq_labels = freq_labels.sort_values(by='count', ascending=False)\n",
    "freq_labels.head()"
   ]
  },
  {
   "cell_type": "markdown",
   "metadata": {},
   "source": [
    "### Average amount of pictures"
   ]
  },
  {
   "cell_type": "code",
   "execution_count": 54,
   "metadata": {},
   "outputs": [
    {
     "data": {
      "text/plain": [
       "41.55897435897436"
      ]
     },
     "execution_count": 54,
     "metadata": {},
     "output_type": "execute_result"
    }
   ],
   "source": [
    "freq_labels['count'].mean()"
   ]
  },
  {
   "cell_type": "markdown",
   "metadata": {},
   "source": [
    "### 50 most represented cars in DF"
   ]
  },
  {
   "cell_type": "code",
   "execution_count": 55,
   "metadata": {},
   "outputs": [
    {
     "name": "stderr",
     "output_type": "stream",
     "text": [
      "c:\\Users\\Peter\\Documents\\GitHub\\car-license-plate-recognition-clean\\.venv\\lib\\site-packages\\altair\\utils\\core.py:317: FutureWarning: iteritems is deprecated and will be removed in a future version. Use .items instead.\n",
      "  for col_name, dtype in df.dtypes.iteritems():\n"
     ]
    },
    {
     "data": {
      "text/html": [
       "\n",
       "<div id=\"altair-viz-736e6f52ca734a40877d7b379a8a3460\"></div>\n",
       "<script type=\"text/javascript\">\n",
       "  var VEGA_DEBUG = (typeof VEGA_DEBUG == \"undefined\") ? {} : VEGA_DEBUG;\n",
       "  (function(spec, embedOpt){\n",
       "    let outputDiv = document.currentScript.previousElementSibling;\n",
       "    if (outputDiv.id !== \"altair-viz-736e6f52ca734a40877d7b379a8a3460\") {\n",
       "      outputDiv = document.getElementById(\"altair-viz-736e6f52ca734a40877d7b379a8a3460\");\n",
       "    }\n",
       "    const paths = {\n",
       "      \"vega\": \"https://cdn.jsdelivr.net/npm//vega@5?noext\",\n",
       "      \"vega-lib\": \"https://cdn.jsdelivr.net/npm//vega-lib?noext\",\n",
       "      \"vega-lite\": \"https://cdn.jsdelivr.net/npm//vega-lite@4.17.0?noext\",\n",
       "      \"vega-embed\": \"https://cdn.jsdelivr.net/npm//vega-embed@6?noext\",\n",
       "    };\n",
       "\n",
       "    function maybeLoadScript(lib, version) {\n",
       "      var key = `${lib.replace(\"-\", \"\")}_version`;\n",
       "      return (VEGA_DEBUG[key] == version) ?\n",
       "        Promise.resolve(paths[lib]) :\n",
       "        new Promise(function(resolve, reject) {\n",
       "          var s = document.createElement('script');\n",
       "          document.getElementsByTagName(\"head\")[0].appendChild(s);\n",
       "          s.async = true;\n",
       "          s.onload = () => {\n",
       "            VEGA_DEBUG[key] = version;\n",
       "            return resolve(paths[lib]);\n",
       "          };\n",
       "          s.onerror = () => reject(`Error loading script: ${paths[lib]}`);\n",
       "          s.src = paths[lib];\n",
       "        });\n",
       "    }\n",
       "\n",
       "    function showError(err) {\n",
       "      outputDiv.innerHTML = `<div class=\"error\" style=\"color:red;\">${err}</div>`;\n",
       "      throw err;\n",
       "    }\n",
       "\n",
       "    function displayChart(vegaEmbed) {\n",
       "      vegaEmbed(outputDiv, spec, embedOpt)\n",
       "        .catch(err => showError(`Javascript Error: ${err.message}<br>This usually means there's a typo in your chart specification. See the javascript console for the full traceback.`));\n",
       "    }\n",
       "\n",
       "    if(typeof define === \"function\" && define.amd) {\n",
       "      requirejs.config({paths});\n",
       "      require([\"vega-embed\"], displayChart, err => showError(`Error loading script: ${err.message}`));\n",
       "    } else {\n",
       "      maybeLoadScript(\"vega\", \"5\")\n",
       "        .then(() => maybeLoadScript(\"vega-lite\", \"4.17.0\"))\n",
       "        .then(() => maybeLoadScript(\"vega-embed\", \"6\"))\n",
       "        .catch(showError)\n",
       "        .then(() => displayChart(vegaEmbed));\n",
       "    }\n",
       "  })({\"config\": {\"view\": {\"continuousWidth\": 400, \"continuousHeight\": 300}}, \"data\": {\"name\": \"data-500e56b1153b029d3aa47fa942c578ad\"}, \"mark\": \"bar\", \"encoding\": {\"tooltip\": {\"field\": \"count\", \"type\": \"quantitative\"}, \"x\": {\"axis\": {\"title\": \"Model\"}, \"field\": \"count\", \"type\": \"quantitative\"}, \"y\": {\"axis\": {\"title\": \"Count\"}, \"field\": \"labels\", \"sort\": {\"field\": \"labels\", \"op\": \"count\", \"order\": \"ascending\"}, \"type\": \"nominal\"}}, \"height\": 300, \"selection\": {\"selector001\": {\"type\": \"interval\", \"bind\": \"scales\", \"encodings\": [\"x\", \"y\"]}}, \"width\": 600, \"$schema\": \"https://vega.github.io/schema/vega-lite/v4.17.0.json\", \"datasets\": {\"data-500e56b1153b029d3aa47fa942c578ad\": [{\"labels\": \"gmc yukon hybrid suv 2012\", \"count\": 68}, {\"labels\": \"chrysler crossfire convertible 2008\", \"count\": 49}, {\"labels\": \"nissan leaf hatchback 2012\", \"count\": 48}, {\"labels\": \"mercedes-benz c-class sedan 2012\", \"count\": 48}, {\"labels\": \"chevrolet corvette ron fellows edition z06 2007\", \"count\": 47}, {\"labels\": \"jeep patriot suv 2012\", \"count\": 47}, {\"labels\": \"volvo xc90 suv 2007\", \"count\": 46}, {\"labels\": \"dodge charger sedan 2012\", \"count\": 46}, {\"labels\": \"mercedes-benz sl-class coupe 2009\", \"count\": 46}, {\"labels\": \"bentley continental flying spur sedan 2007\", \"count\": 46}, {\"labels\": \"suzuki sx4 hatchback 2012\", \"count\": 46}, {\"labels\": \"plymouth neon coupe 1999\", \"count\": 46}, {\"labels\": \"audi s5 convertible 2012\", \"count\": 46}, {\"labels\": \"volkswagen beetle hatchback 2012\", \"count\": 46}, {\"labels\": \"fiat 500 abarth 2012\", \"count\": 46}, {\"labels\": \"ford f-150 regular cab 2012\", \"count\": 46}, {\"labels\": \"dodge caliber wagon 2012\", \"count\": 45}, {\"labels\": \"ford e-series wagon van 2012\", \"count\": 45}, {\"labels\": \"gmc canyon extended cab 2012\", \"count\": 45}, {\"labels\": \"bugatti veyron 16.4 convertible 2009\", \"count\": 45}, {\"labels\": \"mercedes-benz sprinter van 2012\", \"count\": 45}, {\"labels\": \"ford freestar minivan 2007\", \"count\": 45}, {\"labels\": \"ford focus sedan 2007\", \"count\": 45}, {\"labels\": \"chevrolet cobalt ss 2010\", \"count\": 45}, {\"labels\": \"ford edge suv 2012\", \"count\": 45}, {\"labels\": \"land rover range rover suv 2012\", \"count\": 45}, {\"labels\": \"daewoo nubira wagon 2002\", \"count\": 45}, {\"labels\": \"chevrolet malibu sedan 2007\", \"count\": 45}, {\"labels\": \"chevrolet silverado 1500 extended cab 2012\", \"count\": 45}, {\"labels\": \"chevrolet silverado 1500 hybrid crew cab 2012\", \"count\": 45}]}}, {\"mode\": \"vega-lite\"});\n",
       "</script>"
      ],
      "text/plain": [
       "alt.Chart(...)"
      ]
     },
     "execution_count": 55,
     "metadata": {},
     "output_type": "execute_result"
    }
   ],
   "source": [
    "freq_labels = freq_labels.reset_index()\n",
    "alt.Chart(freq_labels.head(30)).mark_bar().encode(\n",
    "    x=alt.X('count', axis=alt.Axis(title='Model')),\n",
    "    y=alt.Y('labels', axis=alt.Axis(title='Count'),sort=(alt.EncodingSortField(field='labels', op='count', order='ascending'))),\n",
    "    tooltip = 'count',\n",
    ").interactive().properties(\n",
    "    width=600,\n",
    "    height=300\n",
    ")"
   ]
  },
  {
   "cell_type": "markdown",
   "metadata": {},
   "source": [
    "Here we can see the whole data set, and as we can see that the car model with the fewest amount of pictures still has 24 entries."
   ]
  },
  {
   "cell_type": "code",
   "execution_count": 56,
   "metadata": {},
   "outputs": [
    {
     "name": "stderr",
     "output_type": "stream",
     "text": [
      "c:\\Users\\Peter\\Documents\\GitHub\\car-license-plate-recognition-clean\\.venv\\lib\\site-packages\\altair\\utils\\core.py:317: FutureWarning: iteritems is deprecated and will be removed in a future version. Use .items instead.\n",
      "  for col_name, dtype in df.dtypes.iteritems():\n"
     ]
    },
    {
     "data": {
      "text/html": [
       "\n",
       "<div id=\"altair-viz-fe35e38a743449e4bb59fdab8431414f\"></div>\n",
       "<script type=\"text/javascript\">\n",
       "  var VEGA_DEBUG = (typeof VEGA_DEBUG == \"undefined\") ? {} : VEGA_DEBUG;\n",
       "  (function(spec, embedOpt){\n",
       "    let outputDiv = document.currentScript.previousElementSibling;\n",
       "    if (outputDiv.id !== \"altair-viz-fe35e38a743449e4bb59fdab8431414f\") {\n",
       "      outputDiv = document.getElementById(\"altair-viz-fe35e38a743449e4bb59fdab8431414f\");\n",
       "    }\n",
       "    const paths = {\n",
       "      \"vega\": \"https://cdn.jsdelivr.net/npm//vega@5?noext\",\n",
       "      \"vega-lib\": \"https://cdn.jsdelivr.net/npm//vega-lib?noext\",\n",
       "      \"vega-lite\": \"https://cdn.jsdelivr.net/npm//vega-lite@4.17.0?noext\",\n",
       "      \"vega-embed\": \"https://cdn.jsdelivr.net/npm//vega-embed@6?noext\",\n",
       "    };\n",
       "\n",
       "    function maybeLoadScript(lib, version) {\n",
       "      var key = `${lib.replace(\"-\", \"\")}_version`;\n",
       "      return (VEGA_DEBUG[key] == version) ?\n",
       "        Promise.resolve(paths[lib]) :\n",
       "        new Promise(function(resolve, reject) {\n",
       "          var s = document.createElement('script');\n",
       "          document.getElementsByTagName(\"head\")[0].appendChild(s);\n",
       "          s.async = true;\n",
       "          s.onload = () => {\n",
       "            VEGA_DEBUG[key] = version;\n",
       "            return resolve(paths[lib]);\n",
       "          };\n",
       "          s.onerror = () => reject(`Error loading script: ${paths[lib]}`);\n",
       "          s.src = paths[lib];\n",
       "        });\n",
       "    }\n",
       "\n",
       "    function showError(err) {\n",
       "      outputDiv.innerHTML = `<div class=\"error\" style=\"color:red;\">${err}</div>`;\n",
       "      throw err;\n",
       "    }\n",
       "\n",
       "    function displayChart(vegaEmbed) {\n",
       "      vegaEmbed(outputDiv, spec, embedOpt)\n",
       "        .catch(err => showError(`Javascript Error: ${err.message}<br>This usually means there's a typo in your chart specification. See the javascript console for the full traceback.`));\n",
       "    }\n",
       "\n",
       "    if(typeof define === \"function\" && define.amd) {\n",
       "      requirejs.config({paths});\n",
       "      require([\"vega-embed\"], displayChart, err => showError(`Error loading script: ${err.message}`));\n",
       "    } else {\n",
       "      maybeLoadScript(\"vega\", \"5\")\n",
       "        .then(() => maybeLoadScript(\"vega-lite\", \"4.17.0\"))\n",
       "        .then(() => maybeLoadScript(\"vega-embed\", \"6\"))\n",
       "        .catch(showError)\n",
       "        .then(() => displayChart(vegaEmbed));\n",
       "    }\n",
       "  })({\"config\": {\"view\": {\"continuousWidth\": 400, \"continuousHeight\": 300}}, \"data\": {\"name\": \"data-87b8ae8a4eefd1b19ed7e6f2ea314099\"}, \"mark\": \"bar\", \"encoding\": {\"tooltip\": {\"field\": \"count\", \"type\": \"quantitative\"}, \"x\": {\"axis\": {\"labels\": false, \"title\": \"Count\"}, \"field\": \"labels\", \"sort\": {\"field\": \"labels\", \"op\": \"count\", \"order\": \"ascending\"}, \"type\": \"nominal\"}, \"y\": {\"axis\": {\"title\": \"Model\"}, \"field\": \"count\", \"type\": \"quantitative\"}}, \"height\": 300, \"selection\": {\"selector002\": {\"type\": \"interval\", \"bind\": \"scales\", \"encodings\": [\"x\", \"y\"]}}, \"width\": 600, \"$schema\": \"https://vega.github.io/schema/vega-lite/v4.17.0.json\", \"datasets\": {\"data-87b8ae8a4eefd1b19ed7e6f2ea314099\": [{\"labels\": \"gmc yukon hybrid suv 2012\", \"count\": 68}, {\"labels\": \"chrysler crossfire convertible 2008\", \"count\": 49}, {\"labels\": \"nissan leaf hatchback 2012\", \"count\": 48}, {\"labels\": \"mercedes-benz c-class sedan 2012\", \"count\": 48}, {\"labels\": \"chevrolet corvette ron fellows edition z06 2007\", \"count\": 47}, {\"labels\": \"jeep patriot suv 2012\", \"count\": 47}, {\"labels\": \"volvo xc90 suv 2007\", \"count\": 46}, {\"labels\": \"dodge charger sedan 2012\", \"count\": 46}, {\"labels\": \"mercedes-benz sl-class coupe 2009\", \"count\": 46}, {\"labels\": \"bentley continental flying spur sedan 2007\", \"count\": 46}, {\"labels\": \"suzuki sx4 hatchback 2012\", \"count\": 46}, {\"labels\": \"plymouth neon coupe 1999\", \"count\": 46}, {\"labels\": \"audi s5 convertible 2012\", \"count\": 46}, {\"labels\": \"volkswagen beetle hatchback 2012\", \"count\": 46}, {\"labels\": \"fiat 500 abarth 2012\", \"count\": 46}, {\"labels\": \"ford f-150 regular cab 2012\", \"count\": 46}, {\"labels\": \"dodge caliber wagon 2012\", \"count\": 45}, {\"labels\": \"ford e-series wagon van 2012\", \"count\": 45}, {\"labels\": \"gmc canyon extended cab 2012\", \"count\": 45}, {\"labels\": \"bugatti veyron 16.4 convertible 2009\", \"count\": 45}, {\"labels\": \"mercedes-benz sprinter van 2012\", \"count\": 45}, {\"labels\": \"ford freestar minivan 2007\", \"count\": 45}, {\"labels\": \"ford focus sedan 2007\", \"count\": 45}, {\"labels\": \"chevrolet cobalt ss 2010\", \"count\": 45}, {\"labels\": \"ford edge suv 2012\", \"count\": 45}, {\"labels\": \"land rover range rover suv 2012\", \"count\": 45}, {\"labels\": \"daewoo nubira wagon 2002\", \"count\": 45}, {\"labels\": \"chevrolet malibu sedan 2007\", \"count\": 45}, {\"labels\": \"chevrolet silverado 1500 extended cab 2012\", \"count\": 45}, {\"labels\": \"chevrolet silverado 1500 hybrid crew cab 2012\", \"count\": 45}, {\"labels\": \"hummer h3t crew cab 2010\", \"count\": 45}, {\"labels\": \"jeep grand cherokee suv 2012\", \"count\": 45}, {\"labels\": \"acura rl sedan 2012\", \"count\": 45}, {\"labels\": \"jeep compass suv 2012\", \"count\": 45}, {\"labels\": \"bmw m5 sedan 2010\", \"count\": 45}, {\"labels\": \"chevrolet hhr ss 2010\", \"count\": 45}, {\"labels\": \"audi tt rs coupe 2012\", \"count\": 45}, {\"labels\": \"spyker c8 coupe 2009\", \"count\": 45}, {\"labels\": \"acura zdx hatchback 2012\", \"count\": 45}, {\"labels\": \"aston martin v8 vantage coupe 2012\", \"count\": 45}, {\"labels\": \"scion xd hatchback 2012\", \"count\": 44}, {\"labels\": \"chevrolet silverado 1500 regular cab 2012\", \"count\": 44}, {\"labels\": \"dodge ram pickup 3500 crew cab 2010\", \"count\": 44}, {\"labels\": \"lamborghini gallardo lp 570-4 superleggera 2012\", \"count\": 44}, {\"labels\": \"dodge sprinter cargo van 2009\", \"count\": 44}, {\"labels\": \"audi 100 sedan 1994\", \"count\": 44}, {\"labels\": \"jeep wrangler suv 2012\", \"count\": 44}, {\"labels\": \"chevrolet express cargo van 2007\", \"count\": 44}, {\"labels\": \"honda odyssey minivan 2012\", \"count\": 44}, {\"labels\": \"toyota 4runner suv 2012\", \"count\": 44}, {\"labels\": \"mercedes-benz 300-class convertible 1993\", \"count\": 44}, {\"labels\": \"chevrolet camaro convertible 2012\", \"count\": 44}, {\"labels\": \"chrysler sebring convertible 2010\", \"count\": 44}, {\"labels\": \"dodge durango suv 2007\", \"count\": 44}, {\"labels\": \"mercedes-benz s-class sedan 2012\", \"count\": 44}, {\"labels\": \"dodge dakota crew cab 2010\", \"count\": 44}, {\"labels\": \"buick regal gs 2012\", \"count\": 44}, {\"labels\": \"ford f-450 super duty crew cab 2012\", \"count\": 44}, {\"labels\": \"ram c/v cargo van minivan 2012\", \"count\": 44}, {\"labels\": \"hyundai sonata sedan 2012\", \"count\": 44}, {\"labels\": \"porsche panamera sedan 2012\", \"count\": 44}, {\"labels\": \"nissan 240sx coupe 1998\", \"count\": 44}, {\"labels\": \"toyota corolla sedan 2012\", \"count\": 44}, {\"labels\": \"bmw x5 suv 2007\", \"count\": 44}, {\"labels\": \"hyundai veracruz suv 2012\", \"count\": 44}, {\"labels\": \"chrysler aspen suv 2009\", \"count\": 44}, {\"labels\": \"ford expedition el suv 2009\", \"count\": 44}, {\"labels\": \"fisker karma sedan 2012\", \"count\": 43}, {\"labels\": \"hyundai azera sedan 2012\", \"count\": 43}, {\"labels\": \"dodge ram pickup 3500 quad cab 2009\", \"count\": 43}, {\"labels\": \"volkswagen golf hatchback 1991\", \"count\": 43}, {\"labels\": \"ford f-150 regular cab 2007\", \"count\": 43}, {\"labels\": \"acura tl type-s 2008\", \"count\": 43}, {\"labels\": \"ford ranger supercab 2011\", \"count\": 43}, {\"labels\": \"gmc acadia suv 2012\", \"count\": 43}, {\"labels\": \"volvo c30 hatchback 2012\", \"count\": 43}, {\"labels\": \"audi r8 coupe 2012\", \"count\": 43}, {\"labels\": \"gmc terrain suv 2012\", \"count\": 43}, {\"labels\": \"lincoln town car sedan 2011\", \"count\": 43}, {\"labels\": \"buick verano sedan 2012\", \"count\": 43}, {\"labels\": \"land rover lr2 suv 2012\", \"count\": 43}, {\"labels\": \"lamborghini reventon coupe 2008\", \"count\": 43}, {\"labels\": \"suzuki aerio sedan 2007\", \"count\": 43}, {\"labels\": \"smart fortwo convertible 2012\", \"count\": 43}, {\"labels\": \"audi tt hatchback 2011\", \"count\": 43}, {\"labels\": \"chevrolet tahoe hybrid suv 2012\", \"count\": 43}, {\"labels\": \"cadillac srx suv 2012\", \"count\": 43}, {\"labels\": \"jeep liberty suv 2012\", \"count\": 43}, {\"labels\": \"bmw 3 series wagon 2012\", \"count\": 43}, {\"labels\": \"chevrolet express van 2007\", \"count\": 43}, {\"labels\": \"audi s4 sedan 2012\", \"count\": 43}, {\"labels\": \"chrysler pt cruiser convertible 2008\", \"count\": 43}, {\"labels\": \"audi v8 sedan 1994\", \"count\": 43}, {\"labels\": \"cadillac cts-v sedan 2012\", \"count\": 42}, {\"labels\": \"volvo 240 sedan 1993\", \"count\": 42}, {\"labels\": \"bmw 6 series convertible 2007\", \"count\": 42}, {\"labels\": \"honda odyssey minivan 2007\", \"count\": 42}, {\"labels\": \"acura tsx sedan 2012\", \"count\": 42}, {\"labels\": \"ford mustang convertible 2007\", \"count\": 42}, {\"labels\": \"bmw x6 suv 2012\", \"count\": 42}, {\"labels\": \"nissan nv passenger van 2012\", \"count\": 42}, {\"labels\": \"gmc savana van 2012\", \"count\": 42}, {\"labels\": \"ford gt coupe 2006\", \"count\": 42}, {\"labels\": \"ferrari california convertible 2012\", \"count\": 42}, {\"labels\": \"spyker c8 convertible 2009\", \"count\": 42}, {\"labels\": \"hyundai sonata hybrid sedan 2012\", \"count\": 42}, {\"labels\": \"infiniti g coupe ipl 2012\", \"count\": 42}, {\"labels\": \"dodge caravan minivan 1997\", \"count\": 42}, {\"labels\": \"audi s5 coupe 2012\", \"count\": 42}, {\"labels\": \"hyundai tucson suv 2012\", \"count\": 42}, {\"labels\": \"suzuki sx4 sedan 2012\", \"count\": 42}, {\"labels\": \"bmw m3 coupe 2012\", \"count\": 42}, {\"labels\": \"chevrolet malibu hybrid sedan 2010\", \"count\": 42}, {\"labels\": \"eagle talon hatchback 1998\", \"count\": 42}, {\"labels\": \"hyundai accent sedan 2012\", \"count\": 42}, {\"labels\": \"volkswagen golf hatchback 2012\", \"count\": 41}, {\"labels\": \"hyundai santa fe suv 2012\", \"count\": 41}, {\"labels\": \"rolls-royce phantom drophead coupe convertible 2012\", \"count\": 41}, {\"labels\": \"honda accord coupe 2012\", \"count\": 41}, {\"labels\": \"tesla model s sedan 2012\", \"count\": 41}, {\"labels\": \"mitsubishi lancer sedan 2012\", \"count\": 41}, {\"labels\": \"acura integra type r 2001\", \"count\": 41}, {\"labels\": \"chrysler town and country minivan 2012\", \"count\": 41}, {\"labels\": \"aston martin virage convertible 2012\", \"count\": 41}, {\"labels\": \"audi 100 wagon 1994\", \"count\": 41}, {\"labels\": \"dodge caliber wagon 2007\", \"count\": 41}, {\"labels\": \"audi s6 sedan 2011\", \"count\": 41}, {\"labels\": \"audi tts coupe 2012\", \"count\": 41}, {\"labels\": \"bentley continental supersports conv. convertible 2012\", \"count\": 41}, {\"labels\": \"bmw 3 series sedan 2012\", \"count\": 41}, {\"labels\": \"bmw m6 convertible 2010\", \"count\": 41}, {\"labels\": \"bmw x3 suv 2012\", \"count\": 41}, {\"labels\": \"cadillac escalade ext crew cab 2007\", \"count\": 41}, {\"labels\": \"dodge dakota club cab 2007\", \"count\": 41}, {\"labels\": \"dodge charger srt-8 2009\", \"count\": 41}, {\"labels\": \"chevrolet corvette zr1 2012\", \"count\": 40}, {\"labels\": \"chevrolet silverado 2500hd regular cab 2012\", \"count\": 40}, {\"labels\": \"geo metro convertible 1993\", \"count\": 40}, {\"labels\": \"jaguar xk xkr 2012\", \"count\": 40}, {\"labels\": \"audi s4 sedan 2007\", \"count\": 40}, {\"labels\": \"bmw activehybrid 5 sedan 2012\", \"count\": 40}, {\"labels\": \"chevrolet corvette convertible 2012\", \"count\": 40}, {\"labels\": \"dodge journey suv 2012\", \"count\": 40}, {\"labels\": \"ferrari 458 italia coupe 2012\", \"count\": 40}, {\"labels\": \"dodge challenger srt8 2011\", \"count\": 40}, {\"labels\": \"hyundai elantra touring hatchback 2012\", \"count\": 40}, {\"labels\": \"honda accord sedan 2012\", \"count\": 39}, {\"labels\": \"aston martin v8 vantage convertible 2012\", \"count\": 39}, {\"labels\": \"toyota sequoia suv 2012\", \"count\": 39}, {\"labels\": \"toyota camry sedan 2012\", \"count\": 39}, {\"labels\": \"hummer h2 sut crew cab 2009\", \"count\": 39}, {\"labels\": \"dodge magnum wagon 2008\", \"count\": 39}, {\"labels\": \"bentley mulsanne sedan 2011\", \"count\": 39}, {\"labels\": \"rolls-royce phantom sedan 2012\", \"count\": 39}, {\"labels\": \"nissan juke hatchback 2012\", \"count\": 39}, {\"labels\": \"bmw z4 convertible 2012\", \"count\": 39}, {\"labels\": \"mini cooper roadster convertible 2012\", \"count\": 39}, {\"labels\": \"dodge durango suv 2012\", \"count\": 39}, {\"labels\": \"ferrari 458 italia convertible 2012\", \"count\": 39}, {\"labels\": \"chevrolet trailblazer ss 2009\", \"count\": 39}, {\"labels\": \"hyundai veloster hatchback 2012\", \"count\": 39}, {\"labels\": \"ford fiesta sedan 2012\", \"count\": 38}, {\"labels\": \"audi rs 4 convertible 2008\", \"count\": 38}, {\"labels\": \"suzuki kizashi sedan 2012\", \"count\": 38}, {\"labels\": \"chevrolet silverado 1500 classic extended cab 2007\", \"count\": 38}, {\"labels\": \"chevrolet traverse suv 2012\", \"count\": 38}, {\"labels\": \"buick enclave suv 2012\", \"count\": 38}, {\"labels\": \"chrysler 300 srt-8 2010\", \"count\": 38}, {\"labels\": \"audi a5 coupe 2012\", \"count\": 37}, {\"labels\": \"chevrolet sonic sedan 2012\", \"count\": 37}, {\"labels\": \"bentley arnage sedan 2009\", \"count\": 37}, {\"labels\": \"mercedes-benz e-class sedan 2012\", \"count\": 37}, {\"labels\": \"maybach landaulet convertible 2012\", \"count\": 37}, {\"labels\": \"chevrolet impala sedan 2007\", \"count\": 37}, {\"labels\": \"bmw 1 series coupe 2012\", \"count\": 36}, {\"labels\": \"bentley continental gt coupe 2012\", \"count\": 36}, {\"labels\": \"lamborghini aventador coupe 2012\", \"count\": 36}, {\"labels\": \"mclaren mp4-12c coupe 2012\", \"count\": 36}, {\"labels\": \"lamborghini diablo coupe 2001\", \"count\": 36}, {\"labels\": \"chevrolet monte carlo coupe 2007\", \"count\": 35}, {\"labels\": \"bentley continental gt coupe 2007\", \"count\": 35}, {\"labels\": \"buick rainier suv 2007\", \"count\": 35}, {\"labels\": \"bmw 1 series convertible 2012\", \"count\": 34}, {\"labels\": \"hyundai elantra sedan 2007\", \"count\": 34}, {\"labels\": \"ferrari ff coupe 2012\", \"count\": 34}, {\"labels\": \"infiniti qx56 suv 2011\", \"count\": 34}, {\"labels\": \"aston martin virage coupe 2012\", \"count\": 33}, {\"labels\": \"isuzu ascender suv 2008\", \"count\": 33}, {\"labels\": \"bugatti veyron 16.4 coupe 2009\", \"count\": 33}, {\"labels\": \"acura tl sedan 2012\", \"count\": 32}, {\"labels\": \"rolls-royce ghost sedan 2012\", \"count\": 31}, {\"labels\": \"chevrolet avalanche crew cab 2012\", \"count\": 30}, {\"labels\": \"mazda tribute suv 2011\", \"count\": 29}, {\"labels\": \"fiat 500 convertible 2012\", \"count\": 28}, {\"labels\": \"hyundai genesis sedan 2012\", \"count\": 24}]}}, {\"mode\": \"vega-lite\"});\n",
       "</script>"
      ],
      "text/plain": [
       "alt.Chart(...)"
      ]
     },
     "execution_count": 56,
     "metadata": {},
     "output_type": "execute_result"
    }
   ],
   "source": [
    "alt.Chart(freq_labels).mark_bar().encode(\n",
    "    x=alt.X('labels', axis=alt.Axis(title='Count',labels=False),sort=(alt.EncodingSortField(field='labels', op='count', order='ascending'))),\n",
    "    y=alt.Y('count', axis=alt.Axis(title='Model')),\n",
    "    tooltip = 'count',\n",
    ").interactive().properties(\n",
    "    width=600,\n",
    "    height=300\n",
    ")"
   ]
  },
  {
   "cell_type": "markdown",
   "metadata": {},
   "source": [
    "### Model years in df"
   ]
  },
  {
   "cell_type": "code",
   "execution_count": 57,
   "metadata": {},
   "outputs": [
    {
     "data": {
      "text/html": [
       "<div>\n",
       "<style scoped>\n",
       "    .dataframe tbody tr th:only-of-type {\n",
       "        vertical-align: middle;\n",
       "    }\n",
       "\n",
       "    .dataframe tbody tr th {\n",
       "        vertical-align: top;\n",
       "    }\n",
       "\n",
       "    .dataframe thead th {\n",
       "        text-align: right;\n",
       "    }\n",
       "</style>\n",
       "<table border=\"1\" class=\"dataframe\">\n",
       "  <thead>\n",
       "    <tr style=\"text-align: right;\">\n",
       "      <th></th>\n",
       "      <th>count</th>\n",
       "    </tr>\n",
       "    <tr>\n",
       "      <th>year</th>\n",
       "      <th></th>\n",
       "    </tr>\n",
       "  </thead>\n",
       "  <tbody>\n",
       "    <tr>\n",
       "      <th>2012</th>\n",
       "      <td>4856</td>\n",
       "    </tr>\n",
       "    <tr>\n",
       "      <th>2007</th>\n",
       "      <td>1038</td>\n",
       "    </tr>\n",
       "    <tr>\n",
       "      <th>2009</th>\n",
       "      <td>542</td>\n",
       "    </tr>\n",
       "    <tr>\n",
       "      <th>2010</th>\n",
       "      <td>433</td>\n",
       "    </tr>\n",
       "    <tr>\n",
       "      <th>2011</th>\n",
       "      <td>312</td>\n",
       "    </tr>\n",
       "    <tr>\n",
       "      <th>2008</th>\n",
       "      <td>288</td>\n",
       "    </tr>\n",
       "    <tr>\n",
       "      <th>1994</th>\n",
       "      <td>128</td>\n",
       "    </tr>\n",
       "    <tr>\n",
       "      <th>1993</th>\n",
       "      <td>126</td>\n",
       "    </tr>\n",
       "    <tr>\n",
       "      <th>1998</th>\n",
       "      <td>86</td>\n",
       "    </tr>\n",
       "    <tr>\n",
       "      <th>2001</th>\n",
       "      <td>77</td>\n",
       "    </tr>\n",
       "    <tr>\n",
       "      <th>1999</th>\n",
       "      <td>46</td>\n",
       "    </tr>\n",
       "    <tr>\n",
       "      <th>2002</th>\n",
       "      <td>45</td>\n",
       "    </tr>\n",
       "    <tr>\n",
       "      <th>1991</th>\n",
       "      <td>43</td>\n",
       "    </tr>\n",
       "    <tr>\n",
       "      <th>1997</th>\n",
       "      <td>42</td>\n",
       "    </tr>\n",
       "    <tr>\n",
       "      <th>2006</th>\n",
       "      <td>42</td>\n",
       "    </tr>\n",
       "  </tbody>\n",
       "</table>\n",
       "</div>"
      ],
      "text/plain": [
       "      count\n",
       "year       \n",
       "2012   4856\n",
       "2007   1038\n",
       "2009    542\n",
       "2010    433\n",
       "2011    312\n",
       "2008    288\n",
       "1994    128\n",
       "1993    126\n",
       "1998     86\n",
       "2001     77\n",
       "1999     46\n",
       "2002     45\n",
       "1991     43\n",
       "1997     42\n",
       "2006     42"
      ]
     },
     "execution_count": 57,
     "metadata": {},
     "output_type": "execute_result"
    }
   ],
   "source": [
    "freq_labels_year = df.groupby('year').count()[['labels']]\n",
    "freq_labels_year = freq_labels_year.rename(columns={'labels': 'count'})\n",
    "freq_labels_year = freq_labels_year.sort_values(by='count', ascending=False)\n",
    "freq_labels_year"
   ]
  },
  {
   "cell_type": "code",
   "execution_count": 58,
   "metadata": {},
   "outputs": [
    {
     "data": {
      "image/png": "[encoded data removed]",
      "text/plain": [
       "<Figure size 1000x500 with 1 Axes>"
      ]
     },
     "metadata": {},
     "output_type": "display_data"
    }
   ],
   "source": [
    "freq_labels_year.head(50).plot.bar(figsize=(10,5))\n",
    "plt.xlabel(\"Model Years\");\n",
    "plt.ylabel(\"Count\");"
   ]
  },
  {
   "cell_type": "markdown",
   "metadata": {},
   "source": [
    "### Car brand distribution"
   ]
  },
  {
   "cell_type": "code",
   "execution_count": 59,
   "metadata": {},
   "outputs": [
    {
     "data": {
      "text/html": [
       "<div>\n",
       "<style scoped>\n",
       "    .dataframe tbody tr th:only-of-type {\n",
       "        vertical-align: middle;\n",
       "    }\n",
       "\n",
       "    .dataframe tbody tr th {\n",
       "        vertical-align: top;\n",
       "    }\n",
       "\n",
       "    .dataframe thead th {\n",
       "        text-align: right;\n",
       "    }\n",
       "</style>\n",
       "<table border=\"1\" class=\"dataframe\">\n",
       "  <thead>\n",
       "    <tr style=\"text-align: right;\">\n",
       "      <th></th>\n",
       "      <th>count</th>\n",
       "    </tr>\n",
       "    <tr>\n",
       "      <th>brand</th>\n",
       "      <th></th>\n",
       "    </tr>\n",
       "  </thead>\n",
       "  <tbody>\n",
       "    <tr>\n",
       "      <th>chevrolet</th>\n",
       "      <td>906</td>\n",
       "    </tr>\n",
       "    <tr>\n",
       "      <th>dodge</th>\n",
       "      <td>633</td>\n",
       "    </tr>\n",
       "    <tr>\n",
       "      <th>audi</th>\n",
       "      <td>587</td>\n",
       "    </tr>\n",
       "    <tr>\n",
       "      <th>bmw</th>\n",
       "      <td>530</td>\n",
       "    </tr>\n",
       "    <tr>\n",
       "      <th>ford</th>\n",
       "      <td>522</td>\n",
       "    </tr>\n",
       "    <tr>\n",
       "      <th>hyundai</th>\n",
       "      <td>435</td>\n",
       "    </tr>\n",
       "    <tr>\n",
       "      <th>mercedes-benz</th>\n",
       "      <td>264</td>\n",
       "    </tr>\n",
       "    <tr>\n",
       "      <th>chrysler</th>\n",
       "      <td>259</td>\n",
       "    </tr>\n",
       "    <tr>\n",
       "      <th>acura</th>\n",
       "      <td>248</td>\n",
       "    </tr>\n",
       "    <tr>\n",
       "      <th>gmc</th>\n",
       "      <td>241</td>\n",
       "    </tr>\n",
       "    <tr>\n",
       "      <th>bentley</th>\n",
       "      <td>234</td>\n",
       "    </tr>\n",
       "    <tr>\n",
       "      <th>jeep</th>\n",
       "      <td>224</td>\n",
       "    </tr>\n",
       "    <tr>\n",
       "      <th>nissan</th>\n",
       "      <td>173</td>\n",
       "    </tr>\n",
       "    <tr>\n",
       "      <th>suzuki</th>\n",
       "      <td>169</td>\n",
       "    </tr>\n",
       "    <tr>\n",
       "      <th>toyota</th>\n",
       "      <td>166</td>\n",
       "    </tr>\n",
       "    <tr>\n",
       "      <th>honda</th>\n",
       "      <td>166</td>\n",
       "    </tr>\n",
       "    <tr>\n",
       "      <th>buick</th>\n",
       "      <td>160</td>\n",
       "    </tr>\n",
       "    <tr>\n",
       "      <th>lamborghini</th>\n",
       "      <td>159</td>\n",
       "    </tr>\n",
       "    <tr>\n",
       "      <th>aston</th>\n",
       "      <td>158</td>\n",
       "    </tr>\n",
       "    <tr>\n",
       "      <th>ferrari</th>\n",
       "      <td>155</td>\n",
       "    </tr>\n",
       "    <tr>\n",
       "      <th>volvo</th>\n",
       "      <td>131</td>\n",
       "    </tr>\n",
       "    <tr>\n",
       "      <th>volkswagen</th>\n",
       "      <td>130</td>\n",
       "    </tr>\n",
       "    <tr>\n",
       "      <th>cadillac</th>\n",
       "      <td>126</td>\n",
       "    </tr>\n",
       "    <tr>\n",
       "      <th>rolls-royce</th>\n",
       "      <td>111</td>\n",
       "    </tr>\n",
       "    <tr>\n",
       "      <th>land</th>\n",
       "      <td>88</td>\n",
       "    </tr>\n",
       "    <tr>\n",
       "      <th>spyker</th>\n",
       "      <td>87</td>\n",
       "    </tr>\n",
       "    <tr>\n",
       "      <th>hummer</th>\n",
       "      <td>84</td>\n",
       "    </tr>\n",
       "    <tr>\n",
       "      <th>bugatti</th>\n",
       "      <td>78</td>\n",
       "    </tr>\n",
       "    <tr>\n",
       "      <th>infiniti</th>\n",
       "      <td>76</td>\n",
       "    </tr>\n",
       "    <tr>\n",
       "      <th>fiat</th>\n",
       "      <td>74</td>\n",
       "    </tr>\n",
       "    <tr>\n",
       "      <th>plymouth</th>\n",
       "      <td>46</td>\n",
       "    </tr>\n",
       "    <tr>\n",
       "      <th>daewoo</th>\n",
       "      <td>45</td>\n",
       "    </tr>\n",
       "    <tr>\n",
       "      <th>scion</th>\n",
       "      <td>44</td>\n",
       "    </tr>\n",
       "    <tr>\n",
       "      <th>porsche</th>\n",
       "      <td>44</td>\n",
       "    </tr>\n",
       "    <tr>\n",
       "      <th>ram</th>\n",
       "      <td>44</td>\n",
       "    </tr>\n",
       "    <tr>\n",
       "      <th>fisker</th>\n",
       "      <td>43</td>\n",
       "    </tr>\n",
       "    <tr>\n",
       "      <th>lincoln</th>\n",
       "      <td>43</td>\n",
       "    </tr>\n",
       "    <tr>\n",
       "      <th>smart</th>\n",
       "      <td>43</td>\n",
       "    </tr>\n",
       "    <tr>\n",
       "      <th>eagle</th>\n",
       "      <td>42</td>\n",
       "    </tr>\n",
       "    <tr>\n",
       "      <th>tesla</th>\n",
       "      <td>41</td>\n",
       "    </tr>\n",
       "    <tr>\n",
       "      <th>mitsubishi</th>\n",
       "      <td>41</td>\n",
       "    </tr>\n",
       "    <tr>\n",
       "      <th>geo</th>\n",
       "      <td>40</td>\n",
       "    </tr>\n",
       "    <tr>\n",
       "      <th>jaguar</th>\n",
       "      <td>40</td>\n",
       "    </tr>\n",
       "    <tr>\n",
       "      <th>mini</th>\n",
       "      <td>39</td>\n",
       "    </tr>\n",
       "    <tr>\n",
       "      <th>maybach</th>\n",
       "      <td>37</td>\n",
       "    </tr>\n",
       "    <tr>\n",
       "      <th>mclaren</th>\n",
       "      <td>36</td>\n",
       "    </tr>\n",
       "    <tr>\n",
       "      <th>isuzu</th>\n",
       "      <td>33</td>\n",
       "    </tr>\n",
       "    <tr>\n",
       "      <th>mazda</th>\n",
       "      <td>29</td>\n",
       "    </tr>\n",
       "  </tbody>\n",
       "</table>\n",
       "</div>"
      ],
      "text/plain": [
       "               count\n",
       "brand               \n",
       "chevrolet        906\n",
       "dodge            633\n",
       "audi             587\n",
       "bmw              530\n",
       "ford             522\n",
       "hyundai          435\n",
       "mercedes-benz    264\n",
       "chrysler         259\n",
       "acura            248\n",
       "gmc              241\n",
       "bentley          234\n",
       "jeep             224\n",
       "nissan           173\n",
       "suzuki           169\n",
       "toyota           166\n",
       "honda            166\n",
       "buick            160\n",
       "lamborghini      159\n",
       "aston            158\n",
       "ferrari          155\n",
       "volvo            131\n",
       "volkswagen       130\n",
       "cadillac         126\n",
       "rolls-royce      111\n",
       "land              88\n",
       "spyker            87\n",
       "hummer            84\n",
       "bugatti           78\n",
       "infiniti          76\n",
       "fiat              74\n",
       "plymouth          46\n",
       "daewoo            45\n",
       "scion             44\n",
       "porsche           44\n",
       "ram               44\n",
       "fisker            43\n",
       "lincoln           43\n",
       "smart             43\n",
       "eagle             42\n",
       "tesla             41\n",
       "mitsubishi        41\n",
       "geo               40\n",
       "jaguar            40\n",
       "mini              39\n",
       "maybach           37\n",
       "mclaren           36\n",
       "isuzu             33\n",
       "mazda             29"
      ]
     },
     "execution_count": 59,
     "metadata": {},
     "output_type": "execute_result"
    }
   ],
   "source": [
    "freq_labels_brand = df.groupby('brand').count()[['labels']]\n",
    "freq_labels_brand = freq_labels_brand.rename(columns={'labels': 'count'})\n",
    "freq_labels_brand = freq_labels_brand.sort_values(by='count', ascending=False)\n",
    "freq_labels_brand"
   ]
  },
  {
   "cell_type": "code",
   "execution_count": 60,
   "metadata": {},
   "outputs": [
    {
     "data": {
      "image/png": "[encoded data removed]",
      "text/plain": [
       "<Figure size 1000x500 with 1 Axes>"
      ]
     },
     "metadata": {},
     "output_type": "display_data"
    }
   ],
   "source": [
    "freq_labels_brand.head(50).plot.bar(figsize=(10,5))\n",
    "plt.xlabel(\"Brands\");\n",
    "plt.ylabel(\"Count\");"
   ]
  },
  {
   "cell_type": "markdown",
   "metadata": {},
   "source": [
    "### Unique labels"
   ]
  },
  {
   "cell_type": "code",
   "execution_count": 61,
   "metadata": {},
   "outputs": [
    {
     "data": {
      "text/html": [
       "<div>\n",
       "<style scoped>\n",
       "    .dataframe tbody tr th:only-of-type {\n",
       "        vertical-align: middle;\n",
       "    }\n",
       "\n",
       "    .dataframe tbody tr th {\n",
       "        vertical-align: top;\n",
       "    }\n",
       "\n",
       "    .dataframe thead th {\n",
       "        text-align: right;\n",
       "    }\n",
       "</style>\n",
       "<table border=\"1\" class=\"dataframe\">\n",
       "  <thead>\n",
       "    <tr style=\"text-align: right;\">\n",
       "      <th></th>\n",
       "      <th>fnames</th>\n",
       "      <th>bbox_x1</th>\n",
       "      <th>bbox_x2</th>\n",
       "      <th>bbox_y1</th>\n",
       "      <th>bbox_y2</th>\n",
       "      <th>car_class</th>\n",
       "      <th>labels</th>\n",
       "      <th>labels_noyear</th>\n",
       "      <th>brand</th>\n",
       "      <th>model</th>\n",
       "      <th>type</th>\n",
       "      <th>year</th>\n",
       "      <th>labels_notype</th>\n",
       "    </tr>\n",
       "  </thead>\n",
       "  <tbody>\n",
       "    <tr>\n",
       "      <th>0</th>\n",
       "      <td>00001.jpg</td>\n",
       "      <td>39</td>\n",
       "      <td>569</td>\n",
       "      <td>116</td>\n",
       "      <td>375</td>\n",
       "      <td>14</td>\n",
       "      <td>audi r8 coupe 2012</td>\n",
       "      <td>audi r8 coupe</td>\n",
       "      <td>audi</td>\n",
       "      <td>r8</td>\n",
       "      <td>coupe</td>\n",
       "      <td>2012</td>\n",
       "      <td>audi r8 2012</td>\n",
       "    </tr>\n",
       "    <tr>\n",
       "      <th>1</th>\n",
       "      <td>00002.jpg</td>\n",
       "      <td>36</td>\n",
       "      <td>868</td>\n",
       "      <td>116</td>\n",
       "      <td>587</td>\n",
       "      <td>3</td>\n",
       "      <td>acura tl type-s 2008</td>\n",
       "      <td>acura tl type-s</td>\n",
       "      <td>acura</td>\n",
       "      <td>tl</td>\n",
       "      <td>type-s</td>\n",
       "      <td>2008</td>\n",
       "      <td>acura tl 2008</td>\n",
       "    </tr>\n",
       "    <tr>\n",
       "      <th>2</th>\n",
       "      <td>00003.jpg</td>\n",
       "      <td>85</td>\n",
       "      <td>601</td>\n",
       "      <td>109</td>\n",
       "      <td>381</td>\n",
       "      <td>91</td>\n",
       "      <td>dodge magnum wagon 2008</td>\n",
       "      <td>dodge magnum wagon</td>\n",
       "      <td>dodge</td>\n",
       "      <td>magnum</td>\n",
       "      <td>wagon</td>\n",
       "      <td>2008</td>\n",
       "      <td>dodge magnum 2008</td>\n",
       "    </tr>\n",
       "    <tr>\n",
       "      <th>3</th>\n",
       "      <td>00004.jpg</td>\n",
       "      <td>621</td>\n",
       "      <td>1484</td>\n",
       "      <td>393</td>\n",
       "      <td>1096</td>\n",
       "      <td>134</td>\n",
       "      <td>hyundai elantra sedan 2007</td>\n",
       "      <td>hyundai elantra sedan</td>\n",
       "      <td>hyundai</td>\n",
       "      <td>elantra</td>\n",
       "      <td>sedan</td>\n",
       "      <td>2007</td>\n",
       "      <td>hyundai elantra 2007</td>\n",
       "    </tr>\n",
       "    <tr>\n",
       "      <th>4</th>\n",
       "      <td>00005.jpg</td>\n",
       "      <td>14</td>\n",
       "      <td>133</td>\n",
       "      <td>36</td>\n",
       "      <td>99</td>\n",
       "      <td>106</td>\n",
       "      <td>ford mustang convertible 2007</td>\n",
       "      <td>ford mustang convertible</td>\n",
       "      <td>ford</td>\n",
       "      <td>mustang</td>\n",
       "      <td>convertible</td>\n",
       "      <td>2007</td>\n",
       "      <td>ford mustang 2007</td>\n",
       "    </tr>\n",
       "    <tr>\n",
       "      <th>...</th>\n",
       "      <td>...</td>\n",
       "      <td>...</td>\n",
       "      <td>...</td>\n",
       "      <td>...</td>\n",
       "      <td>...</td>\n",
       "      <td>...</td>\n",
       "      <td>...</td>\n",
       "      <td>...</td>\n",
       "      <td>...</td>\n",
       "      <td>...</td>\n",
       "      <td>...</td>\n",
       "      <td>...</td>\n",
       "      <td>...</td>\n",
       "    </tr>\n",
       "    <tr>\n",
       "      <th>190</th>\n",
       "      <td>00670.jpg</td>\n",
       "      <td>97</td>\n",
       "      <td>455</td>\n",
       "      <td>49</td>\n",
       "      <td>326</td>\n",
       "      <td>2</td>\n",
       "      <td>acura tl sedan 2012</td>\n",
       "      <td>acura tl sedan</td>\n",
       "      <td>acura</td>\n",
       "      <td>tl</td>\n",
       "      <td>sedan</td>\n",
       "      <td>2012</td>\n",
       "      <td>acura tl 2012</td>\n",
       "    </tr>\n",
       "    <tr>\n",
       "      <th>191</th>\n",
       "      <td>00678.jpg</td>\n",
       "      <td>105</td>\n",
       "      <td>978</td>\n",
       "      <td>400</td>\n",
       "      <td>692</td>\n",
       "      <td>27</td>\n",
       "      <td>bmw 1 series coupe 2012</td>\n",
       "      <td>bmw 1 series coupe</td>\n",
       "      <td>bmw</td>\n",
       "      <td>1 series</td>\n",
       "      <td>coupe</td>\n",
       "      <td>2012</td>\n",
       "      <td>bmw 1 series 2012</td>\n",
       "    </tr>\n",
       "    <tr>\n",
       "      <th>192</th>\n",
       "      <td>00705.jpg</td>\n",
       "      <td>17</td>\n",
       "      <td>343</td>\n",
       "      <td>8</td>\n",
       "      <td>248</td>\n",
       "      <td>95</td>\n",
       "      <td>dodge charger sedan 2012</td>\n",
       "      <td>dodge charger sedan</td>\n",
       "      <td>dodge</td>\n",
       "      <td>charger</td>\n",
       "      <td>sedan</td>\n",
       "      <td>2012</td>\n",
       "      <td>dodge charger 2012</td>\n",
       "    </tr>\n",
       "    <tr>\n",
       "      <th>193</th>\n",
       "      <td>00792.jpg</td>\n",
       "      <td>155</td>\n",
       "      <td>532</td>\n",
       "      <td>59</td>\n",
       "      <td>361</td>\n",
       "      <td>35</td>\n",
       "      <td>bmw m6 convertible 2010</td>\n",
       "      <td>bmw m6 convertible</td>\n",
       "      <td>bmw</td>\n",
       "      <td>m6</td>\n",
       "      <td>convertible</td>\n",
       "      <td>2010</td>\n",
       "      <td>bmw m6 2010</td>\n",
       "    </tr>\n",
       "    <tr>\n",
       "      <th>194</th>\n",
       "      <td>00821.jpg</td>\n",
       "      <td>37</td>\n",
       "      <td>411</td>\n",
       "      <td>153</td>\n",
       "      <td>299</td>\n",
       "      <td>78</td>\n",
       "      <td>chrysler 300 srt-8 2010</td>\n",
       "      <td>chrysler 300 srt-8</td>\n",
       "      <td>chrysler</td>\n",
       "      <td>300</td>\n",
       "      <td>srt-8</td>\n",
       "      <td>2010</td>\n",
       "      <td>chrysler 300 2010</td>\n",
       "    </tr>\n",
       "  </tbody>\n",
       "</table>\n",
       "<p>195 rows × 13 columns</p>\n",
       "</div>"
      ],
      "text/plain": [
       "        fnames  bbox_x1  bbox_x2  bbox_y1  bbox_y2  car_class  \\\n",
       "0    00001.jpg       39      569      116      375         14   \n",
       "1    00002.jpg       36      868      116      587          3   \n",
       "2    00003.jpg       85      601      109      381         91   \n",
       "3    00004.jpg      621     1484      393     1096        134   \n",
       "4    00005.jpg       14      133       36       99        106   \n",
       "..         ...      ...      ...      ...      ...        ...   \n",
       "190  00670.jpg       97      455       49      326          2   \n",
       "191  00678.jpg      105      978      400      692         27   \n",
       "192  00705.jpg       17      343        8      248         95   \n",
       "193  00792.jpg      155      532       59      361         35   \n",
       "194  00821.jpg       37      411      153      299         78   \n",
       "\n",
       "                            labels             labels_noyear     brand  \\\n",
       "0               audi r8 coupe 2012             audi r8 coupe      audi   \n",
       "1             acura tl type-s 2008           acura tl type-s     acura   \n",
       "2          dodge magnum wagon 2008        dodge magnum wagon     dodge   \n",
       "3       hyundai elantra sedan 2007     hyundai elantra sedan   hyundai   \n",
       "4    ford mustang convertible 2007  ford mustang convertible      ford   \n",
       "..                             ...                       ...       ...   \n",
       "190            acura tl sedan 2012            acura tl sedan     acura   \n",
       "191        bmw 1 series coupe 2012        bmw 1 series coupe       bmw   \n",
       "192       dodge charger sedan 2012       dodge charger sedan     dodge   \n",
       "193        bmw m6 convertible 2010        bmw m6 convertible       bmw   \n",
       "194        chrysler 300 srt-8 2010        chrysler 300 srt-8  chrysler   \n",
       "\n",
       "        model         type  year         labels_notype  \n",
       "0          r8        coupe  2012          audi r8 2012  \n",
       "1          tl       type-s  2008         acura tl 2008  \n",
       "2      magnum        wagon  2008     dodge magnum 2008  \n",
       "3     elantra        sedan  2007  hyundai elantra 2007  \n",
       "4     mustang  convertible  2007     ford mustang 2007  \n",
       "..        ...          ...   ...                   ...  \n",
       "190        tl        sedan  2012         acura tl 2012  \n",
       "191  1 series        coupe  2012     bmw 1 series 2012  \n",
       "192   charger        sedan  2012    dodge charger 2012  \n",
       "193        m6  convertible  2010           bmw m6 2010  \n",
       "194       300        srt-8  2010     chrysler 300 2010  \n",
       "\n",
       "[195 rows x 13 columns]"
      ]
     },
     "execution_count": 61,
     "metadata": {},
     "output_type": "execute_result"
    }
   ],
   "source": [
    "df_unique = df.copy()\n",
    "df_unique = df_unique.drop_duplicates(subset=['car_class']).reset_index()\n",
    "df_unique = df_unique.drop('index',axis=1)\n",
    "df_unique"
   ]
  },
  {
   "cell_type": "markdown",
   "metadata": {},
   "source": [
    "Below we can see that there are 195 unique labels contained in the training data set, this means that there is one of the labels that does not have a picture in this data set."
   ]
  },
  {
   "cell_type": "code",
   "execution_count": 62,
   "metadata": {},
   "outputs": [
    {
     "data": {
      "text/plain": [
       "195"
      ]
     },
     "execution_count": 62,
     "metadata": {},
     "output_type": "execute_result"
    }
   ],
   "source": [
    "df_unique['labels'].count()"
   ]
  },
  {
   "cell_type": "code",
   "execution_count": 63,
   "metadata": {},
   "outputs": [
    {
     "data": {
      "text/plain": [
       "195"
      ]
     },
     "execution_count": 63,
     "metadata": {},
     "output_type": "execute_result"
    }
   ],
   "source": [
    "df_unique['labels_noyear'].count()"
   ]
  },
  {
   "cell_type": "markdown",
   "metadata": {},
   "source": [
    "## Google search"
   ]
  },
  {
   "cell_type": "code",
   "execution_count": 64,
   "metadata": {},
   "outputs": [],
   "source": [
    "def google_search(url):\n",
    "  url = url.replace(' ', '+')\n",
    "  link = \"https://www.google.com/search?tbm=isch&q=\" + url\n",
    "  return link"
   ]
  },
  {
   "cell_type": "code",
   "execution_count": 65,
   "metadata": {},
   "outputs": [
    {
     "data": {
      "text/plain": [
       "'https://www.google.com/search?tbm=isch&q=mercedes-benz+c-klasse+2013'"
      ]
     },
     "execution_count": 65,
     "metadata": {},
     "output_type": "execute_result"
    }
   ],
   "source": [
    "google_search(car_type)"
   ]
  },
  {
   "cell_type": "code",
   "execution_count": 1,
   "metadata": {},
   "outputs": [
    {
     "ename": "SyntaxError",
     "evalue": "unterminated string literal (detected at line 1) (3256243351.py, line 1)",
     "output_type": "error",
     "traceback": [
      "\u001b[1;36m  Cell \u001b[1;32mIn [1], line 1\u001b[1;36m\u001b[0m\n\u001b[1;33m    cars_path = Path(r'C:\\Users\\Peter\\Documents\\Coding\\cars_train\\cars_train)\u001b[0m\n\u001b[1;37m                     ^\u001b[0m\n\u001b[1;31mSyntaxError\u001b[0m\u001b[1;31m:\u001b[0m unterminated string literal (detected at line 1)\n"
     ]
    }
   ],
   "source": [
    "#cars_path\n",
    "#main_path ="
   ]
  },
  {
   "cell_type": "code",
   "execution_count": null,
   "metadata": {},
   "outputs": [],
   "source": [
    "def get_assets(car, i=0):\n",
    "    print(\"You've searched for: \" + car.title())\n",
    "    os.chdir(cars_path) #ensure that it's searching for the file in the right folder\n",
    "    search = df.index[df['labels']==car].tolist() #find all cars that matches the string containing car information\n",
    "    if not search:\n",
    "      # if statement to check if the car model is in the database or not, if not return image not available.\n",
    "        print('We do not have any images of this car in our database, here is a Google link: ' + google_search(car))\n",
    "        title = 'No image in our database'\n",
    "        image = Image.open(main_path/'no_image.jpg')\n",
    "        \n",
    "    else:\n",
    "        max_index = len(search)-1\n",
    "        if i > max_index:\n",
    "          search = search[max_index]\n",
    "        else: \n",
    "          search = search[i]\n",
    "        image = Image.open(df['fnames'][search])\n",
    "        title = df['labels'][search].title()\n",
    "\n",
    "    return (image, title)"
   ]
  }
 ],
 "metadata": {
  "kernelspec": {
   "display_name": "Python 3.10.8 ('.venv': venv)",
   "language": "python",
   "name": "python3"
  },
  "language_info": {
   "codemirror_mode": {
    "name": "ipython",
    "version": 3
   },
   "file_extension": ".py",
   "mimetype": "text/x-python",
   "name": "python",
   "nbconvert_exporter": "python",
   "pygments_lexer": "ipython3",
   "version": "3.10.8"
  },
  "orig_nbformat": 4,
  "vscode": {
   "interpreter": {
    "hash": "5ab9fb6a2bd0e070872031f19f584830d107e4c85255cd3ec8302672fc4f3dfa"
   }
  }
 },
 "nbformat": 4,
 "nbformat_minor": 2
}
